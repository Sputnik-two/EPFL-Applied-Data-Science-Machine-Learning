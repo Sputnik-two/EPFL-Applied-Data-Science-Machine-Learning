{
 "cells": [
  {
   "cell_type": "markdown",
   "metadata": {
    "tags": []
   },
   "source": [
    "# 02. Preparation Statistical Data and Spatial Categories\n",
    "__Capstone project: Duration of the insertion of real estate advertisements for rental apartments in Switzerland__"
   ]
  },
  {
   "cell_type": "code",
   "execution_count": 1,
   "metadata": {},
   "outputs": [],
   "source": [
    "%load_ext lab_black"
   ]
  },
  {
   "cell_type": "code",
   "execution_count": 2,
   "metadata": {},
   "outputs": [],
   "source": [
    "# import commands\n",
    "import pandas as pd\n",
    "import numpy as np\n",
    "import seaborn as sns\n",
    "import matplotlib.pyplot as plt"
   ]
  },
  {
   "cell_type": "code",
   "execution_count": 3,
   "metadata": {},
   "outputs": [
    {
     "data": {
      "text/plain": [
       "(921886, 21)"
      ]
     },
     "execution_count": 3,
     "metadata": {},
     "output_type": "execute_result"
    }
   ],
   "source": [
    "# I will once again import the advertisements from the file 01_Preparation_Advertisements\n",
    "import pandas as pd\n",
    "\n",
    "df = pd.read_csv(\n",
    "    \"Data/ads_after_eda.csv\",\n",
    "    delimiter=\",\",\n",
    "    dtype={\"Minergie\": \"str\", \"Rollstuhlgängig\": \"str\"},\n",
    ")  # specify the column types to avoid DtypeWarning\n",
    "\n",
    "# shape of the data\n",
    "df.shape"
   ]
  },
  {
   "cell_type": "markdown",
   "metadata": {},
   "source": [
    "## Statistical data on the housing market\n",
    "\n",
    "### The data\n",
    "\n",
    "Next to the advertisements I use 6 statistical data sets, which might have a correlation to the duration of insertion. They are all form the Federal Statisical Office ([FSO](https://www.bfs.admin.ch/bfs/en/home.html)) and have the same range of years as my advertisement data.\n",
    "\n",
    "* The first dataset is the population density, which includes the number of inhabitants per square kilometer of total land area. ([Link](https://www.atlas.bfs.admin.ch/maps/13/de/16217_75_3501_70/25233.html)).\n",
    "\n",
    "* The next dataset is about the percentage of people living in single-family homes out of the total population stock. No distinction is made between rental apartments versus condominiums. ([Link](https://www.atlas.bfs.admin.ch/maps/13/de/16308_12801_175_169/25394.htm)).\n",
    "\n",
    "* The next dataset is about the average household size in number of persons per community and year. ([Link](https://www.atlas.bfs.admin.ch/maps/13/de/16302_3046_3032_70/25379.html)).\n",
    "\n",
    "* The 4th dataset is about the new dwellings created per 1000 inhabitants in the year in question. New dwellings created through conversions are not counted. Again, no distinction is made between rental apartments versus condominiums.([Link](https://www.atlas.bfs.admin.ch/maps/13/de/16833_173_170_169/26190.html)).\n",
    "\n",
    "* The 5th dataset is about the proportion of 3 and 4 room apartments in total housing stock. Again, no distinction is made between rental apartments versus condominiums. ([Link](https://www.atlas.bfs.admin.ch/maps/13/de/16307_5762_175_169/25391.html)).\n",
    "\n",
    "* The last dataset is a yearly vacancy rate for every community in Switzerland. The vacancy rate is the percentage of vacant dwellings (target date: June 1) in the total housing stock of the previous year. In the vacancy census, vacant dwellings are those that are offered on the market for permanent rent or for sale. ([Link](https://www.atlas.bfs.admin.ch/maps/13/de/11110_178_175_169/18380.html)).\n",
    "\n"
   ]
  },
  {
   "cell_type": "markdown",
   "metadata": {},
   "source": [
    "__Population density__"
   ]
  },
  {
   "cell_type": "code",
   "execution_count": 4,
   "metadata": {},
   "outputs": [
    {
     "data": {
      "text/html": [
       "<div>\n",
       "<style scoped>\n",
       "    .dataframe tbody tr th:only-of-type {\n",
       "        vertical-align: middle;\n",
       "    }\n",
       "\n",
       "    .dataframe tbody tr th {\n",
       "        vertical-align: top;\n",
       "    }\n",
       "\n",
       "    .dataframe thead th {\n",
       "        text-align: right;\n",
       "    }\n",
       "</style>\n",
       "<table border=\"1\" class=\"dataframe\">\n",
       "  <thead>\n",
       "    <tr style=\"text-align: right;\">\n",
       "      <th></th>\n",
       "      <th>Regions-ID</th>\n",
       "      <th>Regionsname</th>\n",
       "      <th>Einwohner/innen pro km² Gesamtfläche</th>\n",
       "      <th>Jahr</th>\n",
       "    </tr>\n",
       "  </thead>\n",
       "  <tbody>\n",
       "    <tr>\n",
       "      <th>0</th>\n",
       "      <td>1</td>\n",
       "      <td>Aeugst am Albis</td>\n",
       "      <td>254.614412</td>\n",
       "      <td>2020</td>\n",
       "    </tr>\n",
       "    <tr>\n",
       "      <th>1</th>\n",
       "      <td>2</td>\n",
       "      <td>Affoltern am Albis</td>\n",
       "      <td>1160.434372</td>\n",
       "      <td>2020</td>\n",
       "    </tr>\n",
       "    <tr>\n",
       "      <th>2</th>\n",
       "      <td>3</td>\n",
       "      <td>Bonstetten</td>\n",
       "      <td>755.047106</td>\n",
       "      <td>2020</td>\n",
       "    </tr>\n",
       "  </tbody>\n",
       "</table>\n",
       "</div>"
      ],
      "text/plain": [
       "   Regions-ID         Regionsname  Einwohner/innen pro km² Gesamtfläche  Jahr\n",
       "0           1     Aeugst am Albis                            254.614412  2020\n",
       "1           2  Affoltern am Albis                           1160.434372  2020\n",
       "2           3          Bonstetten                            755.047106  2020"
      ]
     },
     "execution_count": 4,
     "metadata": {},
     "output_type": "execute_result"
    }
   ],
   "source": [
    "# import data\n",
    "pop_dens = pd.concat(\n",
    "    pd.read_excel(\"data/Bevölkerungsdichte.xlsx\", sheet_name=None), ignore_index=True\n",
    ")\n",
    "# show some rows\n",
    "pop_dens.head(3)"
   ]
  },
  {
   "cell_type": "markdown",
   "metadata": {},
   "source": [
    "__Single family homes__"
   ]
  },
  {
   "cell_type": "code",
   "execution_count": 5,
   "metadata": {},
   "outputs": [
    {
     "data": {
      "text/html": [
       "<div>\n",
       "<style scoped>\n",
       "    .dataframe tbody tr th:only-of-type {\n",
       "        vertical-align: middle;\n",
       "    }\n",
       "\n",
       "    .dataframe tbody tr th {\n",
       "        vertical-align: top;\n",
       "    }\n",
       "\n",
       "    .dataframe thead th {\n",
       "        text-align: right;\n",
       "    }\n",
       "</style>\n",
       "<table border=\"1\" class=\"dataframe\">\n",
       "  <thead>\n",
       "    <tr style=\"text-align: right;\">\n",
       "      <th></th>\n",
       "      <th>Regions-ID</th>\n",
       "      <th>Regionsname</th>\n",
       "      <th>Anteil Bewohner/innen in Einfamilienhäusern, in %</th>\n",
       "      <th>Jahr</th>\n",
       "    </tr>\n",
       "  </thead>\n",
       "  <tbody>\n",
       "    <tr>\n",
       "      <th>0</th>\n",
       "      <td>1</td>\n",
       "      <td>Aeugst am Albis</td>\n",
       "      <td>49.098880</td>\n",
       "      <td>2020</td>\n",
       "    </tr>\n",
       "    <tr>\n",
       "      <th>1</th>\n",
       "      <td>2</td>\n",
       "      <td>Affoltern am Albis</td>\n",
       "      <td>22.434195</td>\n",
       "      <td>2020</td>\n",
       "    </tr>\n",
       "    <tr>\n",
       "      <th>2</th>\n",
       "      <td>3</td>\n",
       "      <td>Bonstetten</td>\n",
       "      <td>36.260018</td>\n",
       "      <td>2020</td>\n",
       "    </tr>\n",
       "  </tbody>\n",
       "</table>\n",
       "</div>"
      ],
      "text/plain": [
       "   Regions-ID         Regionsname  \\\n",
       "0           1     Aeugst am Albis   \n",
       "1           2  Affoltern am Albis   \n",
       "2           3          Bonstetten   \n",
       "\n",
       "   Anteil Bewohner/innen in Einfamilienhäusern, in %  Jahr  \n",
       "0                                          49.098880  2020  \n",
       "1                                          22.434195  2020  \n",
       "2                                          36.260018  2020  "
      ]
     },
     "execution_count": 5,
     "metadata": {},
     "output_type": "execute_result"
    }
   ],
   "source": [
    "# import data\n",
    "single_fam_home = pd.concat(\n",
    "    pd.read_excel(\"data/Bewohnerinnen in Einfamilienhäuser.xlsx\", sheet_name=None),\n",
    "    ignore_index=True,\n",
    ")\n",
    "# show some rows\n",
    "single_fam_home.head(3)"
   ]
  },
  {
   "cell_type": "markdown",
   "metadata": {},
   "source": [
    "__Household size__"
   ]
  },
  {
   "cell_type": "code",
   "execution_count": 6,
   "metadata": {},
   "outputs": [
    {
     "data": {
      "text/html": [
       "<div>\n",
       "<style scoped>\n",
       "    .dataframe tbody tr th:only-of-type {\n",
       "        vertical-align: middle;\n",
       "    }\n",
       "\n",
       "    .dataframe tbody tr th {\n",
       "        vertical-align: top;\n",
       "    }\n",
       "\n",
       "    .dataframe thead th {\n",
       "        text-align: right;\n",
       "    }\n",
       "</style>\n",
       "<table border=\"1\" class=\"dataframe\">\n",
       "  <thead>\n",
       "    <tr style=\"text-align: right;\">\n",
       "      <th></th>\n",
       "      <th>Regions-ID</th>\n",
       "      <th>Regionsname</th>\n",
       "      <th>Durchschnittliche Haushaltsgrösse*, in Personen</th>\n",
       "      <th>Jahr</th>\n",
       "    </tr>\n",
       "  </thead>\n",
       "  <tbody>\n",
       "    <tr>\n",
       "      <th>0</th>\n",
       "      <td>1</td>\n",
       "      <td>Aeugst am Albis</td>\n",
       "      <td>2.281642</td>\n",
       "      <td>2020</td>\n",
       "    </tr>\n",
       "    <tr>\n",
       "      <th>1</th>\n",
       "      <td>2</td>\n",
       "      <td>Affoltern am Albis</td>\n",
       "      <td>2.188498</td>\n",
       "      <td>2020</td>\n",
       "    </tr>\n",
       "    <tr>\n",
       "      <th>2</th>\n",
       "      <td>3</td>\n",
       "      <td>Bonstetten</td>\n",
       "      <td>2.368689</td>\n",
       "      <td>2020</td>\n",
       "    </tr>\n",
       "  </tbody>\n",
       "</table>\n",
       "</div>"
      ],
      "text/plain": [
       "   Regions-ID         Regionsname  \\\n",
       "0           1     Aeugst am Albis   \n",
       "1           2  Affoltern am Albis   \n",
       "2           3          Bonstetten   \n",
       "\n",
       "   Durchschnittliche Haushaltsgrösse*, in Personen  Jahr  \n",
       "0                                         2.281642  2020  \n",
       "1                                         2.188498  2020  \n",
       "2                                         2.368689  2020  "
      ]
     },
     "execution_count": 6,
     "metadata": {},
     "output_type": "execute_result"
    }
   ],
   "source": [
    "# import data\n",
    "hh_size = pd.concat(\n",
    "    pd.read_excel(\"data/Durchschnittliche Haushaltsgrösse.xlsx\", sheet_name=None),\n",
    "    ignore_index=True,\n",
    ")\n",
    "# show some rows\n",
    "hh_size.head(3)"
   ]
  },
  {
   "cell_type": "markdown",
   "metadata": {},
   "source": [
    "__Newly built apartments__"
   ]
  },
  {
   "cell_type": "code",
   "execution_count": 7,
   "metadata": {},
   "outputs": [
    {
     "data": {
      "text/html": [
       "<div>\n",
       "<style scoped>\n",
       "    .dataframe tbody tr th:only-of-type {\n",
       "        vertical-align: middle;\n",
       "    }\n",
       "\n",
       "    .dataframe tbody tr th {\n",
       "        vertical-align: top;\n",
       "    }\n",
       "\n",
       "    .dataframe thead th {\n",
       "        text-align: right;\n",
       "    }\n",
       "</style>\n",
       "<table border=\"1\" class=\"dataframe\">\n",
       "  <thead>\n",
       "    <tr style=\"text-align: right;\">\n",
       "      <th></th>\n",
       "      <th>Regions-ID</th>\n",
       "      <th>Regionsname</th>\n",
       "      <th>Neu erstellte Wohnungen pro 1 000 Einwohner</th>\n",
       "      <th>Jahr</th>\n",
       "    </tr>\n",
       "  </thead>\n",
       "  <tbody>\n",
       "    <tr>\n",
       "      <th>0</th>\n",
       "      <td>1</td>\n",
       "      <td>Aeugst am Albis</td>\n",
       "      <td>5.047956</td>\n",
       "      <td>2020</td>\n",
       "    </tr>\n",
       "    <tr>\n",
       "      <th>1</th>\n",
       "      <td>2</td>\n",
       "      <td>Affoltern am Albis</td>\n",
       "      <td>4.551735</td>\n",
       "      <td>2020</td>\n",
       "    </tr>\n",
       "    <tr>\n",
       "      <th>2</th>\n",
       "      <td>3</td>\n",
       "      <td>Bonstetten</td>\n",
       "      <td>0.179469</td>\n",
       "      <td>2020</td>\n",
       "    </tr>\n",
       "  </tbody>\n",
       "</table>\n",
       "</div>"
      ],
      "text/plain": [
       "   Regions-ID         Regionsname  \\\n",
       "0           1     Aeugst am Albis   \n",
       "1           2  Affoltern am Albis   \n",
       "2           3          Bonstetten   \n",
       "\n",
       "   Neu erstellte Wohnungen pro 1 000 Einwohner  Jahr  \n",
       "0                                     5.047956  2020  \n",
       "1                                     4.551735  2020  \n",
       "2                                     0.179469  2020  "
      ]
     },
     "execution_count": 7,
     "metadata": {},
     "output_type": "execute_result"
    }
   ],
   "source": [
    "# import data\n",
    "new_apart = pd.concat(\n",
    "    pd.read_excel(\"data/Neue Wohnungen.xlsx\", sheet_name=None), ignore_index=True\n",
    ")\n",
    "# this column is not needed:\n",
    "new_apart = new_apart.drop([\"Im Gesamtjahr neu erstellte Wohnungen\"], axis=1)\n",
    "# show some rows\n",
    "new_apart.head(3)"
   ]
  },
  {
   "cell_type": "markdown",
   "metadata": {},
   "source": [
    "__Proportion of 3 and 4 room apartments__"
   ]
  },
  {
   "cell_type": "code",
   "execution_count": 8,
   "metadata": {},
   "outputs": [
    {
     "data": {
      "text/html": [
       "<div>\n",
       "<style scoped>\n",
       "    .dataframe tbody tr th:only-of-type {\n",
       "        vertical-align: middle;\n",
       "    }\n",
       "\n",
       "    .dataframe tbody tr th {\n",
       "        vertical-align: top;\n",
       "    }\n",
       "\n",
       "    .dataframe thead th {\n",
       "        text-align: right;\n",
       "    }\n",
       "</style>\n",
       "<table border=\"1\" class=\"dataframe\">\n",
       "  <thead>\n",
       "    <tr style=\"text-align: right;\">\n",
       "      <th></th>\n",
       "      <th>Regions-ID</th>\n",
       "      <th>Regionsname</th>\n",
       "      <th>Anteil 3-4 Zimmer-Wohnungen, in %</th>\n",
       "      <th>Jahr</th>\n",
       "    </tr>\n",
       "  </thead>\n",
       "  <tbody>\n",
       "    <tr>\n",
       "      <th>0</th>\n",
       "      <td>1</td>\n",
       "      <td>Aeugst am Albis</td>\n",
       "      <td>42.262540</td>\n",
       "      <td>2020</td>\n",
       "    </tr>\n",
       "    <tr>\n",
       "      <th>1</th>\n",
       "      <td>2</td>\n",
       "      <td>Affoltern am Albis</td>\n",
       "      <td>60.924297</td>\n",
       "      <td>2020</td>\n",
       "    </tr>\n",
       "    <tr>\n",
       "      <th>2</th>\n",
       "      <td>3</td>\n",
       "      <td>Bonstetten</td>\n",
       "      <td>55.250404</td>\n",
       "      <td>2020</td>\n",
       "    </tr>\n",
       "  </tbody>\n",
       "</table>\n",
       "</div>"
      ],
      "text/plain": [
       "   Regions-ID         Regionsname  Anteil 3-4 Zimmer-Wohnungen, in %  Jahr\n",
       "0           1     Aeugst am Albis                          42.262540  2020\n",
       "1           2  Affoltern am Albis                          60.924297  2020\n",
       "2           3          Bonstetten                          55.250404  2020"
      ]
     },
     "execution_count": 8,
     "metadata": {},
     "output_type": "execute_result"
    }
   ],
   "source": [
    "# import data\n",
    "rooms_3_4 = pd.concat(\n",
    "    pd.read_excel(\"data/3-4 Zimmerwohnungen.xlsx\", sheet_name=None), ignore_index=True\n",
    ")\n",
    "# show some rows\n",
    "rooms_3_4.head(3)"
   ]
  },
  {
   "cell_type": "markdown",
   "metadata": {},
   "source": [
    "__Vacancy rate__"
   ]
  },
  {
   "cell_type": "code",
   "execution_count": 9,
   "metadata": {},
   "outputs": [
    {
     "data": {
      "text/html": [
       "<div>\n",
       "<style scoped>\n",
       "    .dataframe tbody tr th:only-of-type {\n",
       "        vertical-align: middle;\n",
       "    }\n",
       "\n",
       "    .dataframe tbody tr th {\n",
       "        vertical-align: top;\n",
       "    }\n",
       "\n",
       "    .dataframe thead th {\n",
       "        text-align: right;\n",
       "    }\n",
       "</style>\n",
       "<table border=\"1\" class=\"dataframe\">\n",
       "  <thead>\n",
       "    <tr style=\"text-align: right;\">\n",
       "      <th></th>\n",
       "      <th>Regions-ID</th>\n",
       "      <th>Regionsname</th>\n",
       "      <th>Anteil leer stehender Wohnungen am Gesamtwohnungsbestand, in %</th>\n",
       "      <th>Jahr</th>\n",
       "    </tr>\n",
       "  </thead>\n",
       "  <tbody>\n",
       "    <tr>\n",
       "      <th>0</th>\n",
       "      <td>1</td>\n",
       "      <td>Aeugst am Albis</td>\n",
       "      <td>5.291577</td>\n",
       "      <td>2020</td>\n",
       "    </tr>\n",
       "    <tr>\n",
       "      <th>1</th>\n",
       "      <td>2</td>\n",
       "      <td>Affoltern am Albis</td>\n",
       "      <td>1.005548</td>\n",
       "      <td>2020</td>\n",
       "    </tr>\n",
       "    <tr>\n",
       "      <th>2</th>\n",
       "      <td>3</td>\n",
       "      <td>Bonstetten</td>\n",
       "      <td>1.171717</td>\n",
       "      <td>2020</td>\n",
       "    </tr>\n",
       "  </tbody>\n",
       "</table>\n",
       "</div>"
      ],
      "text/plain": [
       "   Regions-ID         Regionsname  \\\n",
       "0           1     Aeugst am Albis   \n",
       "1           2  Affoltern am Albis   \n",
       "2           3          Bonstetten   \n",
       "\n",
       "   Anteil leer stehender Wohnungen am Gesamtwohnungsbestand, in %  Jahr  \n",
       "0                                           5.291577               2020  \n",
       "1                                           1.005548               2020  \n",
       "2                                           1.171717               2020  "
      ]
     },
     "execution_count": 9,
     "metadata": {},
     "output_type": "execute_result"
    }
   ],
   "source": [
    "# import data\n",
    "vacancy_rate = pd.concat(\n",
    "    pd.read_excel(\"data/Leerwohnungsziffer.xlsx\", sheet_name=None), ignore_index=True\n",
    ")\n",
    "# show some rows\n",
    "vacancy_rate.head(3)"
   ]
  },
  {
   "cell_type": "markdown",
   "metadata": {
    "tags": []
   },
   "source": [
    "### Exploratory data analysis (EDA)"
   ]
  },
  {
   "cell_type": "markdown",
   "metadata": {},
   "source": [
    "In a next step, I will combine the advertisements with my statistical data. But before merging theses datasets, I will have to make sure that the municipalities are the same."
   ]
  },
  {
   "cell_type": "markdown",
   "metadata": {},
   "source": [
    "### Data coherence"
   ]
  },
  {
   "cell_type": "code",
   "execution_count": 10,
   "metadata": {},
   "outputs": [
    {
     "name": "stdout",
     "output_type": "stream",
     "text": [
      "number of municipalities in dataset 'pop_dens': 2343\n",
      "number of municipalities in dataset 'single_fam_home': 2343\n",
      "number of municipalities in dataset 'hh_size': 2343\n",
      "number of municipalities in datset 'new_apart': 2343\n",
      "number of municipalities in datset 'rooms_3_4': 2343\n",
      "number of municipalities in datset 'vacancy_rate': 2342\n",
      "number of municipalities in datset 'df': 2176\n"
     ]
    }
   ],
   "source": [
    "# Number of unique municipalities in the data sets\n",
    "print(\n",
    "    \"number of municipalities in dataset 'pop_dens':\",\n",
    "    pop_dens[\"Regionsname\"].nunique(),\n",
    ")\n",
    "print(\n",
    "    \"number of municipalities in dataset 'single_fam_home':\",\n",
    "    single_fam_home[\"Regionsname\"].nunique(),\n",
    ")\n",
    "print(\n",
    "    \"number of municipalities in dataset 'hh_size':\",\n",
    "    hh_size[\"Regionsname\"].nunique(),\n",
    ")\n",
    "print(\n",
    "    \"number of municipalities in datset 'new_apart':\",\n",
    "    new_apart[\"Regionsname\"].nunique(),\n",
    ")\n",
    "print(\n",
    "    \"number of municipalities in datset 'rooms_3_4':\",\n",
    "    rooms_3_4[\"Regionsname\"].nunique(),\n",
    ")\n",
    "print(\n",
    "    \"number of municipalities in datset 'vacancy_rate':\",\n",
    "    vacancy_rate[\"Regionsname\"].nunique(),\n",
    ")\n",
    "print(\n",
    "    \"number of municipalities in datset 'df':\",\n",
    "    df[\"Gemeinde\"].nunique(),\n",
    ")"
   ]
  },
  {
   "cell_type": "code",
   "execution_count": 11,
   "metadata": {},
   "outputs": [],
   "source": [
    "pd_unique = pop_dens[\"Regionsname\"].unique()\n",
    "sfh_unique = single_fam_home[\"Regionsname\"].unique()\n",
    "hs_unique = hh_size[\"Regionsname\"].unique()\n",
    "na_unique = new_apart[\"Regionsname\"].unique()\n",
    "r34_unique = rooms_3_4[\"Regionsname\"].unique()\n",
    "vr_unique = vacancy_rate[\"Regionsname\"].unique()\n",
    "df_unique = df[\"Gemeinde\"].unique()"
   ]
  },
  {
   "cell_type": "code",
   "execution_count": 12,
   "metadata": {},
   "outputs": [
    {
     "name": "stdout",
     "output_type": "stream",
     "text": [
      "True\n",
      "True\n",
      "True\n",
      "True\n",
      "False\n"
     ]
    }
   ],
   "source": [
    "# Check if municipalities are the same in the data sets\n",
    "print(np.array_equal(pd_unique, sfh_unique))\n",
    "print(np.array_equal(pd_unique, hs_unique))\n",
    "print(np.array_equal(pd_unique, na_unique))\n",
    "print(np.array_equal(pd_unique, r34_unique))\n",
    "print(np.array_equal(pd_unique, vr_unique))"
   ]
  },
  {
   "cell_type": "markdown",
   "metadata": {},
   "source": [
    "There is a discrepancy in the dataframe vacancy rate. Let's see how many and which municipalities differ."
   ]
  },
  {
   "cell_type": "code",
   "execution_count": 13,
   "metadata": {},
   "outputs": [
    {
     "name": "stdout",
     "output_type": "stream",
     "text": [
      "difference 'pop_dens' to 'vacancy_rate': 1\n"
     ]
    }
   ],
   "source": [
    "# Show difference between the data sets\n",
    "print(\n",
    "    \"difference 'pop_dens' to 'vacancy_rate':\",\n",
    "    len(list(set(pd_unique) - set(vr_unique))),\n",
    ")"
   ]
  },
  {
   "cell_type": "code",
   "execution_count": 14,
   "metadata": {},
   "outputs": [
    {
     "data": {
      "text/plain": [
       "[]"
      ]
     },
     "execution_count": 14,
     "metadata": {},
     "output_type": "execute_result"
    }
   ],
   "source": [
    "# difference between vacancy_rate & pop_dens\n",
    "list(set(vacancy_rate[\"Regionsname\"].unique()) - set(pop_dens[\"Regionsname\"].unique()))"
   ]
  },
  {
   "cell_type": "code",
   "execution_count": 15,
   "metadata": {},
   "outputs": [
    {
     "data": {
      "text/plain": [
       "['Verzasca']"
      ]
     },
     "execution_count": 15,
     "metadata": {},
     "output_type": "execute_result"
    }
   ],
   "source": [
    "# difference between pop_dens & vacancy_rate\n",
    "list(set(pop_dens[\"Regionsname\"].unique()) - set(vacancy_rate[\"Regionsname\"].unique()))"
   ]
  },
  {
   "cell_type": "markdown",
   "metadata": {},
   "source": [
    "#### merge statistical data sets"
   ]
  },
  {
   "cell_type": "code",
   "execution_count": 16,
   "metadata": {},
   "outputs": [
    {
     "data": {
      "text/html": [
       "<div>\n",
       "<style scoped>\n",
       "    .dataframe tbody tr th:only-of-type {\n",
       "        vertical-align: middle;\n",
       "    }\n",
       "\n",
       "    .dataframe tbody tr th {\n",
       "        vertical-align: top;\n",
       "    }\n",
       "\n",
       "    .dataframe thead th {\n",
       "        text-align: right;\n",
       "    }\n",
       "</style>\n",
       "<table border=\"1\" class=\"dataframe\">\n",
       "  <thead>\n",
       "    <tr style=\"text-align: right;\">\n",
       "      <th></th>\n",
       "      <th>Regions-ID</th>\n",
       "      <th>Regionsname</th>\n",
       "      <th>Einwohner/innen pro km² Gesamtfläche</th>\n",
       "      <th>Jahr</th>\n",
       "      <th>Anteil Bewohner/innen in Einfamilienhäusern, in %</th>\n",
       "      <th>Durchschnittliche Haushaltsgrösse*, in Personen</th>\n",
       "      <th>Neu erstellte Wohnungen pro 1 000 Einwohner</th>\n",
       "      <th>Anteil 3-4 Zimmer-Wohnungen, in %</th>\n",
       "      <th>Anteil leer stehender Wohnungen am Gesamtwohnungsbestand, in %</th>\n",
       "    </tr>\n",
       "  </thead>\n",
       "  <tbody>\n",
       "    <tr>\n",
       "      <th>0</th>\n",
       "      <td>1</td>\n",
       "      <td>Aeugst am Albis</td>\n",
       "      <td>254.614412</td>\n",
       "      <td>2020</td>\n",
       "      <td>49.098880</td>\n",
       "      <td>2.281642</td>\n",
       "      <td>5.047956</td>\n",
       "      <td>42.262540</td>\n",
       "      <td>5.291577</td>\n",
       "    </tr>\n",
       "    <tr>\n",
       "      <th>1</th>\n",
       "      <td>2</td>\n",
       "      <td>Affoltern am Albis</td>\n",
       "      <td>1160.434372</td>\n",
       "      <td>2020</td>\n",
       "      <td>22.434195</td>\n",
       "      <td>2.188498</td>\n",
       "      <td>4.551735</td>\n",
       "      <td>60.924297</td>\n",
       "      <td>1.005548</td>\n",
       "    </tr>\n",
       "  </tbody>\n",
       "</table>\n",
       "</div>"
      ],
      "text/plain": [
       "   Regions-ID         Regionsname  Einwohner/innen pro km² Gesamtfläche  Jahr  \\\n",
       "0           1     Aeugst am Albis                            254.614412  2020   \n",
       "1           2  Affoltern am Albis                           1160.434372  2020   \n",
       "\n",
       "   Anteil Bewohner/innen in Einfamilienhäusern, in %  \\\n",
       "0                                          49.098880   \n",
       "1                                          22.434195   \n",
       "\n",
       "   Durchschnittliche Haushaltsgrösse*, in Personen  \\\n",
       "0                                         2.281642   \n",
       "1                                         2.188498   \n",
       "\n",
       "   Neu erstellte Wohnungen pro 1 000 Einwohner  \\\n",
       "0                                     5.047956   \n",
       "1                                     4.551735   \n",
       "\n",
       "   Anteil 3-4 Zimmer-Wohnungen, in %  \\\n",
       "0                          42.262540   \n",
       "1                          60.924297   \n",
       "\n",
       "   Anteil leer stehender Wohnungen am Gesamtwohnungsbestand, in %  \n",
       "0                                           5.291577               \n",
       "1                                           1.005548               "
      ]
     },
     "execution_count": 16,
     "metadata": {},
     "output_type": "execute_result"
    }
   ],
   "source": [
    "# Merge DataFrames by joining them on columns, use keys from both frames\n",
    "merge_1 = pd.merge(pop_dens, single_fam_home, how=\"outer\")\n",
    "\n",
    "merge_2 = pd.merge(\n",
    "    merge_1,\n",
    "    hh_size,\n",
    "    how=\"outer\",\n",
    ")\n",
    "\n",
    "merge_3 = pd.merge(\n",
    "    merge_2,\n",
    "    new_apart,\n",
    "    how=\"outer\",\n",
    ")\n",
    "\n",
    "merge_4 = pd.merge(\n",
    "    merge_3,\n",
    "    rooms_3_4,\n",
    "    how=\"outer\",\n",
    ")\n",
    "\n",
    "stats = pd.merge(\n",
    "    merge_4,\n",
    "    vacancy_rate,\n",
    "    how=\"outer\",\n",
    ")\n",
    "stats.head(2)"
   ]
  },
  {
   "cell_type": "code",
   "execution_count": 17,
   "metadata": {},
   "outputs": [],
   "source": [
    "# Changing columns name with index number\n",
    "mapping = {\n",
    "    stats.columns[2]: \"Population density\",\n",
    "    stats.columns[4]: \"Proportion of single-family house residents\",\n",
    "    stats.columns[5]: \"Average household size\",\n",
    "    stats.columns[6]: \"Newly built apartments per 10000 inhabitants\",\n",
    "    stats.columns[7]: \"Share of 3-4 room apartments\",\n",
    "    stats.columns[8]: \"Vacancy rate\",\n",
    "}\n",
    "stats.rename(columns=mapping, inplace=True)"
   ]
  },
  {
   "cell_type": "code",
   "execution_count": 18,
   "metadata": {},
   "outputs": [
    {
     "data": {
      "text/plain": [
       "Regions-ID                                      0\n",
       "Regionsname                                     0\n",
       "Population density                              8\n",
       "Jahr                                            0\n",
       "Proportion of single-family house residents     8\n",
       "Average household size                          8\n",
       "Newly built apartments per 10000 inhabitants    8\n",
       "Share of 3-4 room apartments                    8\n",
       "Vacancy rate                                    2\n",
       "dtype: int64"
      ]
     },
     "execution_count": 18,
     "metadata": {},
     "output_type": "execute_result"
    }
   ],
   "source": [
    "# show missing values per columns\n",
    "stats.isnull().sum()"
   ]
  },
  {
   "cell_type": "code",
   "execution_count": 19,
   "metadata": {},
   "outputs": [
    {
     "data": {
      "text/html": [
       "<div>\n",
       "<style scoped>\n",
       "    .dataframe tbody tr th:only-of-type {\n",
       "        vertical-align: middle;\n",
       "    }\n",
       "\n",
       "    .dataframe tbody tr th {\n",
       "        vertical-align: top;\n",
       "    }\n",
       "\n",
       "    .dataframe thead th {\n",
       "        text-align: right;\n",
       "    }\n",
       "</style>\n",
       "<table border=\"1\" class=\"dataframe\">\n",
       "  <thead>\n",
       "    <tr style=\"text-align: right;\">\n",
       "      <th></th>\n",
       "      <th>Regions-ID</th>\n",
       "      <th>Regionsname</th>\n",
       "      <th>Population density</th>\n",
       "      <th>Jahr</th>\n",
       "      <th>Proportion of single-family house residents</th>\n",
       "      <th>Average household size</th>\n",
       "      <th>Newly built apartments per 10000 inhabitants</th>\n",
       "      <th>Share of 3-4 room apartments</th>\n",
       "      <th>Vacancy rate</th>\n",
       "    </tr>\n",
       "  </thead>\n",
       "  <tbody>\n",
       "    <tr>\n",
       "      <th>1633</th>\n",
       "      <td>5399</td>\n",
       "      <td>Verzasca</td>\n",
       "      <td>3.656751</td>\n",
       "      <td>2020</td>\n",
       "      <td>70.337922</td>\n",
       "      <td>1.930693</td>\n",
       "      <td>1.562500</td>\n",
       "      <td>57.916452</td>\n",
       "      <td>NaN</td>\n",
       "    </tr>\n",
       "    <tr>\n",
       "      <th>10815</th>\n",
       "      <td>5806</td>\n",
       "      <td>Jorat-Mézières</td>\n",
       "      <td>254.061372</td>\n",
       "      <td>2016</td>\n",
       "      <td>42.105263</td>\n",
       "      <td>2.458699</td>\n",
       "      <td>5.436752</td>\n",
       "      <td>49.406176</td>\n",
       "      <td>NaN</td>\n",
       "    </tr>\n",
       "    <tr>\n",
       "      <th>13483</th>\n",
       "      <td>5095</td>\n",
       "      <td>Brione (Verzasca)</td>\n",
       "      <td>NaN</td>\n",
       "      <td>2020</td>\n",
       "      <td>NaN</td>\n",
       "      <td>NaN</td>\n",
       "      <td>NaN</td>\n",
       "      <td>NaN</td>\n",
       "      <td>0.892857</td>\n",
       "    </tr>\n",
       "    <tr>\n",
       "      <th>13484</th>\n",
       "      <td>5102</td>\n",
       "      <td>Corippo</td>\n",
       "      <td>NaN</td>\n",
       "      <td>2020</td>\n",
       "      <td>NaN</td>\n",
       "      <td>NaN</td>\n",
       "      <td>NaN</td>\n",
       "      <td>NaN</td>\n",
       "      <td>0.000000</td>\n",
       "    </tr>\n",
       "    <tr>\n",
       "      <th>13485</th>\n",
       "      <td>5105</td>\n",
       "      <td>Frasco</td>\n",
       "      <td>NaN</td>\n",
       "      <td>2020</td>\n",
       "      <td>NaN</td>\n",
       "      <td>NaN</td>\n",
       "      <td>NaN</td>\n",
       "      <td>NaN</td>\n",
       "      <td>0.357143</td>\n",
       "    </tr>\n",
       "    <tr>\n",
       "      <th>13486</th>\n",
       "      <td>5129</td>\n",
       "      <td>Sonogno</td>\n",
       "      <td>NaN</td>\n",
       "      <td>2020</td>\n",
       "      <td>NaN</td>\n",
       "      <td>NaN</td>\n",
       "      <td>NaN</td>\n",
       "      <td>NaN</td>\n",
       "      <td>1.015228</td>\n",
       "    </tr>\n",
       "    <tr>\n",
       "      <th>13487</th>\n",
       "      <td>5135</td>\n",
       "      <td>Vogorno</td>\n",
       "      <td>NaN</td>\n",
       "      <td>2020</td>\n",
       "      <td>NaN</td>\n",
       "      <td>NaN</td>\n",
       "      <td>NaN</td>\n",
       "      <td>NaN</td>\n",
       "      <td>0.980392</td>\n",
       "    </tr>\n",
       "    <tr>\n",
       "      <th>13488</th>\n",
       "      <td>5782</td>\n",
       "      <td>Carrouge (VD)</td>\n",
       "      <td>NaN</td>\n",
       "      <td>2016</td>\n",
       "      <td>NaN</td>\n",
       "      <td>NaN</td>\n",
       "      <td>NaN</td>\n",
       "      <td>NaN</td>\n",
       "      <td>1.574803</td>\n",
       "    </tr>\n",
       "    <tr>\n",
       "      <th>13489</th>\n",
       "      <td>5789</td>\n",
       "      <td>Ferlens (VD)</td>\n",
       "      <td>NaN</td>\n",
       "      <td>2016</td>\n",
       "      <td>NaN</td>\n",
       "      <td>NaN</td>\n",
       "      <td>NaN</td>\n",
       "      <td>NaN</td>\n",
       "      <td>1.973684</td>\n",
       "    </tr>\n",
       "    <tr>\n",
       "      <th>13490</th>\n",
       "      <td>5791</td>\n",
       "      <td>Mézières (VD)</td>\n",
       "      <td>NaN</td>\n",
       "      <td>2016</td>\n",
       "      <td>NaN</td>\n",
       "      <td>NaN</td>\n",
       "      <td>NaN</td>\n",
       "      <td>NaN</td>\n",
       "      <td>3.275862</td>\n",
       "    </tr>\n",
       "  </tbody>\n",
       "</table>\n",
       "</div>"
      ],
      "text/plain": [
       "       Regions-ID        Regionsname  Population density  Jahr  \\\n",
       "1633         5399           Verzasca            3.656751  2020   \n",
       "10815        5806     Jorat-Mézières          254.061372  2016   \n",
       "13483        5095  Brione (Verzasca)                 NaN  2020   \n",
       "13484        5102            Corippo                 NaN  2020   \n",
       "13485        5105             Frasco                 NaN  2020   \n",
       "13486        5129            Sonogno                 NaN  2020   \n",
       "13487        5135            Vogorno                 NaN  2020   \n",
       "13488        5782      Carrouge (VD)                 NaN  2016   \n",
       "13489        5789       Ferlens (VD)                 NaN  2016   \n",
       "13490        5791      Mézières (VD)                 NaN  2016   \n",
       "\n",
       "       Proportion of single-family house residents  Average household size  \\\n",
       "1633                                     70.337922                1.930693   \n",
       "10815                                    42.105263                2.458699   \n",
       "13483                                          NaN                     NaN   \n",
       "13484                                          NaN                     NaN   \n",
       "13485                                          NaN                     NaN   \n",
       "13486                                          NaN                     NaN   \n",
       "13487                                          NaN                     NaN   \n",
       "13488                                          NaN                     NaN   \n",
       "13489                                          NaN                     NaN   \n",
       "13490                                          NaN                     NaN   \n",
       "\n",
       "       Newly built apartments per 10000 inhabitants  \\\n",
       "1633                                       1.562500   \n",
       "10815                                      5.436752   \n",
       "13483                                           NaN   \n",
       "13484                                           NaN   \n",
       "13485                                           NaN   \n",
       "13486                                           NaN   \n",
       "13487                                           NaN   \n",
       "13488                                           NaN   \n",
       "13489                                           NaN   \n",
       "13490                                           NaN   \n",
       "\n",
       "       Share of 3-4 room apartments  Vacancy rate  \n",
       "1633                      57.916452           NaN  \n",
       "10815                     49.406176           NaN  \n",
       "13483                           NaN      0.892857  \n",
       "13484                           NaN      0.000000  \n",
       "13485                           NaN      0.357143  \n",
       "13486                           NaN      1.015228  \n",
       "13487                           NaN      0.980392  \n",
       "13488                           NaN      1.574803  \n",
       "13489                           NaN      1.973684  \n",
       "13490                           NaN      3.275862  "
      ]
     },
     "execution_count": 19,
     "metadata": {},
     "output_type": "execute_result"
    }
   ],
   "source": [
    "# show rows with missing values\n",
    "stats[stats.isna().any(axis=1)]"
   ]
  },
  {
   "cell_type": "markdown",
   "metadata": {},
   "source": [
    "##### fix data deviation in statistical data itself"
   ]
  },
  {
   "cell_type": "markdown",
   "metadata": {},
   "source": [
    "Theses municipalities are merged together to the new municipality \"Verzasca\": \"Frasco\", \"Brione (Verzasca)\", \"Corippo\", \"Sonogno\", \"Vogorno\". I will fill the NaN value at index 1633 with the mean of the rows 13483:13487 and then drop those rows."
   ]
  },
  {
   "cell_type": "code",
   "execution_count": 20,
   "metadata": {},
   "outputs": [
    {
     "data": {
      "text/plain": [
       "0.5663071066"
      ]
     },
     "execution_count": 20,
     "metadata": {},
     "output_type": "execute_result"
    }
   ],
   "source": [
    "mean_value_1 = stats[13483:13487][\"Vacancy rate\"].mean()\n",
    "mean_value_1"
   ]
  },
  {
   "cell_type": "code",
   "execution_count": 21,
   "metadata": {},
   "outputs": [
    {
     "data": {
      "text/html": [
       "<div>\n",
       "<style scoped>\n",
       "    .dataframe tbody tr th:only-of-type {\n",
       "        vertical-align: middle;\n",
       "    }\n",
       "\n",
       "    .dataframe tbody tr th {\n",
       "        vertical-align: top;\n",
       "    }\n",
       "\n",
       "    .dataframe thead th {\n",
       "        text-align: right;\n",
       "    }\n",
       "</style>\n",
       "<table border=\"1\" class=\"dataframe\">\n",
       "  <thead>\n",
       "    <tr style=\"text-align: right;\">\n",
       "      <th></th>\n",
       "      <th>Regions-ID</th>\n",
       "      <th>Regionsname</th>\n",
       "      <th>Population density</th>\n",
       "      <th>Jahr</th>\n",
       "      <th>Proportion of single-family house residents</th>\n",
       "      <th>Average household size</th>\n",
       "      <th>Newly built apartments per 10000 inhabitants</th>\n",
       "      <th>Share of 3-4 room apartments</th>\n",
       "      <th>Vacancy rate</th>\n",
       "    </tr>\n",
       "  </thead>\n",
       "  <tbody>\n",
       "    <tr>\n",
       "      <th>1633</th>\n",
       "      <td>5399</td>\n",
       "      <td>Verzasca</td>\n",
       "      <td>3.656751</td>\n",
       "      <td>2020</td>\n",
       "      <td>70.337922</td>\n",
       "      <td>1.930693</td>\n",
       "      <td>1.5625</td>\n",
       "      <td>57.916452</td>\n",
       "      <td>0.566307</td>\n",
       "    </tr>\n",
       "  </tbody>\n",
       "</table>\n",
       "</div>"
      ],
      "text/plain": [
       "      Regions-ID Regionsname  Population density  Jahr  \\\n",
       "1633        5399    Verzasca            3.656751  2020   \n",
       "\n",
       "      Proportion of single-family house residents  Average household size  \\\n",
       "1633                                    70.337922                1.930693   \n",
       "\n",
       "      Newly built apartments per 10000 inhabitants  \\\n",
       "1633                                        1.5625   \n",
       "\n",
       "      Share of 3-4 room apartments  Vacancy rate  \n",
       "1633                     57.916452      0.566307  "
      ]
     },
     "execution_count": 21,
     "metadata": {},
     "output_type": "execute_result"
    }
   ],
   "source": [
    "stats.at[1633, \"Vacancy rate\"] = mean_value_1\n",
    "stats.iloc[[1633]]"
   ]
  },
  {
   "cell_type": "markdown",
   "metadata": {},
   "source": [
    "The same procedure applies to these municipalities: \"Carrouge (VD)\"\", \"Ferlens (VD)\", \"Mézières (VD)\", they will be merged to \"Jorat-Mézières\"."
   ]
  },
  {
   "cell_type": "code",
   "execution_count": 22,
   "metadata": {},
   "outputs": [
    {
     "data": {
      "text/plain": [
       "1.77424368005"
      ]
     },
     "execution_count": 22,
     "metadata": {},
     "output_type": "execute_result"
    }
   ],
   "source": [
    "mean_value_2 = stats[13488:13490][\"Vacancy rate\"].mean()\n",
    "mean_value_2"
   ]
  },
  {
   "cell_type": "code",
   "execution_count": 23,
   "metadata": {},
   "outputs": [
    {
     "data": {
      "text/html": [
       "<div>\n",
       "<style scoped>\n",
       "    .dataframe tbody tr th:only-of-type {\n",
       "        vertical-align: middle;\n",
       "    }\n",
       "\n",
       "    .dataframe tbody tr th {\n",
       "        vertical-align: top;\n",
       "    }\n",
       "\n",
       "    .dataframe thead th {\n",
       "        text-align: right;\n",
       "    }\n",
       "</style>\n",
       "<table border=\"1\" class=\"dataframe\">\n",
       "  <thead>\n",
       "    <tr style=\"text-align: right;\">\n",
       "      <th></th>\n",
       "      <th>Regions-ID</th>\n",
       "      <th>Regionsname</th>\n",
       "      <th>Population density</th>\n",
       "      <th>Jahr</th>\n",
       "      <th>Proportion of single-family house residents</th>\n",
       "      <th>Average household size</th>\n",
       "      <th>Newly built apartments per 10000 inhabitants</th>\n",
       "      <th>Share of 3-4 room apartments</th>\n",
       "      <th>Vacancy rate</th>\n",
       "    </tr>\n",
       "  </thead>\n",
       "  <tbody>\n",
       "    <tr>\n",
       "      <th>10815</th>\n",
       "      <td>5806</td>\n",
       "      <td>Jorat-Mézières</td>\n",
       "      <td>254.061372</td>\n",
       "      <td>2016</td>\n",
       "      <td>42.105263</td>\n",
       "      <td>2.458699</td>\n",
       "      <td>5.436752</td>\n",
       "      <td>49.406176</td>\n",
       "      <td>1.774244</td>\n",
       "    </tr>\n",
       "  </tbody>\n",
       "</table>\n",
       "</div>"
      ],
      "text/plain": [
       "       Regions-ID     Regionsname  Population density  Jahr  \\\n",
       "10815        5806  Jorat-Mézières          254.061372  2016   \n",
       "\n",
       "       Proportion of single-family house residents  Average household size  \\\n",
       "10815                                    42.105263                2.458699   \n",
       "\n",
       "       Newly built apartments per 10000 inhabitants  \\\n",
       "10815                                      5.436752   \n",
       "\n",
       "       Share of 3-4 room apartments  Vacancy rate  \n",
       "10815                     49.406176      1.774244  "
      ]
     },
     "execution_count": 23,
     "metadata": {},
     "output_type": "execute_result"
    }
   ],
   "source": [
    "stats.at[10815, \"Vacancy rate\"] = mean_value_2\n",
    "stats.iloc[[10815]]"
   ]
  },
  {
   "cell_type": "code",
   "execution_count": 24,
   "metadata": {},
   "outputs": [
    {
     "data": {
      "text/plain": [
       "(13483, 9)"
      ]
     },
     "execution_count": 24,
     "metadata": {},
     "output_type": "execute_result"
    }
   ],
   "source": [
    "stats.drop([13483, 13484, 13485, 13486, 13487, 13488, 13489, 13490], inplace=True)\n",
    "stats.shape"
   ]
  },
  {
   "cell_type": "markdown",
   "metadata": {},
   "source": [
    "##### fix data deviation to df"
   ]
  },
  {
   "cell_type": "markdown",
   "metadata": {},
   "source": [
    "According to the document \"Official Municipal Directory of Switzerland - Announced changes 2020\" ([Link](https://www.bfs.admin.ch/bfsstatic/dam/assets/13127890/master)) there were several mergers of municipalities and name changes. This is why the municipalities are not the same in the documents. I will merge the municipalities where necessary and change the names to create  coherent datasets. To check the correct municipality names and merges, visit: https://www.agvchapp.bfs.admin.ch/de/communes/query"
   ]
  },
  {
   "cell_type": "code",
   "execution_count": 25,
   "metadata": {},
   "outputs": [
    {
     "name": "stdout",
     "output_type": "stream",
     "text": [
      "difference 'df' to 'stats': 1\n"
     ]
    }
   ],
   "source": [
    "# Show difference between the data sets\n",
    "print(\n",
    "    \"difference 'df' to 'stats':\",\n",
    "    len(list(set(df[\"Gemeinde\"].unique()) - set(stats[\"Regionsname\"].unique()))),\n",
    ")"
   ]
  },
  {
   "cell_type": "code",
   "execution_count": 26,
   "metadata": {},
   "outputs": [
    {
     "data": {
      "text/plain": [
       "['La Grande-Béroche']"
      ]
     },
     "execution_count": 26,
     "metadata": {},
     "output_type": "execute_result"
    }
   ],
   "source": [
    "# difference between df & vacancy_rate\n",
    "list(set(df[\"Gemeinde\"].unique()) - set(stats[\"Regionsname\"].unique()))"
   ]
  },
  {
   "cell_type": "code",
   "execution_count": 27,
   "metadata": {},
   "outputs": [],
   "source": [
    "# Correct misspelling\n",
    "df[\"Gemeinde\"] = df[\"Gemeinde\"].str.replace(\"La Grande-Béroche\", \"La Grande Béroche\")\n",
    "stats[\"Regionsname\"] = stats[\"Regionsname\"].str.replace(\n",
    "    \"La Grande-Béroche\", \"La Grande Béroche\"\n",
    ")"
   ]
  },
  {
   "cell_type": "code",
   "execution_count": 28,
   "metadata": {},
   "outputs": [
    {
     "name": "stdout",
     "output_type": "stream",
     "text": [
      "difference 'stats' to 'df': 167\n"
     ]
    }
   ],
   "source": [
    "# Show difference between the data sets\n",
    "print(\n",
    "    \"difference 'stats' to 'df':\",\n",
    "    len(list(set(stats[\"Regionsname\"].unique()) - set(df[\"Gemeinde\"].unique()))),\n",
    ")"
   ]
  },
  {
   "cell_type": "code",
   "execution_count": 29,
   "metadata": {},
   "outputs": [
    {
     "data": {
      "text/plain": [
       "['Rebévelier',\n",
       " 'Oberschrot',\n",
       " 'Randogne',\n",
       " 'Mühlethurnen',\n",
       " 'Vuisternens-en-Ogoz',\n",
       " 'Haut-Vully',\n",
       " 'Saxeten',\n",
       " 'Schwendibach',\n",
       " 'Campo (Vallemaggia)',\n",
       " 'Claro',\n",
       " 'Splügen',\n",
       " 'Brenles',\n",
       " 'Waltensburg/Vuorz',\n",
       " 'Autafond',\n",
       " 'Damphreux',\n",
       " 'Gresso',\n",
       " 'Maladers',\n",
       " 'Ebersecken',\n",
       " 'Scherz',\n",
       " 'Mollens (VS)',\n",
       " 'Rebeuvelier',\n",
       " 'Simplon',\n",
       " 'Le Glèbe',\n",
       " 'Salvenach',\n",
       " 'Pianezzo',\n",
       " 'Cheyres',\n",
       " 'Noréaz',\n",
       " 'Villeneuve (FR)',\n",
       " 'Lohn (GR)',\n",
       " 'Bussy (FR)',\n",
       " 'Wallenried',\n",
       " 'Camorino',\n",
       " 'St. Antönien',\n",
       " 'Vergeletto',\n",
       " 'Tinizong-Rona',\n",
       " 'Niederösch',\n",
       " 'Gnosca',\n",
       " 'Bivio',\n",
       " 'Savognin',\n",
       " 'Linescio',\n",
       " 'Waltalingen',\n",
       " 'Estavayer-le-Lac',\n",
       " 'Montalchez',\n",
       " 'Giubiasco',\n",
       " 'Lohnstorf',\n",
       " 'Mosogno',\n",
       " 'Iragna',\n",
       " 'Mulegns',\n",
       " 'Moleno',\n",
       " 'Tägertschi',\n",
       " 'Osogna',\n",
       " 'Gorgier',\n",
       " 'Champoz',\n",
       " 'Isenthal',\n",
       " 'Bevaix',\n",
       " 'Russy',\n",
       " 'Kirchenthurnen',\n",
       " 'Mundaun',\n",
       " 'Verdabbio',\n",
       " 'Ferlens (VD)',\n",
       " 'Carrouge (VD)',\n",
       " 'Mutten',\n",
       " 'Wolfisberg',\n",
       " 'Binn',\n",
       " 'Attelwil',\n",
       " 'Lurtigen',\n",
       " 'Corserey',\n",
       " 'Ferrera',\n",
       " 'Leggia',\n",
       " 'Sur',\n",
       " 'Marmorera',\n",
       " 'Hinterrhein',\n",
       " 'Personico',\n",
       " 'Rossens (FR)',\n",
       " 'Morens (FR)',\n",
       " 'Chesalles-sur-Moudon',\n",
       " 'La Folliaz',\n",
       " 'Isorno',\n",
       " 'Rocourt',\n",
       " 'Obersaxen',\n",
       " 'Preonzo',\n",
       " 'Mühledorf (BE)',\n",
       " 'Noflen',\n",
       " 'Saint-Aubin-Sauges',\n",
       " 'Corban',\n",
       " 'Zwischbergen',\n",
       " 'Hütten',\n",
       " 'Hirzel',\n",
       " 'Oberstammheim',\n",
       " 'Gorduno',\n",
       " 'Verzasca',\n",
       " 'Vellerat',\n",
       " 'Sementina',\n",
       " 'Villarepos',\n",
       " 'Grafschaft',\n",
       " 'Eisten',\n",
       " 'Blitzingen',\n",
       " 'Courlevon',\n",
       " 'Corpataux-Magnedens',\n",
       " 'Bangerten',\n",
       " 'Chésopelloz',\n",
       " 'Essert-Pittet',\n",
       " 'Cremin',\n",
       " 'Cunter',\n",
       " 'Andiast',\n",
       " 'Oberems',\n",
       " 'Golaten',\n",
       " 'Seehof',\n",
       " 'Unterstammheim',\n",
       " 'Sobrio',\n",
       " 'Villaz-Saint-Pierre',\n",
       " 'Monte Carasso',\n",
       " 'Dalpe',\n",
       " 'Cerentino',\n",
       " 'Saas',\n",
       " 'Bister',\n",
       " 'Fresens',\n",
       " 'Les Agettes',\n",
       " 'Münster-Geschinen',\n",
       " 'Schönenberg (ZH)',\n",
       " 'Gudo',\n",
       " 'Vaumarcus',\n",
       " 'Salouf',\n",
       " 'Bosco/Gurin',\n",
       " 'Dompierre (FR)',\n",
       " 'Hofstetten (ZH)',\n",
       " 'Brot-Dessous',\n",
       " 'Vernay',\n",
       " 'Sufers',\n",
       " \"Sant'Antonio\",\n",
       " 'Lodrino',\n",
       " 'Bedretto',\n",
       " 'Sarzens',\n",
       " 'Mézières (VD)',\n",
       " 'Schlosswil',\n",
       " 'Châbles',\n",
       " 'Chermignon',\n",
       " 'Embd',\n",
       " 'Prez-vers-Noréaz',\n",
       " 'Murist',\n",
       " 'Clavaleyres',\n",
       " 'Rueyres-les-Prés',\n",
       " 'Barberêche',\n",
       " 'Montana',\n",
       " 'Vuissens',\n",
       " 'Filisur',\n",
       " 'Corcelles-sur-Chavornay',\n",
       " 'Hermiswil',\n",
       " 'Jeuss',\n",
       " 'Oberösch',\n",
       " 'Gelterfingen',\n",
       " 'Léchelles',\n",
       " 'Zumholz',\n",
       " 'Forel-sur-Lucens',\n",
       " 'Niederwald',\n",
       " 'Domdidier',\n",
       " 'Schinznach-Bad',\n",
       " 'Le Bémont (JU)',\n",
       " 'Cresciano',\n",
       " 'Kammersrohr',\n",
       " 'Nufenen',\n",
       " 'Kyburg',\n",
       " 'Bas-Vully',\n",
       " 'Farvagny',\n",
       " 'Reckingen-Gluringen',\n",
       " 'Riom-Parsonz',\n",
       " 'Bergün/Bravuogn']"
      ]
     },
     "execution_count": 29,
     "metadata": {},
     "output_type": "execute_result"
    }
   ],
   "source": [
    "# difference between df & vacancy_rate\n",
    "list(set(stats[\"Regionsname\"].unique()) - set(df[\"Gemeinde\"].unique()))"
   ]
  },
  {
   "cell_type": "markdown",
   "metadata": {},
   "source": [
    "__merging of municipalities__"
   ]
  },
  {
   "cell_type": "code",
   "execution_count": 30,
   "metadata": {},
   "outputs": [],
   "source": [
    "# Rochefort\n",
    "stats[\"Regionsname\"] = stats[\"Regionsname\"].replace(\"Brot-Dessous\", \"Rochefort\")\n",
    "# Faido\n",
    "stats[\"Regionsname\"] = stats[\"Regionsname\"].replace(\"Sobrio\", \"Faido\")\n",
    "# Haute-Ajoie\n",
    "stats[\"Regionsname\"] = stats[\"Regionsname\"].replace(\"Rocourt\", \"Haute-Ajoie\")\n",
    "# Klosters-Serneus\n",
    "stats[\"Regionsname\"] = stats[\"Regionsname\"].replace(\"Saas\", \"Klosters-Serneus\")\n",
    "# Belfaux\n",
    "stats[\"Regionsname\"] = stats[\"Regionsname\"].replace(\"Autafond\", \"Belfaux\")\n",
    "# Horgen\n",
    "stats[\"Regionsname\"] = stats[\"Regionsname\"].replace(\"Hirzel\", \"Horgen\")\n",
    "# Illnau-Effretikon\n",
    "stats[\"Regionsname\"] = stats[\"Regionsname\"].replace(\"Kyburg\", \"Illnau-Effretikon\")\n",
    "# Luzein\n",
    "stats[\"Regionsname\"] = stats[\"Regionsname\"].replace(\"St. Antönien\", \"Luzein\")\n",
    "# Elgg\n",
    "stats[\"Regionsname\"] = stats[\"Regionsname\"].replace(\"Hofstetten (ZH)\", \"Elgg\")\n",
    "# Lupfig\n",
    "stats[\"Regionsname\"] = stats[\"Regionsname\"].replace(\"Scherz\", \"Lupfig\")\n",
    "# Rapperswil (BE)\n",
    "stats[\"Regionsname\"] = stats[\"Regionsname\"].replace(\"Bangerten\", \"Rapperswil (BE)\")\n",
    "# Grosshöchstetten\n",
    "stats[\"Regionsname\"] = stats[\"Regionsname\"].replace(\"Schlosswil\", \"Grosshöchstetten\")\n",
    "# Altishofen\n",
    "stats[\"Regionsname\"] = stats[\"Regionsname\"].replace(\"Ebersecken\", \"Altishofen\")\n",
    "# Reitnau\n",
    "stats[\"Regionsname\"] = stats[\"Regionsname\"].replace(\"Attelwil\", \"Reitnau\")\n",
    "# Münsingen\n",
    "stats[\"Regionsname\"] = stats[\"Regionsname\"].replace(\"Tägertschi\", \"Münsingen\")\n",
    "# Val Terbi\n",
    "stats[\"Regionsname\"] = stats[\"Regionsname\"].replace(\"Corban\", \"Val Terbi\")\n",
    "# Sion\n",
    "stats[\"Regionsname\"] = stats[\"Regionsname\"].replace(\"Les Agettes\", \"Sion\")\n",
    "# Niederbipp\n",
    "stats[\"Regionsname\"] = stats[\"Regionsname\"].replace(\"Wolfisberg\", \"Niederbipp\")\n",
    "# Surpierre\n",
    "stats[\"Regionsname\"] = stats[\"Regionsname\"].replace(\"Villeneuve (FR)\", \"Surpierre\")\n",
    "# Corminboeuf\n",
    "stats[\"Regionsname\"] = stats[\"Regionsname\"].replace(\"Chésopelloz\", \"Corminboeuf\")\n",
    "# Kallnach\n",
    "stats[\"Regionsname\"] = stats[\"Regionsname\"].replace(\"Golaten\", \"Kallnach\")\n",
    "# Chur\n",
    "stats[\"Regionsname\"] = stats[\"Regionsname\"].replace(\"Maladers\", \"Chur\")\n",
    "# Steffisburg\n",
    "stats[\"Regionsname\"] = stats[\"Regionsname\"].replace(\"Schwendibach\", \"Steffisburg\")\n",
    "# Seeberg\n",
    "stats[\"Regionsname\"] = stats[\"Regionsname\"].replace(\"Hermiswil\", \"Seeberg\")\n",
    "# Brugg\n",
    "stats[\"Regionsname\"] = stats[\"Regionsname\"].replace(\"Schinznach-Bad\", \"Brugg\")\n",
    "# Thusis\n",
    "stats[\"Regionsname\"] = stats[\"Regionsname\"].replace(\"Mutten\", \"Thusis\")\n",
    "\n",
    "\n",
    "# Cheyres-Châbles\n",
    "stats[\"Regionsname\"] = stats[\"Regionsname\"].replace(\n",
    "    dict(\n",
    "        zip(\n",
    "            [\"Châbles\", \"Cheyres\"],\n",
    "            [\"Cheyres-Châbles\"] * 2,\n",
    "        )\n",
    "    )\n",
    ")\n",
    "# Bergün Filisur\n",
    "stats[\"Regionsname\"] = stats[\"Regionsname\"].replace(\n",
    "    dict(\n",
    "        zip(\n",
    "            [\"Filisur\", \"Bergün/Bravuogn\"],\n",
    "            [\"Bergün Filisur\"] * 2,\n",
    "        )\n",
    "    )\n",
    ")\n",
    "# Courtepin\n",
    "stats[\"Regionsname\"] = stats[\"Regionsname\"].replace(\n",
    "    dict(\n",
    "        zip(\n",
    "            [\"Villarepos\", \"Barberêche\", \"Wallenried\"],\n",
    "            [\"Courtepin\"] * 3,\n",
    "        )\n",
    "    )\n",
    ")\n",
    "# Bellinzona\n",
    "stats[\"Regionsname\"] = stats[\"Regionsname\"].replace(\n",
    "    dict(\n",
    "        zip(\n",
    "            [\n",
    "                \"Camorino\",\n",
    "                \"Gudo\",\n",
    "                \"Gnosca\",\n",
    "                \"Gorduno\",\n",
    "                \"Giubiasco\",\n",
    "                \"Monte Carasso\",\n",
    "                \"Moleno\",\n",
    "                \"Sementina\",\n",
    "                \"Sant'Antonio\",\n",
    "                \"Preonzo\",\n",
    "                \"Pianezzo\",\n",
    "                \"Claro\",\n",
    "            ],\n",
    "            [\"Bellinzona\"] * 12,\n",
    "        )\n",
    "    )\n",
    ")\n",
    "# Thurnen\n",
    "stats[\"Regionsname\"] = stats[\"Regionsname\"].replace(\n",
    "    dict(\n",
    "        zip(\n",
    "            [\"Mühlethurnen\", \"Lohnstorf\", \"Kirchenthurnen\"],\n",
    "            [\"Thurnen\"] * 3,\n",
    "        )\n",
    "    )\n",
    ")\n",
    "# Onsernone\n",
    "stats[\"Regionsname\"] = stats[\"Regionsname\"].replace(\n",
    "    dict(\n",
    "        zip(\n",
    "            [\"Vergeletto\", \"Gresso\", \"Mosogno\", \"Isorno\"],\n",
    "            [\"Onsernone\"] * 4,\n",
    "        )\n",
    "    )\n",
    ")\n",
    "# Goms\n",
    "stats[\"Regionsname\"] = stats[\"Regionsname\"].replace(\n",
    "    dict(\n",
    "        zip(\n",
    "            [\n",
    "                \"Blitzingen\",\n",
    "                \"Niederwald\",\n",
    "                \"Grafschaft\",\n",
    "                \"Münster-Geschinen\",\n",
    "                \"Reckingen-Gluringen\",\n",
    "            ],\n",
    "            [\"Goms\"] * 5,\n",
    "        )\n",
    "    )\n",
    ")\n",
    "# Riviera\n",
    "stats[\"Regionsname\"] = stats[\"Regionsname\"].replace(\n",
    "    dict(\n",
    "        zip(\n",
    "            [\"Osogna\", \"Lodrino\", \"Iragna\", \"Cresciano\"],\n",
    "            [\"Riviera\"] * 4,\n",
    "        )\n",
    "    )\n",
    ")\n",
    "# Gibloux\n",
    "stats[\"Regionsname\"] = stats[\"Regionsname\"].replace(\n",
    "    dict(\n",
    "        zip(\n",
    "            [\n",
    "                \"Le Glèbe\",\n",
    "                \"Corpataux-Magnedens\",\n",
    "                \"Farvagny\",\n",
    "                \"Rossens (FR)\",\n",
    "                \"Vuisternens-en-Ogoz\",\n",
    "            ],\n",
    "            [\"Gibloux\"] * 5,\n",
    "        )\n",
    "    )\n",
    ")\n",
    "# Murten\n",
    "stats[\"Regionsname\"] = stats[\"Regionsname\"].replace(\n",
    "    dict(\n",
    "        zip(\n",
    "            [\"Courlevon\", \"Salvenach\", \"Lurtigen\", \"Jeuss\"],\n",
    "            [\"Murten\"] * 4,\n",
    "        )\n",
    "    )\n",
    ")\n",
    "# Stammheim\n",
    "stats[\"Regionsname\"] = stats[\"Regionsname\"].replace(\n",
    "    dict(\n",
    "        zip(\n",
    "            [\"Oberstammheim\", \"Unterstammheim\", \"Waltalingen\"],\n",
    "            [\"Stammheim\"] * 3,\n",
    "        )\n",
    "    )\n",
    ")\n",
    "# Breil/Brigels\n",
    "stats[\"Regionsname\"] = stats[\"Regionsname\"].replace(\n",
    "    dict(\n",
    "        zip(\n",
    "            [\"Waltensburg/Vuorz\", \"Andiast\"],\n",
    "            [\"Breil/Brigels\"] * 2,\n",
    "        )\n",
    "    )\n",
    ")\n",
    "# Estavayer\n",
    "stats[\"Regionsname\"] = stats[\"Regionsname\"].replace(\n",
    "    dict(\n",
    "        zip(\n",
    "            [\n",
    "                \"Estavayer-le-Lac\",\n",
    "                \"Vernay\",\n",
    "                \"Murist\",\n",
    "                \"Rueyres-les-Prés\",\n",
    "                \"Morens (FR)\",\n",
    "                \"Bussy (FR)\",\n",
    "                \"Vuissens\",\n",
    "            ],\n",
    "            [\"Estavayer\"] * 7,\n",
    "        )\n",
    "    )\n",
    ")\n",
    "# Surses\n",
    "stats[\"Regionsname\"] = stats[\"Regionsname\"].replace(\n",
    "    dict(\n",
    "        zip(\n",
    "            [\n",
    "                \"Tinizong-Rona\",\n",
    "                \"Sur\",\n",
    "                \"Savognin\",\n",
    "                \"Salouf\",\n",
    "                \"Riom-Parsonz\",\n",
    "                \"Mulegns\",\n",
    "                \"Marmorera\",\n",
    "                \"Cunter\",\n",
    "                \"Bivio\",\n",
    "            ],\n",
    "            [\"Surses\"] * 9,\n",
    "        )\n",
    "    )\n",
    ")\n",
    "# Crans-Montana\n",
    "stats[\"Regionsname\"] = stats[\"Regionsname\"].replace(\n",
    "    dict(\n",
    "        zip(\n",
    "            [\"Randogne\", \"Mollens (VS)\", \"Montana\", \"Chermignon\"],\n",
    "            [\"Crans-Montana\"] * 4,\n",
    "        )\n",
    "    )\n",
    ")\n",
    "# La Grande-Béroche\n",
    "stats[\"Regionsname\"] = stats[\"Regionsname\"].replace(\n",
    "    dict(\n",
    "        zip(\n",
    "            [\n",
    "                \"Vaumarcus\",\n",
    "                \"Saint-Aubin-Sauges\",\n",
    "                \"Montalchez\",\n",
    "                \"Gorgier\",\n",
    "                \"Fresens\",\n",
    "                \"Bevaix\",\n",
    "            ],\n",
    "            [\"La Grande Béroche\"] * 6,\n",
    "        )\n",
    "    )\n",
    ")\n",
    "# Lucens\n",
    "stats[\"Regionsname\"] = stats[\"Regionsname\"].replace(\n",
    "    dict(\n",
    "        zip(\n",
    "            [\n",
    "                \"Cremin\",\n",
    "                \"Chesalles-sur-Moudon\",\n",
    "                \"Brenles\",\n",
    "                \"Forel-sur-Lucens\",\n",
    "                \"Sarzens\",\n",
    "            ],\n",
    "            [\"Lucens\"] * 5,\n",
    "        )\n",
    "    )\n",
    ")\n",
    "# Rheinwald\n",
    "stats[\"Regionsname\"] = stats[\"Regionsname\"].replace(\n",
    "    dict(\n",
    "        zip(\n",
    "            [\"Splügen\", \"Nufenen\", \"Hinterrhein\"],\n",
    "            [\"Rheinwald\"] * 3,\n",
    "        )\n",
    "    )\n",
    ")\n",
    "# Belmont-Broye\n",
    "stats[\"Regionsname\"] = stats[\"Regionsname\"].replace(\n",
    "    dict(\n",
    "        zip(\n",
    "            [\"Dompierre (FR)\", \"Domdidier\", \"Russy\", \"Léchelles\"],\n",
    "            [\"Belmont-Broye\"] * 4,\n",
    "        )\n",
    "    )\n",
    ")\n",
    "# Chavornay\n",
    "stats[\"Regionsname\"] = stats[\"Regionsname\"].replace(\n",
    "    dict(\n",
    "        zip(\n",
    "            [\"Corcelles-sur-Chavornay\", \"Essert-Pittet\"],\n",
    "            [\"Chavornay\"] * 2,\n",
    "        )\n",
    "    )\n",
    ")\n",
    "# Plaffeien\n",
    "stats[\"Regionsname\"] = stats[\"Regionsname\"].replace(\n",
    "    dict(\n",
    "        zip(\n",
    "            [\"Oberschrot\", \"Zumholz\"],\n",
    "            [\"Plaffeien\"] * 2,\n",
    "        )\n",
    "    )\n",
    ")\n",
    "# Courrendlin\n",
    "stats[\"Regionsname\"] = stats[\"Regionsname\"].replace(\n",
    "    dict(\n",
    "        zip(\n",
    "            [\"Vellerat\", \"Rebeuvelier\", \"Courrendlin\"],\n",
    "            [\"Courrendlin\"] * 3,\n",
    "        )\n",
    "    )\n",
    ")\n",
    "# Mont-Vully\n",
    "stats[\"Regionsname\"] = stats[\"Regionsname\"].replace(\n",
    "    dict(\n",
    "        zip(\n",
    "            [\"Bas-Vully\", \"Haut-Vully\"],\n",
    "            [\"Mont-Vully\"] * 2,\n",
    "        )\n",
    "    )\n",
    ")\n",
    "# Muntogna da Schons\n",
    "stats[\"Regionsname\"] = stats[\"Regionsname\"].replace(\n",
    "    dict(\n",
    "        zip(\n",
    "            [\"Donat\", \"Mathon\", \"Lohn (GR)\", \"Casti-Wergenstein\"],\n",
    "            [\"Muntogna da Schons\"] * 4,\n",
    "        )\n",
    "    )\n",
    ")\n",
    "# Muntogna da Schons\n",
    "df[\"Gemeinde\"] = df[\"Gemeinde\"].replace(\n",
    "    dict(\n",
    "        zip(\n",
    "            [\"Donat\", \"Mathon\", \"Lohn (GR)\", \"Casti-Wergenstein\"],\n",
    "            [\"Muntogna da Schons\"] * 4,\n",
    "        )\n",
    "    )\n",
    ")\n",
    "# Grono\n",
    "stats[\"Regionsname\"] = stats[\"Regionsname\"].replace(\n",
    "    dict(\n",
    "        zip(\n",
    "            [\"Verdabbio\", \"Leggia\", \"Grono\"],\n",
    "            [\"Grono\"] * 3,\n",
    "        )\n",
    "    )\n",
    ")\n",
    "# Wädenswil\n",
    "stats[\"Regionsname\"] = stats[\"Regionsname\"].replace(\n",
    "    dict(\n",
    "        zip(\n",
    "            [\"Schönenberg (ZH)\", \"Hütten\"],\n",
    "            [\"Wädenswil\"] * 2,\n",
    "        )\n",
    "    )\n",
    ")\n",
    "# Ersigen\n",
    "stats[\"Regionsname\"] = stats[\"Regionsname\"].replace(\n",
    "    dict(\n",
    "        zip(\n",
    "            [\"Oberösch\", \"Niederösch\"],\n",
    "            [\"Ersigen\"] * 2,\n",
    "        )\n",
    "    )\n",
    ")\n",
    "# Obersaxen Mundaun\n",
    "stats[\"Regionsname\"] = stats[\"Regionsname\"].replace(\n",
    "    dict(\n",
    "        zip(\n",
    "            [\"Mundaun\", \"Obersaxen\"],\n",
    "            [\"Obersaxen Mundaun\"] * 2,\n",
    "        )\n",
    "    )\n",
    ")\n",
    "# Villaz\n",
    "stats[\"Regionsname\"] = stats[\"Regionsname\"].replace(\n",
    "    dict(\n",
    "        zip(\n",
    "            [\"La Folliaz\", \"Villaz-Saint-Pierre\"],\n",
    "            [\"Villaz\"] * 2,\n",
    "        )\n",
    "    )\n",
    ")\n",
    "# Murten\n",
    "stats[\"Regionsname\"] = stats[\"Regionsname\"].replace(\n",
    "    dict(\n",
    "        zip(\n",
    "            [\"Galmiz\", \"Gempenach\", \"Clavaleyres\"],\n",
    "            [\"Murten\"] * 3,\n",
    "        )\n",
    "    )\n",
    ")\n",
    "# Murten\n",
    "df[\"Gemeinde\"] = df[\"Gemeinde\"].replace(\n",
    "    dict(\n",
    "        zip(\n",
    "            [\"Galmiz\", \"Gempenach\", \"Clavaleyres\"],\n",
    "            [\"Murten\"] * 3,\n",
    "        )\n",
    "    )\n",
    ")\n",
    "# Jorat-Mézières\n",
    "stats[\"Regionsname\"] = stats[\"Regionsname\"].replace(\n",
    "    dict(\n",
    "        zip(\n",
    "            [\"Ferlens (VD)\", \"Mézières (VD)\", \"Carrouge (VD)\"],\n",
    "            [\"Jorat-Mézières\"] * 3,\n",
    "        )\n",
    "    )\n",
    ")\n",
    "# Prez\n",
    "stats[\"Regionsname\"] = stats[\"Regionsname\"].replace(\n",
    "    dict(\n",
    "        zip(\n",
    "            [\"Prez-vers-Noréaz\", \"Noréaz\", \"Corserey\"],\n",
    "            [\"Prez\"] * 3,\n",
    "        )\n",
    "    )\n",
    ")\n",
    "# Kirchdorf (BE)\n",
    "stats[\"Regionsname\"] = stats[\"Regionsname\"].replace(\n",
    "    dict(\n",
    "        zip(\n",
    "            [\"Noflen\", \"Mühledorf (BE)\", \"Gelterfingen\"],\n",
    "            [\"Kirchdorf (BE)\"] * 3,\n",
    "        )\n",
    "    )\n",
    ")\n",
    "# Verzasca\n",
    "stats[\"Regionsname\"] = stats[\"Regionsname\"].replace(\n",
    "    dict(\n",
    "        zip(\n",
    "            [\"Frasco\", \"Brione (Verzasca)\", \"Corippo\", \"Sonogno\", \"Vogorno\"],\n",
    "            [\"Verzasca\"] * 5,\n",
    "        )\n",
    "    )\n",
    ")\n",
    "# Verzasca\n",
    "df[\"Gemeinde\"] = df[\"Gemeinde\"].replace(\n",
    "    dict(\n",
    "        zip(\n",
    "            [\"Frasco\", \"Brione (Verzasca)\", \"Corippo\", \"Sonogno\", \"Vogorno\"],\n",
    "            [\"Verzasca\"] * 5,\n",
    "        )\n",
    "    )\n",
    ")"
   ]
  },
  {
   "cell_type": "code",
   "execution_count": 31,
   "metadata": {},
   "outputs": [],
   "source": [
    "# recalculate stats\n",
    "stats = stats.groupby([\"Regionsname\", \"Jahr\"], sort=False, as_index=False).agg(\n",
    "    {\n",
    "        \"Population density\": \"mean\",\n",
    "        \"Proportion of single-family house residents\": \"mean\",\n",
    "        \"Average household size\": \"mean\",\n",
    "        \"Newly built apartments per 10000 inhabitants\": \"mean\",\n",
    "        \"Share of 3-4 room apartments\": \"mean\",\n",
    "        \"Vacancy rate\": \"mean\",\n",
    "    }\n",
    ")"
   ]
  },
  {
   "cell_type": "code",
   "execution_count": 32,
   "metadata": {},
   "outputs": [
    {
     "data": {
      "text/plain": [
       "[]"
      ]
     },
     "execution_count": 32,
     "metadata": {},
     "output_type": "execute_result"
    }
   ],
   "source": [
    "# difference between df & stats\n",
    "list(set(df[\"Gemeinde\"].unique()) - set(stats[\"Regionsname\"].unique()))"
   ]
  },
  {
   "cell_type": "code",
   "execution_count": 33,
   "metadata": {},
   "outputs": [
    {
     "name": "stdout",
     "output_type": "stream",
     "text": [
      "difference 'stats' to 'df': 24\n"
     ]
    }
   ],
   "source": [
    "# Show difference between stats & df\n",
    "print(\n",
    "    \"difference 'stats' to 'df':\",\n",
    "    len(list(set(stats[\"Regionsname\"].unique()) - set(df[\"Gemeinde\"].unique()))),\n",
    ")"
   ]
  },
  {
   "cell_type": "code",
   "execution_count": 34,
   "metadata": {},
   "outputs": [
    {
     "data": {
      "text/plain": [
       "['Rebévelier',\n",
       " 'Linescio',\n",
       " 'Bosco/Gurin',\n",
       " 'Saxeten',\n",
       " 'Zwischbergen',\n",
       " 'Campo (Vallemaggia)',\n",
       " 'Sufers',\n",
       " 'Bedretto',\n",
       " 'Eisten',\n",
       " 'Embd',\n",
       " 'Damphreux',\n",
       " 'Champoz',\n",
       " 'Isenthal',\n",
       " 'Oberems',\n",
       " 'Seehof',\n",
       " 'Simplon',\n",
       " 'Binn',\n",
       " 'Ferrera',\n",
       " 'Dalpe',\n",
       " 'Le Bémont (JU)',\n",
       " 'Kammersrohr',\n",
       " 'Personico',\n",
       " 'Cerentino',\n",
       " 'Bister']"
      ]
     },
     "execution_count": 34,
     "metadata": {},
     "output_type": "execute_result"
    }
   ],
   "source": [
    "# list of municipalities not present in df\n",
    "# These are mostly very small rural municipalities with less than 200 inhabitants, which is why there aren't any advertisements\n",
    "list(set(stats[\"Regionsname\"].unique()) - set(df[\"Gemeinde\"].unique()))"
   ]
  },
  {
   "cell_type": "markdown",
   "metadata": {},
   "source": [
    "#### Merge statistical data and df"
   ]
  },
  {
   "cell_type": "code",
   "execution_count": 35,
   "metadata": {},
   "outputs": [],
   "source": [
    "# Merge DataFrames by joining them on columns, use only keys from left frame\n",
    "df_new = pd.merge(\n",
    "    df,\n",
    "    stats,\n",
    "    how=\"left\",\n",
    "    left_on=[\"Gemeinde\", \"Jahr_Erste_Publikation\"],\n",
    "    right_on=[\"Regionsname\", \"Jahr\"],\n",
    ")"
   ]
  },
  {
   "cell_type": "code",
   "execution_count": 36,
   "metadata": {},
   "outputs": [
    {
     "data": {
      "text/plain": [
       "Gemeinde                                        0\n",
       "Anzahl Zimmer                                   0\n",
       "Breitengrad                                     0\n",
       "Insertionsdauer                                 0\n",
       "Längengrad                                      0\n",
       "Nettomiete pro m2 und Jahr                      0\n",
       "Nettomiete pro Monat                            0\n",
       "Wohnfläche                                      0\n",
       "Nutzung                                         0\n",
       "Zustand                                         0\n",
       "Aussicht                                        0\n",
       "Balkon                                          0\n",
       "Bauperiode                                      0\n",
       "Minergie                                        0\n",
       "Nutzung detailliert                             0\n",
       "Parkplatz aussen                                0\n",
       "Parkplatz innen                                 0\n",
       "Rollstuhlgängig                                 0\n",
       "Verfügbarkeitskategorie                         0\n",
       "Jahr_Erste_Publikation                          0\n",
       "Monat_Erste_Publikation                         0\n",
       "Regionsname                                     0\n",
       "Jahr                                            0\n",
       "Population density                              0\n",
       "Proportion of single-family house residents     0\n",
       "Average household size                          0\n",
       "Newly built apartments per 10000 inhabitants    0\n",
       "Share of 3-4 room apartments                    0\n",
       "Vacancy rate                                    0\n",
       "dtype: int64"
      ]
     },
     "execution_count": 36,
     "metadata": {},
     "output_type": "execute_result"
    }
   ],
   "source": [
    "df_new.isnull().sum()"
   ]
  },
  {
   "cell_type": "code",
   "execution_count": 37,
   "metadata": {},
   "outputs": [],
   "source": [
    "# drop the column \"year\", it is not needed\n",
    "df = df_new.drop([\"Jahr\", \"Regionsname\"], axis=1)"
   ]
  },
  {
   "cell_type": "code",
   "execution_count": 38,
   "metadata": {},
   "outputs": [
    {
     "data": {
      "text/html": [
       "<div>\n",
       "<style scoped>\n",
       "    .dataframe tbody tr th:only-of-type {\n",
       "        vertical-align: middle;\n",
       "    }\n",
       "\n",
       "    .dataframe tbody tr th {\n",
       "        vertical-align: top;\n",
       "    }\n",
       "\n",
       "    .dataframe thead th {\n",
       "        text-align: right;\n",
       "    }\n",
       "</style>\n",
       "<table border=\"1\" class=\"dataframe\">\n",
       "  <thead>\n",
       "    <tr style=\"text-align: right;\">\n",
       "      <th></th>\n",
       "      <th>Gemeinde</th>\n",
       "      <th>Jahr_Erste_Publikation</th>\n",
       "      <th>Population density</th>\n",
       "      <th>Proportion of single-family house residents</th>\n",
       "      <th>Average household size</th>\n",
       "      <th>Newly built apartments per 10000 inhabitants</th>\n",
       "      <th>Share of 3-4 room apartments</th>\n",
       "      <th>Vacancy rate</th>\n",
       "    </tr>\n",
       "  </thead>\n",
       "  <tbody>\n",
       "    <tr>\n",
       "      <th>921881</th>\n",
       "      <td>St. Margrethen</td>\n",
       "      <td>2016</td>\n",
       "      <td>850.218341</td>\n",
       "      <td>31.589709</td>\n",
       "      <td>2.347755</td>\n",
       "      <td>0.172652</td>\n",
       "      <td>58.307100</td>\n",
       "      <td>4.172560</td>\n",
       "    </tr>\n",
       "    <tr>\n",
       "      <th>921882</th>\n",
       "      <td>St. Margrethen</td>\n",
       "      <td>2016</td>\n",
       "      <td>850.218341</td>\n",
       "      <td>31.589709</td>\n",
       "      <td>2.347755</td>\n",
       "      <td>0.172652</td>\n",
       "      <td>58.307100</td>\n",
       "      <td>4.172560</td>\n",
       "    </tr>\n",
       "    <tr>\n",
       "      <th>921883</th>\n",
       "      <td>Stans</td>\n",
       "      <td>2015</td>\n",
       "      <td>747.021661</td>\n",
       "      <td>12.613663</td>\n",
       "      <td>2.340876</td>\n",
       "      <td>2.295518</td>\n",
       "      <td>60.439845</td>\n",
       "      <td>0.701663</td>\n",
       "    </tr>\n",
       "    <tr>\n",
       "      <th>921884</th>\n",
       "      <td>Wängi</td>\n",
       "      <td>2015</td>\n",
       "      <td>278.758369</td>\n",
       "      <td>57.268817</td>\n",
       "      <td>2.488141</td>\n",
       "      <td>13.755459</td>\n",
       "      <td>42.623788</td>\n",
       "      <td>1.319958</td>\n",
       "    </tr>\n",
       "    <tr>\n",
       "      <th>921885</th>\n",
       "      <td>Grosshöchstetten</td>\n",
       "      <td>2015</td>\n",
       "      <td>597.668705</td>\n",
       "      <td>31.354411</td>\n",
       "      <td>2.266845</td>\n",
       "      <td>0.711035</td>\n",
       "      <td>50.566159</td>\n",
       "      <td>2.032627</td>\n",
       "    </tr>\n",
       "  </tbody>\n",
       "</table>\n",
       "</div>"
      ],
      "text/plain": [
       "                Gemeinde  Jahr_Erste_Publikation  Population density  \\\n",
       "921881    St. Margrethen                    2016          850.218341   \n",
       "921882    St. Margrethen                    2016          850.218341   \n",
       "921883             Stans                    2015          747.021661   \n",
       "921884             Wängi                    2015          278.758369   \n",
       "921885  Grosshöchstetten                    2015          597.668705   \n",
       "\n",
       "        Proportion of single-family house residents  Average household size  \\\n",
       "921881                                    31.589709                2.347755   \n",
       "921882                                    31.589709                2.347755   \n",
       "921883                                    12.613663                2.340876   \n",
       "921884                                    57.268817                2.488141   \n",
       "921885                                    31.354411                2.266845   \n",
       "\n",
       "        Newly built apartments per 10000 inhabitants  \\\n",
       "921881                                      0.172652   \n",
       "921882                                      0.172652   \n",
       "921883                                      2.295518   \n",
       "921884                                     13.755459   \n",
       "921885                                      0.711035   \n",
       "\n",
       "        Share of 3-4 room apartments  Vacancy rate  \n",
       "921881                     58.307100      4.172560  \n",
       "921882                     58.307100      4.172560  \n",
       "921883                     60.439845      0.701663  \n",
       "921884                     42.623788      1.319958  \n",
       "921885                     50.566159      2.032627  "
      ]
     },
     "execution_count": 38,
     "metadata": {},
     "output_type": "execute_result"
    }
   ],
   "source": [
    "# show data\n",
    "df[\n",
    "    [\n",
    "        \"Gemeinde\",\n",
    "        \"Jahr_Erste_Publikation\",\n",
    "        \"Population density\",\n",
    "        \"Proportion of single-family house residents\",\n",
    "        \"Average household size\",\n",
    "        \"Newly built apartments per 10000 inhabitants\",\n",
    "        \"Share of 3-4 room apartments\",\n",
    "        \"Vacancy rate\",\n",
    "    ]\n",
    "].tail()"
   ]
  },
  {
   "cell_type": "code",
   "execution_count": 39,
   "metadata": {},
   "outputs": [
    {
     "data": {
      "text/plain": [
       "(921886, 27)"
      ]
     },
     "execution_count": 39,
     "metadata": {},
     "output_type": "execute_result"
    }
   ],
   "source": [
    "df.shape"
   ]
  },
  {
   "cell_type": "markdown",
   "metadata": {},
   "source": [
    "#### Log-transformation of statistical data"
   ]
  },
  {
   "cell_type": "code",
   "execution_count": 40,
   "metadata": {},
   "outputs": [],
   "source": [
    "# define the new features added\n",
    "df_stats = [\n",
    "    \"Population density\",\n",
    "    \"Proportion of single-family house residents\",\n",
    "    \"Average household size\",\n",
    "    \"Newly built apartments per 10000 inhabitants\",\n",
    "    \"Share of 3-4 room apartments\",\n",
    "    \"Vacancy rate\",\n",
    "]"
   ]
  },
  {
   "cell_type": "code",
   "execution_count": 41,
   "metadata": {},
   "outputs": [
    {
     "data": {
      "image/png": "[encoded data removed]",
      "text/plain": [
       "<Figure size 1500x600 with 6 Axes>"
      ]
     },
     "metadata": {},
     "output_type": "display_data"
    }
   ],
   "source": [
    "# Plots the histogram for each numerical feature in a separate subplot\n",
    "df[df_stats].hist(bins=80, figsize=(15, 6), layout=(-1, 3), edgecolor=\"black\")\n",
    "plt.tight_layout()\n",
    "plt.show()"
   ]
  },
  {
   "cell_type": "code",
   "execution_count": 42,
   "metadata": {},
   "outputs": [
    {
     "data": {
      "text/plain": [
       "Population density                              2.604174\n",
       "Proportion of single-family house residents     0.489523\n",
       "Average household size                          0.557683\n",
       "Newly built apartments per 10000 inhabitants    4.885413\n",
       "Share of 3-4 room apartments                   -0.677914\n",
       "Vacancy rate                                    2.369044\n",
       "dtype: float64"
      ]
     },
     "execution_count": 42,
     "metadata": {},
     "output_type": "execute_result"
    }
   ],
   "source": [
    "df[df_stats].skew()"
   ]
  },
  {
   "cell_type": "markdown",
   "metadata": {},
   "source": [
    "I will have to log-transform the features ``newly built apartments``, ``Population density``and ``Vacancy rate``as they are a clearly left skewed."
   ]
  },
  {
   "cell_type": "code",
   "execution_count": 43,
   "metadata": {},
   "outputs": [],
   "source": [
    "df_skewed = [\n",
    "    \"Newly built apartments per 10000 inhabitants\",\n",
    "    \"Vacancy rate\",\n",
    "    \"Population density\",\n",
    "]"
   ]
  },
  {
   "cell_type": "code",
   "execution_count": 44,
   "metadata": {},
   "outputs": [],
   "source": [
    "# performing logarithmic transformation by applying log(x+1) element-wise to a subset of columns\n",
    "# by performing x+1 I will add a constant value to each value of variable and therefore avoiding zero-values\n",
    "df[df_skewed] = df[df_skewed].applymap(lambda x: np.log(x + 1))"
   ]
  },
  {
   "cell_type": "code",
   "execution_count": 45,
   "metadata": {},
   "outputs": [
    {
     "data": {
      "image/png": "[encoded data removed]",
      "text/plain": [
       "<Figure size 1500x600 with 6 Axes>"
      ]
     },
     "metadata": {},
     "output_type": "display_data"
    }
   ],
   "source": [
    "# Plots the histogram for each numerical feature in a separate subplot\n",
    "df[df_stats].hist(bins=80, figsize=(15, 6), layout=(-1, 3), edgecolor=\"black\")\n",
    "plt.tight_layout()\n",
    "plt.show()"
   ]
  },
  {
   "cell_type": "markdown",
   "metadata": {
    "tags": []
   },
   "source": [
    "## Spatial categories for the municipalities"
   ]
  },
  {
   "cell_type": "markdown",
   "metadata": {},
   "source": [
    "The municipality has a very large influence on the insertion period. But since I cannot include 2,000+ municipalities in my machine learning model, I have to aggregate the municipalities. I will do so in the next steps with the help of the spatial categories."
   ]
  },
  {
   "cell_type": "markdown",
   "metadata": {},
   "source": [
    "### The data"
   ]
  },
  {
   "cell_type": "markdown",
   "metadata": {},
   "source": [
    "My thrid data source is also from the Federal Statistical Office. It contains municipal typology for the over 2'000 municipalities in Switzerland. According to the FSO ([Link](https://www.atlas.bfs.admin.ch/maps/13/map/mapIdOnly/20593_de.html)): \"The definition of the Municipality Typology 2012 follows a three-stage decision tree. First, the municipalities of Switzerland are assigned to one of three categories according to the definition \"Spatial with Urban Character 2012\". These in turn are subdivided into 9 and further into 25 categories, resulting in the two levels of the community typology. While the differentiation of the 9 categories is based on density, size and accessibility criteria, socioeconomic criteria are used for the finer division into 25 categories.\" "
   ]
  },
  {
   "cell_type": "code",
   "execution_count": 46,
   "metadata": {},
   "outputs": [],
   "source": [
    "# import data\n",
    "spatial_cat = pd.read_csv(\"data/Raumgliederungen.csv\", delimiter=\";\")"
   ]
  },
  {
   "cell_type": "code",
   "execution_count": 47,
   "metadata": {},
   "outputs": [
    {
     "name": "stdout",
     "output_type": "stream",
     "text": [
      "<class 'pandas.core.frame.DataFrame'>\n",
      "RangeIndex: 2145 entries, 0 to 2144\n",
      "Data columns (total 12 columns):\n",
      " #   Column         Non-Null Count  Dtype \n",
      "---  ------         --------------  ----- \n",
      " 0   Gmd Nr         2145 non-null   int64 \n",
      " 1   Gmd            2145 non-null   object\n",
      " 2   Kanton Nr      2145 non-null   int64 \n",
      " 3   Kanton         2145 non-null   object\n",
      " 4   Bezirk Nr      2145 non-null   int64 \n",
      " 5   Bezirksname    2145 non-null   object\n",
      " 6   3 Gmd Kat Nr   2145 non-null   int64 \n",
      " 7   3 Gmd Kat      2145 non-null   object\n",
      " 8   9 Gmd Kat Nr   2145 non-null   int64 \n",
      " 9   9 Gmd Kat      2145 non-null   object\n",
      " 10  25 Gmd Kat Nr  2145 non-null   int64 \n",
      " 11  25 Gmd Kat     2145 non-null   object\n",
      "dtypes: int64(6), object(6)\n",
      "memory usage: 201.2+ KB\n"
     ]
    },
    {
     "data": {
      "text/plain": [
       "None"
      ]
     },
     "metadata": {},
     "output_type": "display_data"
    }
   ],
   "source": [
    "# column names, count and type\n",
    "display(spatial_cat.info(show_counts=True))"
   ]
  },
  {
   "cell_type": "markdown",
   "metadata": {},
   "source": [
    "* ``Gmd Nr``: identification number of municipality\n",
    "* ``Gmd``: name of municipality\n",
    "* ``Kanton Nr``: identification number of canton\n",
    "* ``Kanton``: name of canton\n",
    "* ``Bezirk Nr``: identification number of district\n",
    "* ``Bezirksname``: name of district\n",
    "* ``3 Gmd Kat Nr``: identification number of the 3 categories\n",
    "* ``3 Gmd Kat``: name of the 3 categories\n",
    "* ``9 Gmd Kat Nr``: identification number of the 9 categories\n",
    "* ``9 Gmd Kat``: name of the 9 categories\n",
    "* ``25 Gmd Kat Nr``: identification number of the 25 categories\n",
    "* ``25 Gmd Kat``: name of the 25 categories"
   ]
  },
  {
   "cell_type": "code",
   "execution_count": 48,
   "metadata": {},
   "outputs": [],
   "source": [
    "# I will drop the features not needed.\n",
    "spatial_cat.drop(\n",
    "    columns=[\n",
    "        \"Gmd Nr\",\n",
    "        \"Kanton Nr\",\n",
    "        \"Bezirk Nr\",\n",
    "        \"Bezirksname\",\n",
    "        \"3 Gmd Kat Nr\",\n",
    "        \"9 Gmd Kat Nr\",\n",
    "        \"25 Gmd Kat Nr\",\n",
    "    ],\n",
    "    inplace=True,\n",
    ")"
   ]
  },
  {
   "cell_type": "code",
   "execution_count": 49,
   "metadata": {},
   "outputs": [
    {
     "data": {
      "text/html": [
       "<div>\n",
       "<style scoped>\n",
       "    .dataframe tbody tr th:only-of-type {\n",
       "        vertical-align: middle;\n",
       "    }\n",
       "\n",
       "    .dataframe tbody tr th {\n",
       "        vertical-align: top;\n",
       "    }\n",
       "\n",
       "    .dataframe thead th {\n",
       "        text-align: right;\n",
       "    }\n",
       "</style>\n",
       "<table border=\"1\" class=\"dataframe\">\n",
       "  <thead>\n",
       "    <tr style=\"text-align: right;\">\n",
       "      <th></th>\n",
       "      <th>Gmd</th>\n",
       "      <th>Kanton</th>\n",
       "      <th>3 Gmd Kat</th>\n",
       "      <th>9 Gmd Kat</th>\n",
       "      <th>25 Gmd Kat</th>\n",
       "    </tr>\n",
       "  </thead>\n",
       "  <tbody>\n",
       "    <tr>\n",
       "      <th>0</th>\n",
       "      <td>Aeugst am Albis</td>\n",
       "      <td>ZH</td>\n",
       "      <td>Ländlich</td>\n",
       "      <td>Periurbane Gemeinde geringer Dichte</td>\n",
       "      <td>Periurbane Dienstleistungsgemeinde geringer Di...</td>\n",
       "    </tr>\n",
       "    <tr>\n",
       "      <th>1</th>\n",
       "      <td>Affoltern am Albis</td>\n",
       "      <td>ZH</td>\n",
       "      <td>Städtisch</td>\n",
       "      <td>Städtische Gemeinde einer grossen Agglomeration</td>\n",
       "      <td>Städtische Arbeitsplatzgemeinde einer grossen ...</td>\n",
       "    </tr>\n",
       "    <tr>\n",
       "      <th>2</th>\n",
       "      <td>Bonstetten</td>\n",
       "      <td>ZH</td>\n",
       "      <td>Intermediär (dichter periurbaner Raum und länd...</td>\n",
       "      <td>Periurbane Gemeinde mittlerer Dichte</td>\n",
       "      <td>Periurbane Dienstleistungsgemeinde mittlerer D...</td>\n",
       "    </tr>\n",
       "    <tr>\n",
       "      <th>3</th>\n",
       "      <td>Hausen am Albis</td>\n",
       "      <td>ZH</td>\n",
       "      <td>Intermediär (dichter periurbaner Raum und länd...</td>\n",
       "      <td>Periurbane Gemeinde mittlerer Dichte</td>\n",
       "      <td>Periurbane Dienstleistungsgemeinde mittlerer D...</td>\n",
       "    </tr>\n",
       "    <tr>\n",
       "      <th>4</th>\n",
       "      <td>Hedingen</td>\n",
       "      <td>ZH</td>\n",
       "      <td>Städtisch</td>\n",
       "      <td>Städtische Gemeinde einer grossen Agglomeration</td>\n",
       "      <td>Städtische Wohngemeinde einer grossen Agglomer...</td>\n",
       "    </tr>\n",
       "  </tbody>\n",
       "</table>\n",
       "</div>"
      ],
      "text/plain": [
       "                  Gmd Kanton  \\\n",
       "0     Aeugst am Albis     ZH   \n",
       "1  Affoltern am Albis     ZH   \n",
       "2          Bonstetten     ZH   \n",
       "3     Hausen am Albis     ZH   \n",
       "4            Hedingen     ZH   \n",
       "\n",
       "                                           3 Gmd Kat  \\\n",
       "0                                           Ländlich   \n",
       "1                                          Städtisch   \n",
       "2  Intermediär (dichter periurbaner Raum und länd...   \n",
       "3  Intermediär (dichter periurbaner Raum und länd...   \n",
       "4                                          Städtisch   \n",
       "\n",
       "                                         9 Gmd Kat  \\\n",
       "0              Periurbane Gemeinde geringer Dichte   \n",
       "1  Städtische Gemeinde einer grossen Agglomeration   \n",
       "2             Periurbane Gemeinde mittlerer Dichte   \n",
       "3             Periurbane Gemeinde mittlerer Dichte   \n",
       "4  Städtische Gemeinde einer grossen Agglomeration   \n",
       "\n",
       "                                          25 Gmd Kat  \n",
       "0  Periurbane Dienstleistungsgemeinde geringer Di...  \n",
       "1  Städtische Arbeitsplatzgemeinde einer grossen ...  \n",
       "2  Periurbane Dienstleistungsgemeinde mittlerer D...  \n",
       "3  Periurbane Dienstleistungsgemeinde mittlerer D...  \n",
       "4  Städtische Wohngemeinde einer grossen Agglomer...  "
      ]
     },
     "execution_count": 49,
     "metadata": {},
     "output_type": "execute_result"
    }
   ],
   "source": [
    "# show data\n",
    "spatial_cat.head(5)"
   ]
  },
  {
   "cell_type": "markdown",
   "metadata": {},
   "source": [
    "### Exploratory data analysis (EDA)"
   ]
  },
  {
   "cell_type": "markdown",
   "metadata": {},
   "source": [
    "### Data coherence"
   ]
  },
  {
   "cell_type": "markdown",
   "metadata": {},
   "source": [
    "In a next step, I will combine the advertisements incl. the statistical data with my spatial categories. But before merging theses datasets, I will once again have to make sure that the municipalities are the same."
   ]
  },
  {
   "cell_type": "code",
   "execution_count": 50,
   "metadata": {},
   "outputs": [],
   "source": [
    "sc_unique = spatial_cat[\"Gmd\"].unique()\n",
    "df_unique = df[\"Gemeinde\"].unique()"
   ]
  },
  {
   "cell_type": "code",
   "execution_count": 51,
   "metadata": {},
   "outputs": [
    {
     "name": "stdout",
     "output_type": "stream",
     "text": [
      "difference 'df' to 'spatial categories': 61\n",
      "difference 'spatial categories' to 'df': 38\n"
     ]
    }
   ],
   "source": [
    "# check if the municipality names match between the two datasets.\n",
    "print(\n",
    "    \"difference 'df' to 'spatial categories':\",\n",
    "    len(list(set(df_unique) - set(sc_unique))),\n",
    ")\n",
    "\n",
    "print(\n",
    "    \"difference 'spatial categories' to 'df':\",\n",
    "    len(list(set(sc_unique) - set(df_unique))),\n",
    ")"
   ]
  },
  {
   "cell_type": "code",
   "execution_count": 52,
   "metadata": {},
   "outputs": [
    {
     "data": {
      "text/plain": [
       "['Rebévelier',\n",
       " 'Crans (VD)',\n",
       " \"Bois-d'Amont\",\n",
       " 'Linescio',\n",
       " 'Noble-Contrée',\n",
       " 'Bosco/Gurin',\n",
       " 'Saxeten',\n",
       " 'Zwischbergen',\n",
       " 'Campo (Vallemaggia)',\n",
       " 'Val Mara',\n",
       " 'Sufers',\n",
       " 'Bedretto',\n",
       " 'Eisten',\n",
       " 'Blonay - Saint-Légier',\n",
       " 'Embd',\n",
       " 'Damphreux',\n",
       " 'Welschenrohr-Gänsbrunnen',\n",
       " 'Champoz',\n",
       " 'Isenthal',\n",
       " 'La Punt Chamues-ch',\n",
       " 'Böztal',\n",
       " 'Val de Bagnes',\n",
       " 'Hautemorges',\n",
       " 'Oberems',\n",
       " 'Seehof',\n",
       " 'Simplon',\n",
       " 'Binn',\n",
       " 'Ferrera',\n",
       " 'Tresa',\n",
       " 'Dalpe',\n",
       " 'Le Bémont (JU)',\n",
       " 'Klosters',\n",
       " 'Personico',\n",
       " 'Kammersrohr',\n",
       " 'Schwende-Rüte',\n",
       " 'Zurzach',\n",
       " 'Cerentino',\n",
       " 'Bister']"
      ]
     },
     "execution_count": 52,
     "metadata": {},
     "output_type": "execute_result"
    }
   ],
   "source": [
    "# difference between spatial_cat & df\n",
    "list(set(spatial_cat[\"Gmd\"].unique()) - set(df[\"Gemeinde\"].unique()))"
   ]
  },
  {
   "cell_type": "code",
   "execution_count": 53,
   "metadata": {},
   "outputs": [
    {
     "data": {
      "text/plain": [
       "['Corcelles-Cormondrèche',\n",
       " 'Bad Zurzach',\n",
       " 'La Punt-Chamues-ch',\n",
       " 'Rüte',\n",
       " 'Reverolle',\n",
       " 'Mötschwil',\n",
       " 'Blonay',\n",
       " 'Peseux',\n",
       " 'Rovio',\n",
       " 'Croglio',\n",
       " 'Cottens (VD)',\n",
       " 'Bioley-Orjulaz',\n",
       " 'St. Antoni',\n",
       " 'Hornussen',\n",
       " 'Ponte Tresa',\n",
       " 'Ependes (FR)',\n",
       " 'Senèdes',\n",
       " 'Maroggia',\n",
       " 'Saint-Légier-La Chiésaz',\n",
       " 'Bussy-Chardonney',\n",
       " 'Rümligen',\n",
       " 'Charrat',\n",
       " 'Klosters-Serneus',\n",
       " 'Alterswil',\n",
       " 'Vollèges',\n",
       " 'Welschenrohr',\n",
       " 'Gänsbrunnen',\n",
       " 'Venthône',\n",
       " 'Baldingen',\n",
       " 'Melano',\n",
       " 'Rietheim',\n",
       " 'Schwende',\n",
       " 'Pampigny',\n",
       " 'Les Brenets',\n",
       " 'Arconciel',\n",
       " 'Effingen',\n",
       " 'Sessa',\n",
       " 'Valangin',\n",
       " 'Haldenstein',\n",
       " 'Monteggio',\n",
       " 'Obersteckholz',\n",
       " 'Bözen',\n",
       " 'Montherod',\n",
       " 'Kaiserstuhl',\n",
       " 'Bagnes',\n",
       " 'Rekingen (AG)',\n",
       " 'Rümikon',\n",
       " 'Crans-près-Céligny',\n",
       " 'Elfingen',\n",
       " 'Veyras',\n",
       " 'Apples',\n",
       " 'Böbikon',\n",
       " 'Wislikofen',\n",
       " 'Sévery',\n",
       " 'Altwis',\n",
       " 'Rohr (SO)',\n",
       " 'Bauen',\n",
       " 'Gettnau',\n",
       " 'Essertes',\n",
       " 'Miège',\n",
       " 'Cheiry']"
      ]
     },
     "execution_count": 53,
     "metadata": {},
     "output_type": "execute_result"
    }
   ],
   "source": [
    "# difference between spatial_cat & df\n",
    "list(set(df[\"Gemeinde\"].unique()) - set(spatial_cat[\"Gmd\"].unique()))"
   ]
  },
  {
   "cell_type": "markdown",
   "metadata": {},
   "source": [
    "I will once again correct the missmatches."
   ]
  },
  {
   "cell_type": "code",
   "execution_count": 54,
   "metadata": {},
   "outputs": [],
   "source": [
    "# La Punt Chamues-ch\n",
    "df[\"Gemeinde\"] = df[\"Gemeinde\"].str.replace(\"La Punt-Chamues-ch\", \"La Punt Chamues-ch\")\n",
    "# Crans (VD)\n",
    "df[\"Gemeinde\"] = df[\"Gemeinde\"].str.replace(\"Crans-près-Céligny\", \"Crans (VD)\")\n",
    "# Oron\n",
    "df[\"Gemeinde\"] = df[\"Gemeinde\"].str.replace(\"Essertes\", \"Oron\")\n",
    "# Assens\n",
    "df[\"Gemeinde\"] = df[\"Gemeinde\"].str.replace(\"Bioley-Orjulaz\", \"Assens\")\n",
    "# Klosters\n",
    "df[\"Gemeinde\"] = df[\"Gemeinde\"].str.replace(\"Klosters-Serneus\", \"Klosters\")\n",
    "# Le Locle\n",
    "df[\"Gemeinde\"] = df[\"Gemeinde\"].str.replace(\"Les Brenets\", \"Le Locle\")\n",
    "# Surpierre\n",
    "df[\"Gemeinde\"] = df[\"Gemeinde\"].str.replace(\"Cheiry\", \"Surpierre\")\n",
    "# Stüsslingen\n",
    "df[df[\"Gemeinde\"] == \"Rohr (SO)\"] = df[df[\"Gemeinde\"] == \"Rohr (SO)\"].replace(\n",
    "    \"Rohr (SO)\", \"Stüsslingen\"\n",
    ")  # special case\n",
    "# Chur\n",
    "df[\"Gemeinde\"] = df[\"Gemeinde\"].str.replace(\"Haldenstein\", \"Chur\")\n",
    "# Riggisberg\n",
    "df[\"Gemeinde\"] = df[\"Gemeinde\"].str.replace(\"Rümligen\", \"Riggisberg\")\n",
    "# Aubonne\n",
    "df[\"Gemeinde\"] = df[\"Gemeinde\"].str.replace(\"Montherod\", \"Aubonne\")\n",
    "# Seedorf (UR)\n",
    "df[\"Gemeinde\"] = df[\"Gemeinde\"].str.replace(\"Bauen\", \"Seedorf (UR)\")\n",
    "# Hindelbank\n",
    "df[\"Gemeinde\"] = df[\"Gemeinde\"].str.replace(\"Mötschwil\", \"Hindelbank\")\n",
    "# Willisau\n",
    "df[\"Gemeinde\"] = df[\"Gemeinde\"].str.replace(\"Gettnau\", \"Willisau\")\n",
    "# Hitzkirch\n",
    "df[\"Gemeinde\"] = df[\"Gemeinde\"].str.replace(\"Altwis\", \"Hitzkirch\")\n",
    "# Martigny\n",
    "df[\"Gemeinde\"] = df[\"Gemeinde\"].str.replace(\"Charrat\", \"Martigny\")\n",
    "# Langenthal\n",
    "df[\"Gemeinde\"] = df[\"Gemeinde\"].str.replace(\"Obersteckholz\", \"Langenthal\")\n",
    "\n",
    "# \tNeuchâtel\n",
    "df[\"Gemeinde\"] = df[\"Gemeinde\"].replace(\n",
    "    dict(zip([\"Corcelles-Cormondrèche\", \"Peseux\", \"Valangin\"], [\"Neuchâtel\"] * 3)),\n",
    ")\n",
    "# Tafers\n",
    "df[\"Gemeinde\"] = df[\"Gemeinde\"].replace(\n",
    "    dict(zip([\"St. Antoni\", \"Alterswil\"], [\"Tafers\"] * 2)),\n",
    ")\n",
    "# Hautemorges\n",
    "df[\"Gemeinde\"] = df[\"Gemeinde\"].replace(\n",
    "    dict(\n",
    "        zip(\n",
    "            [\n",
    "                \"Bussy-Chardonney\",\n",
    "                \"Pampigny\",\n",
    "                \"Sévery\",\n",
    "                \"Reverolle\",\n",
    "                \"Apples\",\n",
    "                \"Cottens (VD)\",\n",
    "            ],\n",
    "            [\"Hautemorges\"] * 6,\n",
    "        )\n",
    "    ),\n",
    ")\n",
    "# Blonay\n",
    "df[\"Gemeinde\"] = df[\"Gemeinde\"].replace(\n",
    "    dict(zip([\"Saint-Légier-La Chiésaz\", \"Blonay\"], [\"Blonay - Saint-Légier\"] * 2)),\n",
    ")\n",
    "# Böztal\n",
    "df[\"Gemeinde\"] = df[\"Gemeinde\"].replace(\n",
    "    dict(\n",
    "        zip(\n",
    "            [\n",
    "                \"Hornussen\",\n",
    "                \"Bözen\",\n",
    "                \"Effingen\",\n",
    "                \"Elfingen\",\n",
    "            ],\n",
    "            [\"Böztal\"] * 4,\n",
    "        )\n",
    "    ),\n",
    ")\n",
    "# Zurzach\n",
    "df[\"Gemeinde\"] = df[\"Gemeinde\"].replace(\n",
    "    dict(\n",
    "        zip(\n",
    "            [\n",
    "                \"Wislikofen\",\n",
    "                \"Baldingen\",\n",
    "                \"Böbikon\",\n",
    "                \"Kaiserstuhl\",\n",
    "                \"Rümikon\",\n",
    "                \"Rietheim\",\n",
    "                \"Rekingen (AG)\",\n",
    "                \"Bad Zurzach\",\n",
    "                \"Zurzach\",\n",
    "            ],\n",
    "            [\"Zurzach\"] * 9,\n",
    "        )\n",
    "    ),\n",
    ")\n",
    "# Val Mara\n",
    "df[\"Gemeinde\"] = df[\"Gemeinde\"].replace(\n",
    "    dict(\n",
    "        zip(\n",
    "            [\"Melano\", \"Maroggia\", \"Rovio\"],\n",
    "            [\"Val Mara\"] * 3,\n",
    "        )\n",
    "    ),\n",
    ")\n",
    "# Schwende-Rüte\n",
    "df[\"Gemeinde\"] = df[\"Gemeinde\"].replace(\n",
    "    dict(\n",
    "        zip(\n",
    "            [\"Rüte\", \"Schwende\"],\n",
    "            [\"Schwende-Rüte\"] * 2,\n",
    "        )\n",
    "    ),\n",
    ")\n",
    "# Vald de Bagnes\n",
    "df[\"Gemeinde\"] = df[\"Gemeinde\"].replace(\n",
    "    dict(zip([\"Bagnes\", \"Vollèges\", \"Monteggio\"], [\"Val de Bagnes\"] * 3)),\n",
    ")\n",
    "# Tresa\n",
    "df[\"Gemeinde\"] = df[\"Gemeinde\"].replace(\n",
    "    dict(zip([\"Sessa\", \"Croglio\", \"Monteggio\", \"Ponte Tresa\"], [\"Tresa\"] * 4)),\n",
    ")\n",
    "# Welschenrohr-Gänsbrunnen\n",
    "df[\"Gemeinde\"] = df[\"Gemeinde\"].replace(\n",
    "    dict(zip([\"Gänsbrunnen\", \"Welschenrohr\"], [\"Welschenrohr-Gänsbrunnen\"] * 2)),\n",
    ")\n",
    "# Bois-d'Amont\n",
    "df[\"Gemeinde\"] = df[\"Gemeinde\"].replace(\n",
    "    dict(zip([\"Arconciel\", \"Ependes (FR)\", \"Senèdes\"], [\"Bois-d'Amont\"] * 3)),\n",
    ")\n",
    "# Noble-Contrée\n",
    "df[\"Gemeinde\"] = df[\"Gemeinde\"].replace(\n",
    "    dict(zip([\"Miège\", \"Venthône\", \"Veyras\"], [\"Noble-Contrée\"] * 3)),\n",
    ")"
   ]
  },
  {
   "cell_type": "markdown",
   "metadata": {},
   "source": [
    "### Merge data"
   ]
  },
  {
   "cell_type": "code",
   "execution_count": 55,
   "metadata": {},
   "outputs": [],
   "source": [
    "# Merge DataFrames\n",
    "df = pd.merge(\n",
    "    df,\n",
    "    spatial_cat,\n",
    "    how=\"left\",\n",
    "    left_on=[\"Gemeinde\"],\n",
    "    right_on=[\n",
    "        \"Gmd\",\n",
    "    ],\n",
    ")"
   ]
  },
  {
   "cell_type": "code",
   "execution_count": 56,
   "metadata": {},
   "outputs": [],
   "source": [
    "# drop the column \"Gmd\", it is not needed\n",
    "df.drop([\"Gmd\"], axis=1, inplace=True)"
   ]
  },
  {
   "cell_type": "code",
   "execution_count": 57,
   "metadata": {},
   "outputs": [
    {
     "data": {
      "text/plain": [
       "(921886, 31)"
      ]
     },
     "execution_count": 57,
     "metadata": {},
     "output_type": "execute_result"
    }
   ],
   "source": [
    "df.shape"
   ]
  },
  {
   "cell_type": "markdown",
   "metadata": {},
   "source": [
    "## Export"
   ]
  },
  {
   "cell_type": "code",
   "execution_count": 58,
   "metadata": {},
   "outputs": [],
   "source": [
    "# export to csv\n",
    "from pathlib import Path\n",
    "\n",
    "filepath = Path(\"Data/ads&stats_after_eda.csv\")\n",
    "filepath.parent.mkdir(parents=True, exist_ok=True)\n",
    "df.to_csv(filepath, index=False)"
   ]
  },
  {
   "cell_type": "code",
   "execution_count": null,
   "metadata": {},
   "outputs": [],
   "source": []
  }
 ],
 "metadata": {
  "kernelspec": {
   "display_name": "Python 3 (ipykernel)",
   "language": "python",
   "name": "python3"
  },
  "language_info": {
   "codemirror_mode": {
    "name": "ipython",
    "version": 3
   },
   "file_extension": ".py",
   "mimetype": "text/x-python",
   "name": "python",
   "nbconvert_exporter": "python",
   "pygments_lexer": "ipython3",
   "version": "3.9.7"
  }
 },
 "nbformat": 4,
 "nbformat_minor": 4
}
