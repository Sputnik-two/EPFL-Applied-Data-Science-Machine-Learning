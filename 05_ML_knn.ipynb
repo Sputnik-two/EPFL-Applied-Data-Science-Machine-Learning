{
 "cells": [
  {
   "cell_type": "markdown",
   "id": "b26c6823-014e-4887-8468-9ccf1768e4d2",
   "metadata": {},
   "source": [
    "# 05. K-nn Regression model with PCA\n",
    "__Capstone project: Duration of the insertion of real estate advertisements for rental apartments in Switzerland__"
   ]
  },
  {
   "cell_type": "markdown",
   "id": "0c4b0f80-458f-41d7-8490-9bb895bd91c8",
   "metadata": {},
   "source": [
    "I choose the k-nn model, as it is among the most popular machine learning algorithms, but not widly used for regression predictive problems. I'am simply interested in how the model performs.\n",
    "\n",
    "Regarding the feature space, I want to use only the most informative features. I expect that if I include all independent variables in the regression equations, my model will tend to be unprecise. On the other hand, if I include too few variables, my model could be biased. For the k-nn model, I will select the most informative features by using a PCA method. With PCA, I will convert a set of possibly correlated features into linearly uncorrelated values. This helps me avoiding the curse of dimensionality by reducing information redundancy and data dimensionality. A dimensionality reduction technique prior to modeling is needed because k-nn models do not perform well with high dimensions where data points become very spread out. In addition, by reducing the dimensions, I will speed up the training process and make the computation less heavy and therfore faster.\n",
    "\n",
    "For the k-nn model I will use the GridSearchCV technique to find the best k value (= number of neighbors), the weights (uniform or distance) and metrics (euclidean or manhattan). Again, I will use Cross Validation with K-Folds. I believe 5 iterations should be sufficient. I will standardize the data using StandardScaler and see is the standardization improves my results or not. "
   ]
  },
  {
   "cell_type": "markdown",
   "id": "9347ab8f-e7d7-45f8-ad25-f855b54c0c49",
   "metadata": {},
   "source": [
    "## Import"
   ]
  },
  {
   "cell_type": "code",
   "execution_count": 1,
   "id": "9f69a419-4e83-42d0-878a-794444255101",
   "metadata": {},
   "outputs": [],
   "source": [
    "# import commands\n",
    "import pandas as pd\n",
    "import numpy as np\n",
    "import seaborn as sns\n",
    "import matplotlib.pyplot as plt"
   ]
  },
  {
   "cell_type": "code",
   "execution_count": 2,
   "id": "aa3ef6d0-4c68-473c-a8c5-9a00ad35661f",
   "metadata": {},
   "outputs": [],
   "source": [
    "df = pd.read_csv(\"Data/df_after_eda.csv\", delimiter=\",\")"
   ]
  },
  {
   "cell_type": "code",
   "execution_count": 3,
   "id": "44c0a4c7-73a1-49ba-994d-44a819badfa6",
   "metadata": {},
   "outputs": [
    {
     "data": {
      "text/plain": [
       "(921886, 142)"
      ]
     },
     "execution_count": 3,
     "metadata": {},
     "output_type": "execute_result"
    }
   ],
   "source": [
    "df.shape"
   ]
  },
  {
   "cell_type": "markdown",
   "id": "988a714f-22ce-4dbb-be4e-01128c0e29ff",
   "metadata": {
    "tags": []
   },
   "source": [
    "## Split data"
   ]
  },
  {
   "cell_type": "markdown",
   "id": "968ed957-da44-43cf-8d91-b1471c8da51c",
   "metadata": {},
   "source": [
    "First I will load the features into a feature matrix X and the target value into an output vector y. "
   ]
  },
  {
   "cell_type": "code",
   "execution_count": 4,
   "id": "416f1683-4caa-4d6e-a5ac-aec3030fa0cd",
   "metadata": {},
   "outputs": [],
   "source": [
    "X = df.drop(\"Insertionsdauer\", axis=1).values\n",
    "y = df[\"Insertionsdauer\"].values"
   ]
  },
  {
   "cell_type": "markdown",
   "id": "5ea1ab35-d36f-4c80-8a0d-d19a9d2fc2d6",
   "metadata": {},
   "source": [
    "I decided to split my data 80% - 20%, because I have a lot of data points and the proportion of testing data should be enough. Furthermore I chose the number 8 for the the random_state, as it is my lucky number."
   ]
  },
  {
   "cell_type": "code",
   "execution_count": 5,
   "id": "46158929-7fd9-462c-b660-779c09da96a0",
   "metadata": {},
   "outputs": [],
   "source": [
    "from sklearn.model_selection import train_test_split\n",
    "\n",
    "X_tr, X_te, y_tr, y_te = train_test_split(X, y, test_size=0.2, random_state=8)"
   ]
  },
  {
   "cell_type": "code",
   "execution_count": 6,
   "id": "9f2ae58b-302f-4419-b7a5-904fbef2c023",
   "metadata": {},
   "outputs": [
    {
     "name": "stdout",
     "output_type": "stream",
     "text": [
      "Shape X_tr: (737508, 141)\n",
      "Shape y_tr: (737508,)\n"
     ]
    }
   ],
   "source": [
    "print(\"Shape X_tr:\", X_tr.shape)\n",
    "print(\"Shape y_tr:\", y_tr.shape)"
   ]
  },
  {
   "cell_type": "markdown",
   "id": "4739dbdf-dd50-47f5-930c-87c267d879dd",
   "metadata": {},
   "source": [
    "## Downsampling training data "
   ]
  },
  {
   "cell_type": "markdown",
   "id": "a2fc8655-ed4c-4ae2-bf70-6e8ba04d693a",
   "metadata": {},
   "source": [
    "Since my dataframe is very big, the calculation for the hyperparametertuning incl. CV and GridSearch takes a lot of time. Therefore I decided to downsample my training and validation data to something more manageable, yet representative, in order to identify suitable hyperparameters or a least the best range for the hyperparameters. I will use sklearn's resample method and keep 20'000 samples. I am not consernd about inbalanced categorical data, as my target is a numerical. Otherwise, I could use the arugment ``stratify`` to preserve the distribution in the original classes of a selected categorical feature. "
   ]
  },
  {
   "cell_type": "code",
   "execution_count": 7,
   "id": "86c17ad4-8ef3-43a2-b0e5-0842a0226e3e",
   "metadata": {},
   "outputs": [
    {
     "data": {
      "text/plain": [
       "(30000, 141)"
      ]
     },
     "execution_count": 7,
     "metadata": {},
     "output_type": "execute_result"
    }
   ],
   "source": [
    "from sklearn.utils import resample, shuffle\n",
    "X_tr_sample = resample(X_tr, random_state=8, n_samples=30000, replace=False)\n",
    "X_tr_sample.shape"
   ]
  },
  {
   "cell_type": "code",
   "execution_count": 8,
   "id": "5f7258dd-ae7e-4a49-b0d1-c82b99fd36c0",
   "metadata": {},
   "outputs": [
    {
     "data": {
      "text/plain": [
       "(30000,)"
      ]
     },
     "execution_count": 8,
     "metadata": {},
     "output_type": "execute_result"
    }
   ],
   "source": [
    "y_tr_sample = resample(y_tr, random_state=8, n_samples=30000, replace=False)\n",
    "y_tr_sample.shape"
   ]
  },
  {
   "cell_type": "markdown",
   "id": "b45ebf48-e691-49c0-ad74-a3f8f8b72a67",
   "metadata": {},
   "source": [
    "## PCA"
   ]
  },
  {
   "cell_type": "markdown",
   "id": "7d3d437f-15f5-4998-9d1c-b418ed1d71db",
   "metadata": {},
   "source": [
    "The idea behind PCA is to reduce the number of dimensions by projecting the data onto a set of n orthogonal axes, that capture as much of the variation in the data points as possible. Let's first have a look at how many PCA components explain how much of the variance by looking at a scree plot."
   ]
  },
  {
   "cell_type": "code",
   "execution_count": 9,
   "id": "4377a7e7-3496-40de-a294-91fe0277e1cb",
   "metadata": {},
   "outputs": [],
   "source": [
    "from sklearn.preprocessing import StandardScaler\n",
    "from sklearn.decomposition import PCA\n",
    "\n",
    "# Create Standard scaler\n",
    "scaler = StandardScaler().fit(X_tr)\n",
    "\n",
    "# Rescale data\n",
    "X_tr_rescaled = scaler.transform(X_tr)\n",
    "\n",
    "# Create PCA transformer\n",
    "pca = PCA(random_state=8, n_components=None)\n",
    "\n",
    "# Apply PCA\n",
    "pca.fit(X_tr_rescaled, y=None)\n",
    "\n",
    "# Proportion of variance explained\n",
    "pve = pca.explained_variance_ratio_"
   ]
  },
  {
   "cell_type": "code",
   "execution_count": 10,
   "id": "9a9efdec-da6b-457a-acde-d7b3c4e6a9b7",
   "metadata": {},
   "outputs": [
    {
     "data": {
      "image/png": "[encoded data removed]",
      "text/plain": [
       "<Figure size 432x288 with 1 Axes>"
      ]
     },
     "metadata": {
      "needs_background": "light"
     },
     "output_type": "display_data"
    }
   ],
   "source": [
    "# Create bar plot\n",
    "xcor = np.arange(1, len(pve) + 1)  # 1,2,..,n_components\n",
    "plt.bar(xcor, pve)\n",
    "\n",
    "# Add cumulative sum\n",
    "pve_cumsum = np.cumsum(pve)\n",
    "plt.step(\n",
    "    xcor + 0.5,  # 1.5,2.5,..,n_components+0.5\n",
    "    pve_cumsum,  # Cumulative sum\n",
    "    label=\"cumulative\")\n",
    "\n",
    "#plot line\n",
    "plt.axhline(y = 0.2, color =\"lightgrey\", linestyle =\"--\", label ='20% explained',)\n",
    "plt.axhline(y = 0.5, color =\"darkgrey\", linestyle =\"--\", label ='50% explained',)\n",
    "plt.axhline(y = 0.8, color =\"grey\", linestyle =\"--\", label ='80% explained',)\n",
    "\n",
    "\n",
    "# Add labels\n",
    "plt.title('Scree Plot')\n",
    "plt.xlabel(\"principal component\")\n",
    "plt.ylabel(\"proportion of variance explained\")\n",
    "plt.legend()\n",
    "plt.show();"
   ]
  },
  {
   "cell_type": "code",
   "execution_count": 11,
   "id": "633bd3f1-6332-49cd-8bbd-ad7466e493d2",
   "metadata": {},
   "outputs": [],
   "source": [
    "# Source: https://www.kaggle.com/code/pasqualebalsebre/a-ml-analysis-of-california-housing-data\n",
    "\n",
    "totalvar = 0\n",
    "for var in pca.explained_variance_:\n",
    "    totalvar += var\n",
    "\n",
    "# perc_var is the variance (%) for each feature\n",
    "perc_var = pca.explained_variance_/totalvar*100\n",
    "\n",
    "# here i build the cumulative var\n",
    "\n",
    "cum_var = []\n",
    "\n",
    "for i in range(0,len(perc_var)):\n",
    "    cum_var.append(perc_var[i])\n",
    "\n",
    "for i in range(0,len(perc_var)):\n",
    "    for j in range(0,i):\n",
    "        cum_var[i] = cum_var[i] + perc_var[j]"
   ]
  },
  {
   "cell_type": "code",
   "execution_count": 12,
   "id": "debee543-a646-42d1-8230-24fe7348c048",
   "metadata": {},
   "outputs": [
    {
     "name": "stdout",
     "output_type": "stream",
     "text": [
      "2 components explain 8% of variance\n",
      "\n",
      "5 components explain 16% of variance\n",
      "\n",
      "10 components explain 25% of variance\n",
      "\n",
      "25 components explain 43% of variance\n",
      "\n",
      "50 components explain 64% of variance\n",
      "\n",
      "60 components explain 71% of variance\n",
      "\n"
     ]
    }
   ],
   "source": [
    "print('2 components explain %d%% of variance\\n'%cum_var[1])\n",
    "print('5 components explain %d%% of variance\\n'%cum_var[4])\n",
    "print('10 components explain %d%% of variance\\n'%cum_var[9])\n",
    "print('25 components explain %d%% of variance\\n'%cum_var[24]) \n",
    "print('50 components explain %d%% of variance\\n'%cum_var[49])\n",
    "print('60 components explain %d%% of variance\\n'%cum_var[59])"
   ]
  },
  {
   "cell_type": "markdown",
   "id": "697b356f-3034-4134-9d2d-5ba685b85df9",
   "metadata": {},
   "source": [
    "A good score would be around 70% of explained varianced, that would meen I have to use around 65 components."
   ]
  },
  {
   "cell_type": "markdown",
   "id": "cf588259-2d82-44a3-98bf-de6a4a8bd68a",
   "metadata": {},
   "source": [
    "## K-nn"
   ]
  },
  {
   "cell_type": "markdown",
   "id": "66b52b55-7b98-4465-b1e7-047531a2ca15",
   "metadata": {},
   "source": [
    "__Number of neighbors:__\n",
    "\n",
    "Choosing a small value of k will lead to overfitting. In contrast, choosing a large value will lead to underfitting and will be computationally expensive.\n",
    "\n",
    "__Weights:__\n",
    "* Uniform weights (default): each point in the local neighborhood contributes uniformly to the classification of a query point. \n",
    "* Distance weights: nearby points contribute more to the regression than faraway points. The weight is proportional to the inverse of the distance from the query point. \n",
    "\n",
    "__Metric:__\n",
    "* Euclidean distance: (default metric that Scikit learn): It is a measure of the true straight line distance between two points in Euclidean space. Data has to be normalized or standardized. _sqrt(sum((x - y)^2))_\n",
    "* Manhattan distance: \"city block distance\", the distance between two points is the sum of the absolute differences of their Cartesian coordinates. _sum(|x - y|)_"
   ]
  },
  {
   "cell_type": "markdown",
   "id": "2813907f-6e7c-4e17-baeb-bae97e504beb",
   "metadata": {},
   "source": [
    "### Hyperparameter tuning with sample data"
   ]
  },
  {
   "cell_type": "code",
   "execution_count": 13,
   "id": "049ad161-bf57-4599-a7a9-9bc56eac287b",
   "metadata": {},
   "outputs": [],
   "source": [
    "from sklearn import decomposition\n",
    "from sklearn.neighbors import KNeighborsRegressor\n",
    "from sklearn.pipeline import Pipeline\n",
    "from sklearn.pipeline import make_pipeline\n",
    "from sklearn.model_selection import GridSearchCV \n",
    "from sklearn.preprocessing import StandardScaler\n",
    "from sklearn.decomposition import PCA"
   ]
  },
  {
   "cell_type": "markdown",
   "id": "de25dc4e-c890-4c72-a3cc-fdc9ca3443c5",
   "metadata": {},
   "source": [
    "#### neighbors and PCA"
   ]
  },
  {
   "cell_type": "code",
   "execution_count": 14,
   "id": "e7cdad8f-312a-43c2-872c-731d80e332a0",
   "metadata": {},
   "outputs": [],
   "source": [
    "# Create pipeline with StandardScaler and PCA\n",
    "pipe_knn = Pipeline(steps=[(\"scaler\", StandardScaler()), # Standardize features before k-NN\n",
    "                           (\"pca\", PCA()),\n",
    "                           (\"knn\", KNeighborsRegressor())])\n"
   ]
  },
  {
   "cell_type": "code",
   "execution_count": 15,
   "id": "f55e3b82-766d-4e2f-9375-a2bc0597915f",
   "metadata": {},
   "outputs": [
    {
     "name": "stdout",
     "output_type": "stream",
     "text": [
      "Fitting 5 folds for each of 42 candidates, totalling 210 fits\n"
     ]
    },
    {
     "data": {
      "text/plain": [
       "GridSearchCV(cv=5,\n",
       "             estimator=Pipeline(steps=[('scaler', StandardScaler()),\n",
       "                                       ('pca', PCA()),\n",
       "                                       ('knn', KNeighborsRegressor())]),\n",
       "             n_jobs=-1,\n",
       "             param_grid={'knn__n_neighbors': [5, 25, 50, 100, 150, 200, 250],\n",
       "                         'pca__n_components': [2, 10, 25, 50, 65, 80]},\n",
       "             return_train_score=True, scoring='neg_mean_absolute_error',\n",
       "             verbose=1)"
      ]
     },
     "execution_count": 15,
     "metadata": {},
     "output_type": "execute_result"
    }
   ],
   "source": [
    "# define range of n_neighbors\n",
    "grid01 = {\"knn__n_neighbors\": [5, 25, 50, 100, 150, 200, 250],\n",
    "         \"pca__n_components\": [2, 10, 25, 50, 65, 80],}\n",
    "\n",
    "# Grid search with cross-validation\n",
    "grid_knn01 = GridSearchCV(pipe_knn, grid01, return_train_score=True, scoring='neg_mean_absolute_error', verbose=1, n_jobs=-1, cv=5)\n",
    "\n",
    "# fit\n",
    "grid_knn01.fit(X_tr_sample, y_tr_sample)"
   ]
  },
  {
   "cell_type": "code",
   "execution_count": 16,
   "id": "0e7ff63a-7d0b-41b6-ac3d-b6e37b1a90ec",
   "metadata": {},
   "outputs": [
    {
     "data": {
      "text/plain": [
       "dict_keys(['mean_fit_time', 'std_fit_time', 'mean_score_time', 'std_score_time', 'param_knn__n_neighbors', 'param_pca__n_components', 'params', 'split0_test_score', 'split1_test_score', 'split2_test_score', 'split3_test_score', 'split4_test_score', 'mean_test_score', 'std_test_score', 'rank_test_score', 'split0_train_score', 'split1_train_score', 'split2_train_score', 'split3_train_score', 'split4_train_score', 'mean_train_score', 'std_train_score'])"
      ]
     },
     "execution_count": 16,
     "metadata": {},
     "output_type": "execute_result"
    }
   ],
   "source": [
    "grid_knn01.cv_results_.keys()"
   ]
  },
  {
   "cell_type": "code",
   "execution_count": 17,
   "id": "60978de7-3e97-401d-be52-650a0675676c",
   "metadata": {},
   "outputs": [
    {
     "data": {
      "text/html": [
       "<div>\n",
       "<style scoped>\n",
       "    .dataframe tbody tr th:only-of-type {\n",
       "        vertical-align: middle;\n",
       "    }\n",
       "\n",
       "    .dataframe tbody tr th {\n",
       "        vertical-align: top;\n",
       "    }\n",
       "\n",
       "    .dataframe thead th {\n",
       "        text-align: right;\n",
       "    }\n",
       "</style>\n",
       "<table border=\"1\" class=\"dataframe\">\n",
       "  <thead>\n",
       "    <tr style=\"text-align: right;\">\n",
       "      <th></th>\n",
       "      <th>mean_test_score</th>\n",
       "      <th>std_test_score</th>\n",
       "      <th>mean_train_score</th>\n",
       "      <th>std_train_score</th>\n",
       "      <th>rank_test_score</th>\n",
       "      <th>param_knn__n_neighbors</th>\n",
       "      <th>param_pca__n_components</th>\n",
       "    </tr>\n",
       "  </thead>\n",
       "  <tbody>\n",
       "    <tr>\n",
       "      <th>14</th>\n",
       "      <td>-0.873184</td>\n",
       "      <td>0.011864</td>\n",
       "      <td>-0.855849</td>\n",
       "      <td>0.002933</td>\n",
       "      <td>1</td>\n",
       "      <td>50</td>\n",
       "      <td>25</td>\n",
       "    </tr>\n",
       "    <tr>\n",
       "      <th>20</th>\n",
       "      <td>-0.873811</td>\n",
       "      <td>0.011039</td>\n",
       "      <td>-0.865034</td>\n",
       "      <td>0.002376</td>\n",
       "      <td>2</td>\n",
       "      <td>100</td>\n",
       "      <td>25</td>\n",
       "    </tr>\n",
       "    <tr>\n",
       "      <th>15</th>\n",
       "      <td>-0.874501</td>\n",
       "      <td>0.011060</td>\n",
       "      <td>-0.856963</td>\n",
       "      <td>0.002105</td>\n",
       "      <td>3</td>\n",
       "      <td>50</td>\n",
       "      <td>50</td>\n",
       "    </tr>\n",
       "    <tr>\n",
       "      <th>21</th>\n",
       "      <td>-0.874599</td>\n",
       "      <td>0.011551</td>\n",
       "      <td>-0.865467</td>\n",
       "      <td>0.002895</td>\n",
       "      <td>4</td>\n",
       "      <td>100</td>\n",
       "      <td>50</td>\n",
       "    </tr>\n",
       "    <tr>\n",
       "      <th>26</th>\n",
       "      <td>-0.874833</td>\n",
       "      <td>0.010516</td>\n",
       "      <td>-0.869146</td>\n",
       "      <td>0.002779</td>\n",
       "      <td>5</td>\n",
       "      <td>150</td>\n",
       "      <td>25</td>\n",
       "    </tr>\n",
       "  </tbody>\n",
       "</table>\n",
       "</div>"
      ],
      "text/plain": [
       "    mean_test_score  std_test_score  mean_train_score  std_train_score  \\\n",
       "14        -0.873184        0.011864         -0.855849         0.002933   \n",
       "20        -0.873811        0.011039         -0.865034         0.002376   \n",
       "15        -0.874501        0.011060         -0.856963         0.002105   \n",
       "21        -0.874599        0.011551         -0.865467         0.002895   \n",
       "26        -0.874833        0.010516         -0.869146         0.002779   \n",
       "\n",
       "    rank_test_score param_knn__n_neighbors param_pca__n_components  \n",
       "14                1                     50                      25  \n",
       "20                2                    100                      25  \n",
       "15                3                     50                      50  \n",
       "21                4                    100                      50  \n",
       "26                5                    150                      25  "
      ]
     },
     "execution_count": 17,
     "metadata": {},
     "output_type": "execute_result"
    }
   ],
   "source": [
    "# view the results as a pandas DataFrame\n",
    "results01 = pd.DataFrame(grid_knn01.cv_results_)[['mean_test_score', 'std_test_score',\n",
    "                                              'mean_train_score', 'std_train_score',  \n",
    "                                             'rank_test_score', 'param_knn__n_neighbors', 'param_pca__n_components']]\n",
    "\n",
    "# show results \n",
    "results01.sort_values(by=\"rank_test_score\").head()"
   ]
  },
  {
   "cell_type": "code",
   "execution_count": 18,
   "id": "7b28cd72-2935-4e02-af8e-9b3250b8512b",
   "metadata": {},
   "outputs": [
    {
     "data": {
      "image/png": "[encoded data removed]",
      "text/plain": [
       "<Figure size 432x288 with 2 Axes>"
      ]
     },
     "metadata": {
      "needs_background": "light"
     },
     "output_type": "display_data"
    }
   ],
   "source": [
    "# Source: https://towardsdatascience.com/using-3d-visualizations-to-tune-hyperparameters-of-ml-models-with-python-ba2885eab2e9\n",
    "max_scores = results01.groupby(['param_knn__n_neighbors', \n",
    "                                    'param_pca__n_components']).max()\n",
    "max_scores = max_scores.unstack()[['mean_test_score', 'mean_train_score']]\n",
    "sns.heatmap(max_scores.mean_test_score, annot=True, fmt='.4g');\n",
    "\n",
    "plt.title(\"Heatmap of the mean test scores\", fontsize=14)\n",
    "plt.show()"
   ]
  },
  {
   "cell_type": "markdown",
   "id": "c6aad65c-3d7b-40f3-bce8-bdd50783e0cd",
   "metadata": {},
   "source": [
    "This heatmap shows that with only 5 neighbors the model gives the bad scores. With around 25-50 neighbors, the scores are better and don't get any better with more neighbors. For the components the same is true: from 25 components on the scores are good and don't get any better with more components. "
   ]
  },
  {
   "cell_type": "code",
   "execution_count": 19,
   "id": "53617b85-237e-43c5-a758-6c990ed9207c",
   "metadata": {},
   "outputs": [
    {
     "data": {
      "image/png": "[encoded data removed]",
      "text/plain": [
       "<Figure size 432x288 with 2 Axes>"
      ]
     },
     "metadata": {
      "needs_background": "light"
     },
     "output_type": "display_data"
    }
   ],
   "source": [
    "# Source: https://towardsdatascience.com/using-3d-visualizations-to-tune-hyperparameters-of-ml-models-with-python-ba2885eab2e9\n",
    "sns.heatmap(max_scores.mean_train_score, annot=True, fmt='.4g');\n",
    "\n",
    "plt.title(\"Heatmap of the mean train scores\", fontsize=14)\n",
    "plt.show()"
   ]
  },
  {
   "cell_type": "markdown",
   "id": "0d0f91aa-9021-43dd-b987-ac997c3c319d",
   "metadata": {},
   "source": [
    "The heatmap for the mean train scores show a different picture: With only 5 neighbors I get the best scores.neighbors_te_mean"
   ]
  },
  {
   "cell_type": "code",
   "execution_count": 20,
   "id": "e46e5515-6d3c-46be-9a9f-370e58177a5c",
   "metadata": {},
   "outputs": [
    {
     "data": {
      "image/png": "[encoded data removed]",
      "text/plain": [
       "<Figure size 432x288 with 1 Axes>"
      ]
     },
     "metadata": {
      "needs_background": "light"
     },
     "output_type": "display_data"
    }
   ],
   "source": [
    "# calculate mean groubed by parameter\n",
    "mean_neighbors = results01.groupby(['param_knn__n_neighbors']).mean()\n",
    "\n",
    "# plot\n",
    "plt.plot(list(mean_neighbors.index),mean_neighbors['mean_train_score'], label='training score')\n",
    "plt.plot(list(mean_neighbors.index),mean_neighbors['mean_test_score'], label='validation score')\n",
    "\n",
    "# labels & title\n",
    "plt.ylabel(\"neg_mean_absolute_error\")\n",
    "plt.xlabel(\"knn__n_neighbors\")\n",
    "plt.title(\"Evolution of training/validation score\")\n",
    "plt.legend()\n",
    "plt.show()"
   ]
  },
  {
   "cell_type": "markdown",
   "id": "d489b622-ba9b-4554-909d-f6fab5edabe6",
   "metadata": {},
   "source": [
    "Between 5 and 20 neighbors, the training score is low and the validation score is high, the estimator is overfitting. The algorithm captures well the training data, but it performs poorly on the validation data as it is not able to generalize. In general, with overfitting the model is too complex and fits the noise in addition to the signal.\n",
    "\n",
    "With a higher number of neighbors, the validation score and the training score converge to a similar value with increasing number of neighbors. Thus, the model would probably not benefit much from more neighbors."
   ]
  },
  {
   "cell_type": "code",
   "execution_count": 21,
   "id": "f19f1008-149b-44fb-99dc-d20e928698b7",
   "metadata": {},
   "outputs": [
    {
     "data": {
      "image/png": "[encoded data removed]",
      "text/plain": [
       "<Figure size 432x288 with 1 Axes>"
      ]
     },
     "metadata": {
      "needs_background": "light"
     },
     "output_type": "display_data"
    }
   ],
   "source": [
    "# calculate mean groubed by parameter\n",
    "mean_components = results01.groupby(['param_pca__n_components']).mean()\n",
    "\n",
    "# plot\n",
    "plt.plot(list(mean_components.index),mean_components['mean_train_score'], label='training score')\n",
    "plt.plot(list(mean_components.index),mean_components['mean_test_score'], label='validation score')\n",
    "\n",
    "# labels & title\n",
    "plt.ylabel(\"neg_mean_absolute_error\")\n",
    "plt.xlabel(\"pca__n_components\")\n",
    "plt.title(\"Evolution of training/validation score\")\n",
    "plt.legend()\n",
    "plt.show()"
   ]
  },
  {
   "cell_type": "markdown",
   "id": "e6b3fdb7-0b1d-45e2-b634-85736d6e0d37",
   "metadata": {},
   "source": [
    "The training curve and validation both start at a high score and soon improve with about 25 components. Then they've reached a plateau and there is no further improvement. The training curve is better then the validation curve, which is again a sign of overfitting. "
   ]
  },
  {
   "cell_type": "code",
   "execution_count": 22,
   "id": "d525a53d-f7fd-4518-83da-0df49b4e097f",
   "metadata": {},
   "outputs": [
    {
     "name": "stdout",
     "output_type": "stream",
     "text": [
      "With my downsampled data, the best number of neighbors and components is {'knn__n_neighbors': 50, 'pca__n_components': 25} and the best MAE score is -0.873.\n"
     ]
    }
   ],
   "source": [
    "print(\"With my downsampled data, the best number of neighbors and components is {:}\".format(grid_knn01.best_params_),\n",
    "      \"and the best MAE score is {:.3f}.\".format(grid_knn01.best_score_))"
   ]
  },
  {
   "cell_type": "markdown",
   "id": "562ed766-dc19-4ba5-80dc-0ec5266f7e6e",
   "metadata": {},
   "source": [
    "#### weights"
   ]
  },
  {
   "cell_type": "code",
   "execution_count": 23,
   "id": "31eeba84-98c7-49e0-a2e7-2e9da96d6273",
   "metadata": {},
   "outputs": [
    {
     "name": "stdout",
     "output_type": "stream",
     "text": [
      "Fitting 5 folds for each of 2 candidates, totalling 10 fits\n"
     ]
    },
    {
     "data": {
      "text/plain": [
       "GridSearchCV(cv=5,\n",
       "             estimator=Pipeline(steps=[('scaler', StandardScaler()),\n",
       "                                       ('pca', PCA()),\n",
       "                                       ('knn', KNeighborsRegressor())]),\n",
       "             n_jobs=-1,\n",
       "             param_grid={'knn__n_neighbors': [50],\n",
       "                         'knn__weights': ['uniform', 'distance'],\n",
       "                         'pca__n_components': [25]},\n",
       "             return_train_score=True, scoring='neg_mean_absolute_error',\n",
       "             verbose=1)"
      ]
     },
     "execution_count": 23,
     "metadata": {},
     "output_type": "execute_result"
    }
   ],
   "source": [
    "# define range of weights\n",
    "grid03 = {\"knn__n_neighbors\": [50],\n",
    "          \"pca__n_components\": [25],\n",
    "          \"knn__weights\": [\"uniform\", \"distance\"],}\n",
    "\n",
    "#Grid search with cross-validation\n",
    "grid_knn03 = GridSearchCV(pipe_knn, grid03, return_train_score=True, scoring='neg_mean_absolute_error', verbose=1, n_jobs=-1, cv=5)\n",
    "\n",
    "grid_knn03.fit(X_tr_sample, y_tr_sample)"
   ]
  },
  {
   "cell_type": "code",
   "execution_count": 24,
   "id": "6ca71677-ef65-48c3-a030-ab3b27c81e6a",
   "metadata": {},
   "outputs": [
    {
     "data": {
      "text/html": [
       "<div>\n",
       "<style scoped>\n",
       "    .dataframe tbody tr th:only-of-type {\n",
       "        vertical-align: middle;\n",
       "    }\n",
       "\n",
       "    .dataframe tbody tr th {\n",
       "        vertical-align: top;\n",
       "    }\n",
       "\n",
       "    .dataframe thead th {\n",
       "        text-align: right;\n",
       "    }\n",
       "</style>\n",
       "<table border=\"1\" class=\"dataframe\">\n",
       "  <thead>\n",
       "    <tr style=\"text-align: right;\">\n",
       "      <th></th>\n",
       "      <th>mean_test_score</th>\n",
       "      <th>std_test_score</th>\n",
       "      <th>mean_train_score</th>\n",
       "      <th>std_train_score</th>\n",
       "      <th>rank_test_score</th>\n",
       "      <th>param_knn__weights</th>\n",
       "    </tr>\n",
       "  </thead>\n",
       "  <tbody>\n",
       "    <tr>\n",
       "      <th>1</th>\n",
       "      <td>-0.871679</td>\n",
       "      <td>0.009799</td>\n",
       "      <td>-0.711832</td>\n",
       "      <td>0.004840</td>\n",
       "      <td>1</td>\n",
       "      <td>distance</td>\n",
       "    </tr>\n",
       "    <tr>\n",
       "      <th>0</th>\n",
       "      <td>-0.874870</td>\n",
       "      <td>0.010960</td>\n",
       "      <td>-0.855918</td>\n",
       "      <td>0.003103</td>\n",
       "      <td>2</td>\n",
       "      <td>uniform</td>\n",
       "    </tr>\n",
       "  </tbody>\n",
       "</table>\n",
       "</div>"
      ],
      "text/plain": [
       "   mean_test_score  std_test_score  mean_train_score  std_train_score  \\\n",
       "1        -0.871679        0.009799         -0.711832         0.004840   \n",
       "0        -0.874870        0.010960         -0.855918         0.003103   \n",
       "\n",
       "   rank_test_score param_knn__weights  \n",
       "1                1           distance  \n",
       "0                2            uniform  "
      ]
     },
     "execution_count": 24,
     "metadata": {},
     "output_type": "execute_result"
    }
   ],
   "source": [
    "# view the results as a pandas DataFrame\n",
    "results03 = pd.DataFrame(grid_knn03.cv_results_)[['mean_test_score', 'std_test_score',\n",
    "                                              'mean_train_score', 'std_train_score',  \n",
    "                                             'rank_test_score', 'param_knn__weights']]\n",
    "\n",
    "# show results \n",
    "results03.sort_values(by=\"rank_test_score\")"
   ]
  },
  {
   "cell_type": "markdown",
   "id": "8ba07411-5a77-403b-baf1-f739d195a385",
   "metadata": {},
   "source": [
    "The mean test score is very similar for both ``distance`` and ``uniform``, however the mean train score clearly shows that ``distance`` gives the better performance."
   ]
  },
  {
   "cell_type": "code",
   "execution_count": 25,
   "id": "5c9d980c-ed6d-475c-9273-4c93670e4ae1",
   "metadata": {},
   "outputs": [
    {
     "data": {
      "text/plain": [
       "{'knn__n_neighbors': 50, 'knn__weights': 'distance', 'pca__n_components': 25}"
      ]
     },
     "execution_count": 25,
     "metadata": {},
     "output_type": "execute_result"
    }
   ],
   "source": [
    "grid_knn03.best_params_"
   ]
  },
  {
   "cell_type": "markdown",
   "id": "adde03e8-82af-42d2-9585-4c820ecff6bf",
   "metadata": {},
   "source": [
    "#### metrics"
   ]
  },
  {
   "cell_type": "code",
   "execution_count": 26,
   "id": "eb131a5d-a545-46c8-ba20-de6016cdbe09",
   "metadata": {},
   "outputs": [
    {
     "name": "stdout",
     "output_type": "stream",
     "text": [
      "Fitting 5 folds for each of 2 candidates, totalling 10 fits\n"
     ]
    },
    {
     "data": {
      "text/plain": [
       "GridSearchCV(cv=5,\n",
       "             estimator=Pipeline(steps=[('scaler', StandardScaler()),\n",
       "                                       ('pca', PCA()),\n",
       "                                       ('knn', KNeighborsRegressor())]),\n",
       "             n_jobs=-1,\n",
       "             param_grid={'knn__metric': ['euclidean', 'manhattan'],\n",
       "                         'knn__n_neighbors': [50], 'knn__weights': ['distance'],\n",
       "                         'pca__n_components': [25]},\n",
       "             return_train_score=True, scoring='neg_mean_absolute_error',\n",
       "             verbose=1)"
      ]
     },
     "execution_count": 26,
     "metadata": {},
     "output_type": "execute_result"
    }
   ],
   "source": [
    "# define range of weights\n",
    "grid04 = {\"knn__n_neighbors\": [50],\n",
    "          \"pca__n_components\": [25],\n",
    "          \"knn__weights\": [\"distance\"],\n",
    "          \"knn__metric\": [\"euclidean\", \"manhattan\"],}\n",
    "\n",
    "#Grid search with cross-validation\n",
    "grid_knn04 = GridSearchCV(pipe_knn, grid04, return_train_score=True, scoring='neg_mean_absolute_error', verbose=1, n_jobs=-1, cv=5)\n",
    "\n",
    "grid_knn04.fit(X_tr_sample, y_tr_sample)"
   ]
  },
  {
   "cell_type": "code",
   "execution_count": 27,
   "id": "001dde8c-8ba7-4f0b-a4cb-c34703e51e2a",
   "metadata": {},
   "outputs": [
    {
     "data": {
      "text/html": [
       "<div>\n",
       "<style scoped>\n",
       "    .dataframe tbody tr th:only-of-type {\n",
       "        vertical-align: middle;\n",
       "    }\n",
       "\n",
       "    .dataframe tbody tr th {\n",
       "        vertical-align: top;\n",
       "    }\n",
       "\n",
       "    .dataframe thead th {\n",
       "        text-align: right;\n",
       "    }\n",
       "</style>\n",
       "<table border=\"1\" class=\"dataframe\">\n",
       "  <thead>\n",
       "    <tr style=\"text-align: right;\">\n",
       "      <th></th>\n",
       "      <th>mean_test_score</th>\n",
       "      <th>std_test_score</th>\n",
       "      <th>mean_train_score</th>\n",
       "      <th>std_train_score</th>\n",
       "      <th>rank_test_score</th>\n",
       "      <th>param_knn__metric</th>\n",
       "    </tr>\n",
       "  </thead>\n",
       "  <tbody>\n",
       "    <tr>\n",
       "      <th>0</th>\n",
       "      <td>-0.871974</td>\n",
       "      <td>0.010147</td>\n",
       "      <td>-0.707679</td>\n",
       "      <td>0.002646</td>\n",
       "      <td>1</td>\n",
       "      <td>euclidean</td>\n",
       "    </tr>\n",
       "    <tr>\n",
       "      <th>1</th>\n",
       "      <td>-0.872606</td>\n",
       "      <td>0.011146</td>\n",
       "      <td>-0.693094</td>\n",
       "      <td>0.004380</td>\n",
       "      <td>2</td>\n",
       "      <td>manhattan</td>\n",
       "    </tr>\n",
       "  </tbody>\n",
       "</table>\n",
       "</div>"
      ],
      "text/plain": [
       "   mean_test_score  std_test_score  mean_train_score  std_train_score  \\\n",
       "0        -0.871974        0.010147         -0.707679         0.002646   \n",
       "1        -0.872606        0.011146         -0.693094         0.004380   \n",
       "\n",
       "   rank_test_score param_knn__metric  \n",
       "0                1         euclidean  \n",
       "1                2         manhattan  "
      ]
     },
     "execution_count": 27,
     "metadata": {},
     "output_type": "execute_result"
    }
   ],
   "source": [
    "# view the results as a pandas DataFrame\n",
    "results04 = pd.DataFrame(grid_knn04.cv_results_)[['mean_test_score', 'std_test_score',\n",
    "                                              'mean_train_score', 'std_train_score',  \n",
    "                                             'rank_test_score', 'param_knn__metric']]\n",
    "\n",
    "# show results \n",
    "results04.sort_values(by=\"rank_test_score\")"
   ]
  },
  {
   "cell_type": "markdown",
   "id": "5d251bc5-0e8e-4f89-aab2-ec7e874d6064",
   "metadata": {},
   "source": [
    "For ``manhattan`` and ``euclidean`` the mean test score is very close, as is the mean train score. The improvement of the ``manhattan`` metric to the ``euclidean`` metric is negligible."
   ]
  },
  {
   "cell_type": "code",
   "execution_count": 28,
   "id": "ce8f36b3-841f-4358-aa8a-43f301da3445",
   "metadata": {},
   "outputs": [
    {
     "data": {
      "text/plain": [
       "{'knn__metric': 'euclidean',\n",
       " 'knn__n_neighbors': 50,\n",
       " 'knn__weights': 'distance',\n",
       " 'pca__n_components': 25}"
      ]
     },
     "execution_count": 28,
     "metadata": {},
     "output_type": "execute_result"
    }
   ],
   "source": [
    "grid_knn04.best_params_"
   ]
  },
  {
   "cell_type": "markdown",
   "id": "987a88cb-9352-40d1-acfd-901d8bbce5e9",
   "metadata": {},
   "source": [
    "### K-nn with the ~~whole~~ training data"
   ]
  },
  {
   "cell_type": "markdown",
   "id": "6dae2506-3300-482a-a798-2081b20cbf21",
   "metadata": {},
   "source": [
    "When I try to train my model with the whole training dataset of 761'907 rows, my model will calculate forever without ever giving any results for the predictions. As I do not have access to more computational power, I decided to only use a subset of my data with 100'000 rows to make my predictions (100'000 row for the train data, 20'000 for the test data to have the same split of 80% - 20%). This problem shows that knn is not the best model chosen for my type of data."
   ]
  },
  {
   "cell_type": "code",
   "execution_count": 29,
   "id": "af441b1b-4c8b-4692-9fa8-9400c5e4e842",
   "metadata": {},
   "outputs": [],
   "source": [
    "from sklearn.utils import resample, shuffle\n",
    "X_te_subset = resample(X_te, random_state=8, n_samples=20000, replace=False)\n",
    "y_te_subset = resample(y_te, random_state=8, n_samples=20000, replace=False)\n",
    "\n",
    "X_tr_subset = resample(X_tr, random_state=8, n_samples=100000, replace=False)\n",
    "y_tr_subset = resample(y_tr, random_state=8, n_samples=100000, replace=False)"
   ]
  },
  {
   "cell_type": "code",
   "execution_count": 30,
   "id": "da5a32bf-0c5e-48ac-85db-2451c7bd4e30",
   "metadata": {},
   "outputs": [
    {
     "data": {
      "text/plain": [
       "Pipeline(steps=[('standardscaler', StandardScaler()),\n",
       "                ('pca', PCA(n_components=25)),\n",
       "                ('kneighborsregressor',\n",
       "                 KNeighborsRegressor(metric='euclidean', n_neighbors=50,\n",
       "                                     weights='distance'))])"
      ]
     },
     "execution_count": 30,
     "metadata": {},
     "output_type": "execute_result"
    }
   ],
   "source": [
    "# Create the estimator\n",
    "grid_knn = make_pipeline(StandardScaler(),\n",
    "                         PCA(n_components=25),\n",
    "                         KNeighborsRegressor(n_neighbors=50, weights=\"distance\", metric=\"euclidean\"))\n",
    "                    \n",
    "# Fit it to train data\n",
    "grid_knn.fit(X_tr, y_tr)"
   ]
  },
  {
   "cell_type": "markdown",
   "id": "4b07824c-5ecb-4fcd-b9e9-b9e8453ebb16",
   "metadata": {},
   "source": [
    "#### Evaluation and predictions"
   ]
  },
  {
   "cell_type": "code",
   "execution_count": 31,
   "id": "029ad9d0-a037-4153-95b4-4b86b612e27b",
   "metadata": {},
   "outputs": [],
   "source": [
    "# make prediction on test and train set\n",
    "y_te_pred = grid_knn.predict(X_te_subset)"
   ]
  },
  {
   "cell_type": "code",
   "execution_count": 32,
   "id": "55268dfb-24c2-4078-9979-79e03d124d13",
   "metadata": {},
   "outputs": [],
   "source": [
    "y_tr_pred = grid_knn.predict(X_tr_subset)"
   ]
  },
  {
   "cell_type": "code",
   "execution_count": 33,
   "id": "d2539b07-c0ea-4733-b5fa-58d6e30d1aef",
   "metadata": {},
   "outputs": [
    {
     "name": "stdout",
     "output_type": "stream",
     "text": [
      "Train set evaluation:\n",
      "_____________________________________\n",
      "MAE: 0.743\n",
      "MSE: 0.836\n",
      "RMSE: 0.914\n",
      "R2: 0.323\n",
      "\n",
      "Test set evaluation:\n",
      "_____________________________________\n",
      "MAE: 0.852\n",
      "MSE: 1.095\n",
      "RMSE: 1.047\n",
      "R2: 0.111\n"
     ]
    }
   ],
   "source": [
    "from sklearn.metrics import mean_absolute_error, mean_squared_error, r2_score\n",
    "from math import sqrt\n",
    "\n",
    "# calculate mae, mse, rmse and R2 for train data\n",
    "print('Train set evaluation:\\n_____________________________________')\n",
    "print(\"MAE: {:.3f}\".format(mean_absolute_error(y_tr_subset, y_tr_pred)))\n",
    "print(\"MSE: {:.3f}\".format(mean_squared_error(y_tr_subset, y_tr_pred)))\n",
    "print(\"RMSE: {:.3f}\".format(sqrt((mean_squared_error(y_tr_subset, y_tr_pred)))))\n",
    "print(\"R2: {:.3f}\".format(grid_knn.score(X_tr_subset, y_tr_subset)))\n",
    "\n",
    "# calculate mae, mse, rmse and R2 for test data\n",
    "print('\\nTest set evaluation:\\n_____________________________________')\n",
    "print(\"MAE: {:.3f}\".format(mean_absolute_error(y_te_subset, y_te_pred)))\n",
    "print(\"MSE: {:.3f}\".format(mean_squared_error(y_te_subset, y_te_pred)))\n",
    "print(\"RMSE: {:.3f}\".format(sqrt(mean_squared_error(y_te_subset, y_te_pred))))\n",
    "print(\"R2: {:.3f}\".format(grid_knn.score(X_te_subset, y_te_subset)))"
   ]
  },
  {
   "cell_type": "markdown",
   "id": "96bf3b6d-e9cf-42ba-8693-e5577f813e62",
   "metadata": {},
   "source": [
    "## Export"
   ]
  },
  {
   "cell_type": "code",
   "execution_count": 34,
   "id": "e55bc7da-48b2-407c-9553-16feefc2f8a1",
   "metadata": {},
   "outputs": [],
   "source": [
    "# Export model predictions\n",
    "predictions = pd.DataFrame({'Model': 'knn',\n",
    "                            'True Value': np.exp(y_te_subset),\n",
    "                            'Prediction': np.exp(y_te_pred),\n",
    "                           'Error': np.exp(y_te_subset) - np.exp(y_te_pred)})\n",
    "\n",
    "predictions.to_csv(\"ML_predictions_knn.csv\", encoding='utf-8', index=False)"
   ]
  },
  {
   "cell_type": "code",
   "execution_count": 35,
   "id": "56c0df9f-d30c-4052-96ee-d9623b1f781f",
   "metadata": {},
   "outputs": [],
   "source": [
    "# Export model predictions\n",
    "predictions = pd.DataFrame({'Model': 'knn',\n",
    "                            'True Value': np.exp(y_tr_subset),\n",
    "                            'Prediction': np.exp(y_tr_pred),\n",
    "                           'Error': np.exp(y_tr_subset) - np.exp(y_tr_pred)})\n",
    "\n",
    "predictions.to_csv(\"ML_predictions_knn_train.csv\", encoding='utf-8', index=False)"
   ]
  },
  {
   "cell_type": "code",
   "execution_count": 36,
   "id": "4eeaf41b-3be9-4a52-81d3-6c180cbf83f3",
   "metadata": {},
   "outputs": [],
   "source": [
    "# Export model evaluation\n",
    "# Source: https://www.geeksforgeeks.org/how-to-append-a-new-row-to-an-existing-csv-file/\n",
    "\n",
    "# Import writer class from csv module\n",
    "from csv import writer\n",
    " \n",
    "# List that we want to add as a new row\n",
    "List = ['K-nn', mean_absolute_error(y_te_subset, y_te_pred), mean_squared_error(y_te_subset, y_te_pred),\n",
    "                          sqrt((mean_squared_error(y_te_subset, y_te_pred))), grid_knn.score(X_te_subset, y_te_subset)]\n",
    " \n",
    "# Open our existing CSV file in append mode\n",
    "# Create a file object for this file\n",
    "with open('ML_evaluations.csv', 'a') as f_object:\n",
    " \n",
    "    # Pass this file object to csv.writer()\n",
    "    # and get a writer object\n",
    "    writer_object = writer(f_object)\n",
    " \n",
    "    # Pass the list as an argument into\n",
    "    # the writerow()\n",
    "    writer_object.writerow(List)\n",
    " \n",
    "    # Close the file object\n",
    "    f_object.close()"
   ]
  },
  {
   "cell_type": "code",
   "execution_count": null,
   "id": "6021ddc5-14e1-46c9-bd41-9cb1642ebc0b",
   "metadata": {},
   "outputs": [],
   "source": []
  }
 ],
 "metadata": {
  "kernelspec": {
   "display_name": "Python 3 (ipykernel)",
   "language": "python",
   "name": "python3"
  },
  "language_info": {
   "codemirror_mode": {
    "name": "ipython",
    "version": 3
   },
   "file_extension": ".py",
   "mimetype": "text/x-python",
   "name": "python",
   "nbconvert_exporter": "python",
   "pygments_lexer": "ipython3",
   "version": "3.9.7"
  }
 },
 "nbformat": 4,
 "nbformat_minor": 5
}
