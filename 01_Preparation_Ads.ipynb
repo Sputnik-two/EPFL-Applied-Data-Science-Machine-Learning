{
 "cells": [
  {
   "cell_type": "markdown",
   "metadata": {
    "tags": []
   },
   "source": [
    "# 01. Preparation Advertisements\n",
    "__Capstone project: Duration of the insertion of real estate advertisements for rental apartments in Switzerland__"
   ]
  },
  {
   "cell_type": "markdown",
   "metadata": {},
   "source": [
    "According to a recent [study](https://www.tagesanzeiger.ch/so-wenig-wohnungen-wie-seit-10-jahren-nicht-mehr-nun-steigen-mieten-kraeftig-987026564282), there are currently very few vacant flats in Switzerland. The increasing shortage is reflected in the so-called insertion period. This value indicates how many days a residential property can be found on a real estate portal. According to the study, this period has been decreasing significantly for some time. However, the development is not the same across all municipalities and types for rental apartments. I intend to analyse the duration of insertion for rental apartments in Switzerland and detect patterns, which help to predict the duration of insertion."
   ]
  },
  {
   "cell_type": "markdown",
   "metadata": {
    "tags": []
   },
   "source": [
    "## The data"
   ]
  },
  {
   "cell_type": "markdown",
   "metadata": {},
   "source": [
    "Data from three different sources will be used in this project: advertisements, statistics on the housing market and spatial categories for the municipalities. In this document, I will concentrate on the advertisements. "
   ]
  },
  {
   "cell_type": "markdown",
   "metadata": {},
   "source": [
    "The main data are real estate advertisements for rental apartments in Switzerland from the years 2015 to 2020. This data was crawled from the major real estate platforms such as Homegate and Immoscout24 by the company ImmoCompass. The dataset consists of 1'472'488 advertisements and a total of 43 features. \n",
    "\n",
    "My target feature is the duration of insertion, called ``Inserionsdauer``. It is calculated by subtracting the date of the last publication minus the date of the first publication. The duration of insertion is measured in days."
   ]
  },
  {
   "cell_type": "code",
   "execution_count": 1,
   "metadata": {},
   "outputs": [],
   "source": [
    "%load_ext lab_black"
   ]
  },
  {
   "cell_type": "code",
   "execution_count": 2,
   "metadata": {},
   "outputs": [],
   "source": [
    "# import commands\n",
    "import pandas as pd\n",
    "import numpy as np\n",
    "import seaborn as sns\n",
    "import matplotlib.pyplot as plt"
   ]
  },
  {
   "cell_type": "code",
   "execution_count": 3,
   "metadata": {},
   "outputs": [],
   "source": [
    "# import data\n",
    "import pandas as pd\n",
    "\n",
    "df = pd.read_csv(\"data/v_housings.csv\", delimiter=\",\")"
   ]
  },
  {
   "cell_type": "code",
   "execution_count": 4,
   "metadata": {},
   "outputs": [
    {
     "data": {
      "text/html": [
       "<div>\n",
       "<style scoped>\n",
       "    .dataframe tbody tr th:only-of-type {\n",
       "        vertical-align: middle;\n",
       "    }\n",
       "\n",
       "    .dataframe tbody tr th {\n",
       "        vertical-align: top;\n",
       "    }\n",
       "\n",
       "    .dataframe thead th {\n",
       "        text-align: right;\n",
       "    }\n",
       "</style>\n",
       "<table border=\"1\" class=\"dataframe\">\n",
       "  <thead>\n",
       "    <tr style=\"text-align: right;\">\n",
       "      <th></th>\n",
       "      <th>Beschreibung</th>\n",
       "      <th>BFS Gemeinde</th>\n",
       "      <th>Erste Publikation</th>\n",
       "      <th>Geometrie</th>\n",
       "      <th>Kenn-Nummer</th>\n",
       "      <th>Letzte Publikation</th>\n",
       "      <th>Link</th>\n",
       "      <th>MS Region</th>\n",
       "      <th>Nummer</th>\n",
       "      <th>Nutzung</th>\n",
       "      <th>...</th>\n",
       "      <th>Nettomiete pro Monat</th>\n",
       "      <th>Nutzung detailliert</th>\n",
       "      <th>Oa Unknownrentmon</th>\n",
       "      <th>Parkplatz aussen</th>\n",
       "      <th>Parkplatz innen</th>\n",
       "      <th>Rollstuhlgängig</th>\n",
       "      <th>Verfügbarkeitskategorie</th>\n",
       "      <th>Vermarkter</th>\n",
       "      <th>Wintergarten</th>\n",
       "      <th>Wohnfläche</th>\n",
       "    </tr>\n",
       "  </thead>\n",
       "  <tbody>\n",
       "    <tr>\n",
       "      <th>0</th>\n",
       "      <td>Zu vermieten in Sarnen (Kanton Obwalden)in ein...</td>\n",
       "      <td>Sarnen</td>\n",
       "      <td>25.07.2019</td>\n",
       "      <td>POINT (917904.89884428 5925098.825207843)</td>\n",
       "      <td>495798659</td>\n",
       "      <td>21.11.2019</td>\n",
       "      <td>https://www.homegate.ch/mieten/110266284</td>\n",
       "      <td>Sarneraatal</td>\n",
       "      <td>NaN</td>\n",
       "      <td>Haus</td>\n",
       "      <td>...</td>\n",
       "      <td>3000.0</td>\n",
       "      <td>16.0</td>\n",
       "      <td>NaN</td>\n",
       "      <td>1.0</td>\n",
       "      <td>1.0</td>\n",
       "      <td>-1.0</td>\n",
       "      <td>NaN</td>\n",
       "      <td>NaN</td>\n",
       "      <td>NaN</td>\n",
       "      <td>165.0</td>\n",
       "    </tr>\n",
       "    <tr>\n",
       "      <th>1</th>\n",
       "      <td>Villa mitoyenne de 4 pièces</td>\n",
       "      <td>Reconvilier</td>\n",
       "      <td>18.10.2018</td>\n",
       "      <td>POINT (803220.2198443257 5980238.058856224)</td>\n",
       "      <td>495647223</td>\n",
       "      <td>29.10.2018</td>\n",
       "      <td>https://www.homegate.ch/mieten/109261351</td>\n",
       "      <td>Jura bernois</td>\n",
       "      <td>39.0</td>\n",
       "      <td>Haus</td>\n",
       "      <td>...</td>\n",
       "      <td>840.0</td>\n",
       "      <td>15.0</td>\n",
       "      <td>NaN</td>\n",
       "      <td>NaN</td>\n",
       "      <td>NaN</td>\n",
       "      <td>-1.0</td>\n",
       "      <td>NaN</td>\n",
       "      <td>NaN</td>\n",
       "      <td>NaN</td>\n",
       "      <td>NaN</td>\n",
       "    </tr>\n",
       "  </tbody>\n",
       "</table>\n",
       "<p>2 rows × 43 columns</p>\n",
       "</div>"
      ],
      "text/plain": [
       "                                        Beschreibung BFS Gemeinde  \\\n",
       "0  Zu vermieten in Sarnen (Kanton Obwalden)in ein...       Sarnen   \n",
       "1                        Villa mitoyenne de 4 pièces  Reconvilier   \n",
       "\n",
       "  Erste Publikation                                    Geometrie  Kenn-Nummer  \\\n",
       "0        25.07.2019    POINT (917904.89884428 5925098.825207843)    495798659   \n",
       "1        18.10.2018  POINT (803220.2198443257 5980238.058856224)    495647223   \n",
       "\n",
       "  Letzte Publikation                                      Link     MS Region  \\\n",
       "0         21.11.2019  https://www.homegate.ch/mieten/110266284   Sarneraatal   \n",
       "1         29.10.2018  https://www.homegate.ch/mieten/109261351  Jura bernois   \n",
       "\n",
       "   Nummer Nutzung  ...  Nettomiete pro Monat  Nutzung detailliert  \\\n",
       "0     NaN    Haus  ...                3000.0                 16.0   \n",
       "1    39.0    Haus  ...                 840.0                 15.0   \n",
       "\n",
       "  Oa Unknownrentmon Parkplatz aussen Parkplatz innen Rollstuhlgängig  \\\n",
       "0               NaN              1.0             1.0            -1.0   \n",
       "1               NaN              NaN             NaN            -1.0   \n",
       "\n",
       "  Verfügbarkeitskategorie  Vermarkter  Wintergarten  Wohnfläche  \n",
       "0                     NaN         NaN           NaN       165.0  \n",
       "1                     NaN         NaN           NaN         NaN  \n",
       "\n",
       "[2 rows x 43 columns]"
      ]
     },
     "execution_count": 4,
     "metadata": {},
     "output_type": "execute_result"
    }
   ],
   "source": [
    "# show data\n",
    "df.head(2)"
   ]
  },
  {
   "cell_type": "code",
   "execution_count": 5,
   "metadata": {},
   "outputs": [
    {
     "data": {
      "text/plain": [
       "(1472488, 43)"
      ]
     },
     "execution_count": 5,
     "metadata": {},
     "output_type": "execute_result"
    }
   ],
   "source": [
    "# shape of the data\n",
    "df.shape"
   ]
  },
  {
   "cell_type": "markdown",
   "metadata": {},
   "source": [
    "__Variables__"
   ]
  },
  {
   "cell_type": "code",
   "execution_count": 6,
   "metadata": {},
   "outputs": [
    {
     "name": "stdout",
     "output_type": "stream",
     "text": [
      "<class 'pandas.core.frame.DataFrame'>\n",
      "RangeIndex: 1472488 entries, 0 to 1472487\n",
      "Data columns (total 43 columns):\n",
      " #   Column                       Non-Null Count    Dtype  \n",
      "---  ------                       --------------    -----  \n",
      " 0   Beschreibung                 1459195 non-null  object \n",
      " 1   BFS Gemeinde                 1472198 non-null  object \n",
      " 2   Erste Publikation            1472488 non-null  object \n",
      " 3   Geometrie                    1472488 non-null  object \n",
      " 4   Kenn-Nummer                  1472488 non-null  int64  \n",
      " 5   Letzte Publikation           1472488 non-null  object \n",
      " 6   Link                         1472487 non-null  object \n",
      " 7   MS Region                    1456861 non-null  object \n",
      " 8   Nummer                       1053931 non-null  float64\n",
      " 9   Nutzung                      1472488 non-null  object \n",
      " 10  Oa Unknownrentm2Year         116392 non-null   float64\n",
      " 11  PLZ                          1470442 non-null  float64\n",
      " 12  Strasse                      1293683 non-null  object \n",
      " 13  Telefon Vermarkter           993432 non-null   object \n",
      " 14  Titel                        1472326 non-null  object \n",
      " 15  Verfügbar von                795218 non-null   object \n",
      " 16  Zustand                      1472488 non-null  object \n",
      " 17  Agglomeration                1472198 non-null  float64\n",
      " 18  Anzahl Zimmer                1384907 non-null  float64\n",
      " 19  Aussicht                     430140 non-null   float64\n",
      " 20  Balkon                       706807 non-null   float64\n",
      " 21  Bauperiode                   499259 non-null   float64\n",
      " 22  Breitengrad                  1472488 non-null  float64\n",
      " 23  Bruttomiete pro m2 und Jahr  913160 non-null   float64\n",
      " 24  Bruttomiete pro Monat        1347783 non-null  float64\n",
      " 25  Etage                        997522 non-null   float64\n",
      " 26  Garten                       55937 non-null    float64\n",
      " 27  Gemeinde (geocodiert)        1472198 non-null  float64\n",
      " 28  Grundstücksfläche            29608 non-null    float64\n",
      " 29  Insertionsdauer              1472488 non-null  int64  \n",
      " 30  Längengrad                   1472488 non-null  float64\n",
      " 31  Minergie                     1180316 non-null  float64\n",
      " 32  Nettomiete pro m2 und Jahr   907872 non-null   float64\n",
      " 33  Nettomiete pro Monat         1096039 non-null  float64\n",
      " 34  Nutzung detailliert          1469897 non-null  float64\n",
      " 35  Oa Unknownrentmon            241851 non-null   float64\n",
      " 36  Parkplatz aussen             410830 non-null   float64\n",
      " 37  Parkplatz innen              434268 non-null   float64\n",
      " 38  Rollstuhlgängig              1185928 non-null  float64\n",
      " 39  Verfügbarkeitskategorie      430396 non-null   float64\n",
      " 40  Vermarkter                   247573 non-null   float64\n",
      " 41  Wintergarten                 3924 non-null     float64\n",
      " 42  Wohnfläche                   1165511 non-null  float64\n",
      "dtypes: float64(28), int64(2), object(13)\n",
      "memory usage: 483.1+ MB\n"
     ]
    },
    {
     "data": {
      "text/plain": [
       "None"
      ]
     },
     "metadata": {},
     "output_type": "display_data"
    }
   ],
   "source": [
    "# column names, count and type\n",
    "display(df.info(show_counts=True))"
   ]
  },
  {
   "cell_type": "markdown",
   "metadata": {},
   "source": [
    "* ``Beschreibung``: Description text in the advertisement\n",
    "* ``BFS Gemeinde``: Municipality \n",
    "* ``Erste Publikation``: Date of first publication\n",
    "* ``Etagenkategorie``: Floor category (1.floor,  2.floor)\n",
    "* ``Geometrie``: Geometry\n",
    "* ``Kenn-Nummer``: Identification number\n",
    "* ``Letzte Publikation``: Date of last publication\n",
    "* ``Link``: link\n",
    "* ``MS Region``: Regions as defined by the FSO, no longer in use\n",
    "* ``Nummer``: Street number\n",
    "* ``Nutzung``: usage\n",
    "* ``PLZ``: ZIP code\n",
    "* ``Strasse``: Street\n",
    "* ``Telefon Vermarkter``: Phone number of marketer\n",
    "* ``Titel``: Title of advertisement\n",
    "* ``Verfügbar von``: Date of aviability\n",
    "* ``Zustand``: Condition of the apartment, can be either \"used\", \"as new\" or \"first occupancy\"\n",
    "* ``Agglomeration``: Regions as defined by the FSO,\n",
    "* ``Anzahl Zimmer``: number of rooms\n",
    "* ``Aussicht``: view; \"not present\", \"unknown\", \"mountain view\", \"lake view\", \"other\"\n",
    "* ``Balkon``: balcony\n",
    "* ``Bauperiode``: Building periods, like \"2020-2024\", \"2016-2019\", \"2011-2015\" and so on\n",
    "* ``Breitengrad``: Latitude\n",
    "* ``Bruttomiete pro m2 und Jahr``: Gross rent per m2 and year\n",
    "* ``Bruttomiete pro Monat``: Gross rent per month\n",
    "* ``Etage``: floor\n",
    "* ``Garten``: garden\n",
    "* ``Gemeinde (geocodiert)``: Geocoded municipality\n",
    "* ``Grundstücksfläche``: Plot area\n",
    "* ``Insertionsdauer``: Duration of insertion\n",
    "* ``Längengrad``: Longitude\n",
    "* ``Minergie``: Minergy\n",
    "* ``Nettomiete pro m2 und Jahr``: Net rent per m2 and year\n",
    "* ``Nettomiete pro Monat``: Net rent per month\n",
    "* ``Nutzung detailliert``: Detailed usage\n",
    "* ``Parkplatz aussen``: Parking space outdoors\n",
    "* ``Parkplatz innen``: Parking space indoors\n",
    "* ``Rollstuhlgängig``: Wheelchair accessability\n",
    "* ``Verfügbarkeitskategorie``: Category of availability\n",
    "* ``Vermarkter``: Marketer\n",
    "* ``Wintergarten``: Winter garden; \"present\", \"not present\", \"unknown\"\n",
    "* ``Wohnfläche``: Living area"
   ]
  },
  {
   "cell_type": "markdown",
   "metadata": {
    "tags": []
   },
   "source": [
    "## Exploratory data analysis (EDA)"
   ]
  },
  {
   "cell_type": "markdown",
   "metadata": {
    "tags": []
   },
   "source": [
    "### Duplicates"
   ]
  },
  {
   "cell_type": "code",
   "execution_count": 7,
   "metadata": {},
   "outputs": [
    {
     "data": {
      "text/plain": [
       "0"
      ]
     },
     "execution_count": 7,
     "metadata": {},
     "output_type": "execute_result"
    }
   ],
   "source": [
    "# Count duplicate in the DataFrame\n",
    "df.duplicated().sum()"
   ]
  },
  {
   "cell_type": "code",
   "execution_count": 8,
   "metadata": {},
   "outputs": [
    {
     "data": {
      "text/plain": [
       "True"
      ]
     },
     "execution_count": 8,
     "metadata": {},
     "output_type": "execute_result"
    }
   ],
   "source": [
    "# check if the id unique\n",
    "df[\"Kenn-Nummer\"].is_unique"
   ]
  },
  {
   "cell_type": "code",
   "execution_count": 9,
   "metadata": {},
   "outputs": [],
   "source": [
    "# drop the id\n",
    "df = df.drop([\"Kenn-Nummer\"], axis=1)"
   ]
  },
  {
   "cell_type": "markdown",
   "metadata": {},
   "source": [
    "After crawling the data from the different real estate platform, the data is checked for dublicated advertisement. This step is already done by the company ImmoCompass. Therefore, the data I'm using here truly has no dublicates."
   ]
  },
  {
   "cell_type": "markdown",
   "metadata": {},
   "source": [
    "### Feature types"
   ]
  },
  {
   "cell_type": "code",
   "execution_count": 10,
   "metadata": {},
   "outputs": [
    {
     "data": {
      "text/plain": [
       "float64    28\n",
       "object     13\n",
       "int64       1\n",
       "dtype: int64"
      ]
     },
     "execution_count": 10,
     "metadata": {},
     "output_type": "execute_result"
    }
   ],
   "source": [
    "# Count how many times each data type is present in the dataset\n",
    "pd.value_counts(df.dtypes)"
   ]
  },
  {
   "cell_type": "code",
   "execution_count": 11,
   "metadata": {},
   "outputs": [],
   "source": [
    "# Use pandas.to_datetime() to convert string to datetime format\n",
    "df.loc[:, \"Verfügbar von\"] = pd.to_datetime(df[\"Verfügbar von\"], errors=\"coerce\")\n",
    "df.loc[:, \"Erste Publikation\"] = pd.to_datetime(df[\"Erste Publikation\"])\n",
    "df.loc[:, \"Letzte Publikation\"] = pd.to_datetime(df[\"Letzte Publikation\"])"
   ]
  },
  {
   "cell_type": "code",
   "execution_count": 12,
   "metadata": {},
   "outputs": [],
   "source": [
    "# These varibales are not numbers, I will convert them to objects\n",
    "\n",
    "df[\n",
    "    [\n",
    "        \"Aussicht\",\n",
    "        \"Balkon\",\n",
    "        \"Minergie\",\n",
    "        \"Nutzung detailliert\",\n",
    "        \"Bauperiode\",\n",
    "        \"Rollstuhlgängig\",\n",
    "        \"Verfügbarkeitskategorie\",\n",
    "        \"Parkplatz aussen\",\n",
    "        \"Parkplatz innen\",\n",
    "        \"Agglomeration\",\n",
    "        \"Nummer\",\n",
    "        \"PLZ\",\n",
    "        \"Wintergarten\",\n",
    "        \"Garten\",\n",
    "        \"Vermarkter\",\n",
    "        \"Telefon Vermarkter\",\n",
    "    ]\n",
    "] = df[\n",
    "    [\n",
    "        \"Aussicht\",\n",
    "        \"Balkon\",\n",
    "        \"Minergie\",\n",
    "        \"Nutzung detailliert\",\n",
    "        \"Bauperiode\",\n",
    "        \"Rollstuhlgängig\",\n",
    "        \"Verfügbarkeitskategorie\",\n",
    "        \"Parkplatz aussen\",\n",
    "        \"Parkplatz innen\",\n",
    "        \"Agglomeration\",\n",
    "        \"Nummer\",\n",
    "        \"PLZ\",\n",
    "        \"Wintergarten\",\n",
    "        \"Garten\",\n",
    "        \"Vermarkter\",\n",
    "        \"Telefon Vermarkter\",\n",
    "    ]\n",
    "].astype(\n",
    "    object\n",
    ")"
   ]
  },
  {
   "cell_type": "code",
   "execution_count": 13,
   "metadata": {},
   "outputs": [
    {
     "data": {
      "text/plain": [
       "object            25\n",
       "float64           13\n",
       "datetime64[ns]     3\n",
       "int64              1\n",
       "dtype: int64"
      ]
     },
     "execution_count": 13,
     "metadata": {},
     "output_type": "execute_result"
    }
   ],
   "source": [
    "# Count how many times each data type is present in the dataset\n",
    "pd.value_counts(df.dtypes)"
   ]
  },
  {
   "cell_type": "code",
   "execution_count": 14,
   "metadata": {},
   "outputs": [
    {
     "name": "stdout",
     "output_type": "stream",
     "text": [
      "Type date: Index(['Erste Publikation', 'Letzte Publikation', 'Verfügbar von'], dtype='object')\n"
     ]
    }
   ],
   "source": [
    "# Show column names of type date\n",
    "print(f\"Type date: {df.select_dtypes(include='datetime64').columns}\")"
   ]
  },
  {
   "cell_type": "code",
   "execution_count": 15,
   "metadata": {},
   "outputs": [
    {
     "name": "stdout",
     "output_type": "stream",
     "text": [
      "Type integer: Index(['Insertionsdauer'], dtype='object')\n"
     ]
    }
   ],
   "source": [
    "# Show column names of type integer\n",
    "print(f\"Type integer: {df.select_dtypes(include='int').columns}\")"
   ]
  },
  {
   "cell_type": "code",
   "execution_count": 16,
   "metadata": {},
   "outputs": [
    {
     "name": "stdout",
     "output_type": "stream",
     "text": [
      "Type float: Index(['Oa Unknownrentm2Year', 'Anzahl Zimmer', 'Breitengrad',\n",
      "       'Bruttomiete pro m2 und Jahr', 'Bruttomiete pro Monat', 'Etage',\n",
      "       'Gemeinde (geocodiert)', 'Grundstücksfläche', 'Längengrad',\n",
      "       'Nettomiete pro m2 und Jahr', 'Nettomiete pro Monat',\n",
      "       'Oa Unknownrentmon', 'Wohnfläche'],\n",
      "      dtype='object')\n"
     ]
    }
   ],
   "source": [
    "# Show column names of type float\n",
    "print(f\"Type float: {df.select_dtypes(include='float').columns}\")"
   ]
  },
  {
   "cell_type": "code",
   "execution_count": 17,
   "metadata": {},
   "outputs": [
    {
     "name": "stdout",
     "output_type": "stream",
     "text": [
      "Type object: Index(['Beschreibung', 'BFS Gemeinde', 'Geometrie', 'Link', 'MS Region',\n",
      "       'Nummer', 'Nutzung', 'PLZ', 'Strasse', 'Telefon Vermarkter', 'Titel',\n",
      "       'Zustand', 'Agglomeration', 'Aussicht', 'Balkon', 'Bauperiode',\n",
      "       'Garten', 'Minergie', 'Nutzung detailliert', 'Parkplatz aussen',\n",
      "       'Parkplatz innen', 'Rollstuhlgängig', 'Verfügbarkeitskategorie',\n",
      "       'Vermarkter', 'Wintergarten'],\n",
      "      dtype='object')\n"
     ]
    }
   ],
   "source": [
    "# Show column names of type object\n",
    "print(f\"Type object: {df.select_dtypes(include='object').columns}\")"
   ]
  },
  {
   "cell_type": "markdown",
   "metadata": {},
   "source": [
    "Among the variables of type object are pure textual ones: \n",
    "* ``Beschreibung`` &  ``Titel``\n",
    "* ``Link``\n",
    "\n",
    "And there are some related to the location:\n",
    "* ``BFS Gemeinde``, ``Gemeinde (geocodiert)``\n",
    "* ``Strasse``, ``Nummer`` & ``PLZ``\n",
    "* ``Agglomeration`` & ``MS Region``\n",
    "* ``Geometrie``"
   ]
  },
  {
   "cell_type": "markdown",
   "metadata": {},
   "source": [
    "I will drop the plain text columns as they would require extensive preprocessing."
   ]
  },
  {
   "cell_type": "code",
   "execution_count": 18,
   "metadata": {},
   "outputs": [],
   "source": [
    "# drop columns\n",
    "df = df.drop([\"Beschreibung\", \"Titel\", \"Link\"], axis=1)"
   ]
  },
  {
   "cell_type": "markdown",
   "metadata": {},
   "source": [
    "I will also drop the features related to the location, except for the municipality itself. "
   ]
  },
  {
   "cell_type": "code",
   "execution_count": 19,
   "metadata": {},
   "outputs": [],
   "source": [
    "# drop columns\n",
    "df = df.drop(\n",
    "    [\n",
    "        \"Strasse\",\n",
    "        \"Nummer\",\n",
    "        \"PLZ\",\n",
    "        \"Agglomeration\",\n",
    "        \"MS Region\",\n",
    "        \"Geometrie\",\n",
    "        \"Gemeinde (geocodiert)\",\n",
    "    ],\n",
    "    axis=1,\n",
    ")\n",
    "\n",
    "# rename the columm as \"Gemeinde\"\n",
    "df.rename(columns={\"BFS Gemeinde\": \"Gemeinde\"}, inplace=True)"
   ]
  },
  {
   "cell_type": "markdown",
   "metadata": {},
   "source": [
    "### Missing values"
   ]
  },
  {
   "cell_type": "markdown",
   "metadata": {},
   "source": [
    "I will drop all columns with no values at all."
   ]
  },
  {
   "cell_type": "code",
   "execution_count": 20,
   "metadata": {},
   "outputs": [],
   "source": [
    "# drop the completly empty columns\n",
    "df = df.dropna(how=\"all\", axis=1)"
   ]
  },
  {
   "cell_type": "code",
   "execution_count": 21,
   "metadata": {},
   "outputs": [
    {
     "name": "stdout",
     "output_type": "stream",
     "text": [
      "New shape of DataFrame: (1472488, 32)\n"
     ]
    }
   ],
   "source": [
    "print(\"New shape of DataFrame:\", df.shape)"
   ]
  },
  {
   "cell_type": "code",
   "execution_count": 22,
   "metadata": {},
   "outputs": [
    {
     "name": "stdout",
     "output_type": "stream",
     "text": [
      "The count of missing values is: 18295436\n"
     ]
    }
   ],
   "source": [
    "print(f\"The count of missing values is: {df.isna().sum().sum()}\")"
   ]
  },
  {
   "cell_type": "code",
   "execution_count": 23,
   "metadata": {},
   "outputs": [
    {
     "data": {
      "image/png": "[encoded data removed]",
      "text/plain": [
       "<Figure size 1800x400 with 1 Axes>"
      ]
     },
     "metadata": {},
     "output_type": "display_data"
    }
   ],
   "source": [
    "# identify the ratio of missing values per feature\n",
    "df.isna().mean().sort_values().plot(\n",
    "    kind=\"bar\", figsize=(18, 4), title=\"Percentage of missing values per feature\"\n",
    ")\n",
    "plt.show()"
   ]
  },
  {
   "cell_type": "code",
   "execution_count": 24,
   "metadata": {},
   "outputs": [
    {
     "name": "stdout",
     "output_type": "stream",
     "text": [
      "Shape before cleaning: (1472488, 32)\n",
      "Shape after cleaning: (1472488, 26)\n"
     ]
    }
   ],
   "source": [
    "# Shape of feature matrix before cleaning\n",
    "print(\"Shape before cleaning:\", df.shape)\n",
    "\n",
    "# Lets drop all features that have more than 75% of missing values.\n",
    "df = df.dropna(thresh=df.shape[0] * 0.25, axis=1)\n",
    "\n",
    "# Shape of feature matrix before cleaning\n",
    "print(\"Shape after cleaning:\", df.shape)"
   ]
  },
  {
   "cell_type": "markdown",
   "metadata": {},
   "source": [
    "The features ``Wintergarten``, ``Grundstücksfläche``, ``Garten``, ``Oa Unknownrentm2Year``, ``Oa Unknownrentmon`` and ``Vermarkter``have more than 75% of missing values and are therefore deleted. As the feature marketer is deleted, the telephone number of the marketer (``Telefon Vermarkter``) can be deleted as well, as it adds no value."
   ]
  },
  {
   "cell_type": "code",
   "execution_count": 25,
   "metadata": {},
   "outputs": [],
   "source": [
    "# drop column\n",
    "df = df.drop([\"Telefon Vermarkter\"], axis=1)"
   ]
  },
  {
   "cell_type": "markdown",
   "metadata": {},
   "source": [
    "#### object"
   ]
  },
  {
   "cell_type": "code",
   "execution_count": 26,
   "metadata": {},
   "outputs": [
    {
     "data": {
      "text/plain": [
       "Parkplatz aussen           1061658\n",
       "Aussicht                   1042348\n",
       "Verfügbarkeitskategorie    1042092\n",
       "Parkplatz innen            1038220\n",
       "Bauperiode                  973229\n",
       "Balkon                      765681\n",
       "Minergie                    292172\n",
       "Rollstuhlgängig             286560\n",
       "Nutzung detailliert           2591\n",
       "Gemeinde                       290\n",
       "Nutzung                          0\n",
       "Zustand                          0\n",
       "dtype: int64"
      ]
     },
     "execution_count": 26,
     "metadata": {},
     "output_type": "execute_result"
    }
   ],
   "source": [
    "# show missing values of type object\n",
    "df.select_dtypes(include=\"object\").isnull().sum().sort_values(ascending=False).head(21)"
   ]
  },
  {
   "cell_type": "code",
   "execution_count": 27,
   "metadata": {},
   "outputs": [],
   "source": [
    "# replace the missing values with a string\n",
    "for feature in [\n",
    "    \"Parkplatz aussen\",\n",
    "    \"Parkplatz innen\",\n",
    "    \"Aussicht\",\n",
    "    \"Verfügbarkeitskategorie\",\n",
    "    \"Bauperiode\",\n",
    "    \"Balkon\",\n",
    "    \"Minergie\",\n",
    "    \"Rollstuhlgängig\",\n",
    "    \"Rollstuhlgängig\",\n",
    "    \"Nutzung detailliert\",\n",
    "]:\n",
    "    df[feature] = df[feature].fillna(\"unknown\")"
   ]
  },
  {
   "cell_type": "code",
   "execution_count": 28,
   "metadata": {},
   "outputs": [
    {
     "data": {
      "text/plain": [
       "Gemeinde    290\n",
       "dtype: int64"
      ]
     },
     "execution_count": 28,
     "metadata": {},
     "output_type": "execute_result"
    }
   ],
   "source": [
    "# Check missing values of type object\n",
    "df.select_dtypes(include=\"object\").isnull().sum().sort_values(ascending=False).head(1)"
   ]
  },
  {
   "cell_type": "code",
   "execution_count": 29,
   "metadata": {},
   "outputs": [],
   "source": [
    "# drop the rows with the missing informaiton\n",
    "df = df[df[\"Gemeinde\"].notna()]"
   ]
  },
  {
   "cell_type": "markdown",
   "metadata": {},
   "source": [
    "#### datetime"
   ]
  },
  {
   "cell_type": "code",
   "execution_count": 30,
   "metadata": {},
   "outputs": [
    {
     "data": {
      "text/plain": [
       "Verfügbar von         677102\n",
       "Erste Publikation          0\n",
       "Letzte Publikation         0\n",
       "dtype: int64"
      ]
     },
     "execution_count": 30,
     "metadata": {},
     "output_type": "execute_result"
    }
   ],
   "source": [
    "# show missing values of type datetime\n",
    "df.select_dtypes(include=\"datetime64\").isnull().sum().sort_values(ascending=False).head(\n",
    "    21\n",
    ")"
   ]
  },
  {
   "cell_type": "markdown",
   "metadata": {},
   "source": [
    "There are too many missing values in the column ``Verfügbar von``, therefore I will delete the column."
   ]
  },
  {
   "cell_type": "code",
   "execution_count": 31,
   "metadata": {},
   "outputs": [],
   "source": [
    "# drop column\n",
    "df = df.drop([\"Verfügbar von\"], axis=1)"
   ]
  },
  {
   "cell_type": "markdown",
   "metadata": {},
   "source": [
    "The duration of insertion is calculated by subtracting the date of the last publication minus the date of the first publication. I therefore have to delete the last date of publication from my data, because this column would not be in a dataset where the target variable is missing."
   ]
  },
  {
   "cell_type": "code",
   "execution_count": 32,
   "metadata": {},
   "outputs": [],
   "source": [
    "# drop column\n",
    "df = df.drop([\"Letzte Publikation\"], axis=1)"
   ]
  },
  {
   "cell_type": "markdown",
   "metadata": {},
   "source": [
    "#### number"
   ]
  },
  {
   "cell_type": "code",
   "execution_count": 33,
   "metadata": {},
   "outputs": [
    {
     "data": {
      "text/plain": [
       "Nettomiete pro m2 und Jahr     564475\n",
       "Bruttomiete pro m2 und Jahr    559188\n",
       "Etage                          474831\n",
       "Nettomiete pro Monat           376347\n",
       "Wohnfläche                     306910\n",
       "Bruttomiete pro Monat          124664\n",
       "Anzahl Zimmer                   87557\n",
       "Breitengrad                         0\n",
       "Insertionsdauer                     0\n",
       "Längengrad                          0\n",
       "dtype: int64"
      ]
     },
     "execution_count": 33,
     "metadata": {},
     "output_type": "execute_result"
    }
   ],
   "source": [
    "# show missing values of type number\n",
    "df.select_dtypes(include=\"number\").isnull().sum().sort_values(ascending=False).head(10)"
   ]
  },
  {
   "cell_type": "code",
   "execution_count": 34,
   "metadata": {},
   "outputs": [],
   "source": [
    "# fill rows with missing values with a calculated rent\n",
    "\n",
    "# fill empty values in rent per m2 and year\n",
    "df[\"Nettomiete pro m2 und Jahr\"] = df[\"Nettomiete pro m2 und Jahr\"].fillna(\n",
    "    df[\"Nettomiete pro Monat\"] * 12 / df[\"Wohnfläche\"]\n",
    ")\n",
    "\n",
    "# fill empty values in rent per month\n",
    "df[\"Nettomiete pro Monat\"] = df[\"Nettomiete pro Monat\"].fillna(\n",
    "    df[\"Nettomiete pro m2 und Jahr\"] / 12 * df[\"Wohnfläche\"]\n",
    ")\n",
    "\n",
    "# fill empty values in surface area\n",
    "df[\"Wohnfläche\"] = df[\"Wohnfläche\"].fillna(\n",
    "    df[\"Nettomiete pro Monat\"] / (df[\"Nettomiete pro m2 und Jahr\"] / 12)\n",
    ")"
   ]
  },
  {
   "cell_type": "code",
   "execution_count": 35,
   "metadata": {},
   "outputs": [
    {
     "data": {
      "text/plain": [
       "Nettomiete pro m2 und Jahr     564468\n",
       "Bruttomiete pro m2 und Jahr    559188\n",
       "Etage                          474831\n",
       "Nettomiete pro Monat           376298\n",
       "Wohnfläche                     295413\n",
       "Bruttomiete pro Monat          124664\n",
       "Anzahl Zimmer                   87557\n",
       "Breitengrad                         0\n",
       "Insertionsdauer                     0\n",
       "Längengrad                          0\n",
       "dtype: int64"
      ]
     },
     "execution_count": 35,
     "metadata": {},
     "output_type": "execute_result"
    }
   ],
   "source": [
    "# show missing values of type number\n",
    "df.select_dtypes(include=\"number\").isnull().sum().sort_values(ascending=False).head(10)"
   ]
  },
  {
   "cell_type": "markdown",
   "metadata": {},
   "source": [
    "I will try to fill some more of the missing rents by calculating the net rent from the gross rent. But before doing so, I will correct the number of rooms (``Anzahl Zimmer``). I will come back to these missing values after this."
   ]
  },
  {
   "cell_type": "markdown",
   "metadata": {
    "tags": []
   },
   "source": [
    "__number of rooms__"
   ]
  },
  {
   "cell_type": "code",
   "execution_count": 36,
   "metadata": {},
   "outputs": [
    {
     "data": {
      "text/plain": [
       "array([ 6.   ,  4.   ,  5.   ,  6.5  ,  1.   ,  4.5  ,  3.5  ,  5.5  ,\n",
       "          nan, 10.   ,  7.5  ,  3.   ,  7.   ,  8.5  ,  8.   ,  9.   ,\n",
       "        1.5  ,  2.   ,  9.5  , 15.   , 11.   ,  2.5  , 13.   , 12.   ,\n",
       "       16.5  , 10.5  ,  0.5  , 14.   , 20.   ,  1.07 , 12.5  , 45.   ,\n",
       "       17.   ,  4.2  , 35.   ,  1.1  , 25.   ,  3.3  , 11.5  , 18.   ,\n",
       "        4.4  ,  0.3  , 75.   , 16.   , 55.   , 14.5  , 19.5  ,  2.3  ,\n",
       "        3.1  ,  0.1  ,  0.6  , 13.5  ,  1.02 ,  0.4  ,  3.585, 19.   ,\n",
       "       22.   ,  0.2  , 15.5  , 10.2  ,  1.04 ,  5.2  , 27.   , 36.   ,\n",
       "        4.3  , 65.   , 20.5  , 43.5  ,  2.1  , 42.5  , 30.   , 17.5  ,\n",
       "       18.5  ,  3.2  , 41.   ,  4.6  ,  2.2  , 47.5  , 51.   , 56.   ,\n",
       "       50.   ])"
      ]
     },
     "execution_count": 36,
     "metadata": {},
     "output_type": "execute_result"
    }
   ],
   "source": [
    "# Check the unique variables in the feature number of rooms\n",
    "df[\"Anzahl Zimmer\"].unique()"
   ]
  },
  {
   "cell_type": "code",
   "execution_count": 37,
   "metadata": {},
   "outputs": [],
   "source": [
    "# replace the values with more than 10 rooms and less then one room with nan.\n",
    "df[\"Anzahl Zimmer\"] = np.where(\n",
    "    (df[\"Anzahl Zimmer\"] < 1),\n",
    "    np.NaN,\n",
    "    df[\"Anzahl Zimmer\"],\n",
    ")\n",
    "\n",
    "df[\"Anzahl Zimmer\"] = np.where(\n",
    "    (df[\"Anzahl Zimmer\"] >= 11),\n",
    "    np.NaN,\n",
    "    df[\"Anzahl Zimmer\"],\n",
    ")\n",
    "\n",
    "# reassign the numbers to a neat structure\n",
    "df[\"Anzahl Zimmer\"] = np.where(\n",
    "    (df[\"Anzahl Zimmer\"] >= 1) & (df[\"Anzahl Zimmer\"] < 2), 1, df[\"Anzahl Zimmer\"]\n",
    ")\n",
    "df[\"Anzahl Zimmer\"] = np.where(\n",
    "    (df[\"Anzahl Zimmer\"] >= 2) & (df[\"Anzahl Zimmer\"] < 3), 2, df[\"Anzahl Zimmer\"]\n",
    ")\n",
    "df[\"Anzahl Zimmer\"] = np.where(\n",
    "    (df[\"Anzahl Zimmer\"] >= 3) & (df[\"Anzahl Zimmer\"] < 4), 3, df[\"Anzahl Zimmer\"]\n",
    ")\n",
    "df[\"Anzahl Zimmer\"] = np.where(\n",
    "    (df[\"Anzahl Zimmer\"] >= 4) & (df[\"Anzahl Zimmer\"] < 5), 4, df[\"Anzahl Zimmer\"]\n",
    ")\n",
    "df[\"Anzahl Zimmer\"] = np.where(\n",
    "    (df[\"Anzahl Zimmer\"] >= 5) & (df[\"Anzahl Zimmer\"] < 6), 5, df[\"Anzahl Zimmer\"]\n",
    ")\n",
    "df[\"Anzahl Zimmer\"] = np.where(\n",
    "    (df[\"Anzahl Zimmer\"] >= 6) & (df[\"Anzahl Zimmer\"] < 7), 6, df[\"Anzahl Zimmer\"]\n",
    ")\n",
    "df[\"Anzahl Zimmer\"] = np.where(\n",
    "    (df[\"Anzahl Zimmer\"] >= 7) & (df[\"Anzahl Zimmer\"] < 8), 7, df[\"Anzahl Zimmer\"]\n",
    ")\n",
    "df[\"Anzahl Zimmer\"] = np.where(\n",
    "    (df[\"Anzahl Zimmer\"] >= 8) & (df[\"Anzahl Zimmer\"] < 9), 8, df[\"Anzahl Zimmer\"]\n",
    ")\n",
    "df[\"Anzahl Zimmer\"] = np.where(\n",
    "    (df[\"Anzahl Zimmer\"] >= 9) & (df[\"Anzahl Zimmer\"] < 10), 9, df[\"Anzahl Zimmer\"]\n",
    ")\n",
    "df[\"Anzahl Zimmer\"] = np.where(\n",
    "    (df[\"Anzahl Zimmer\"] >= 10) & (df[\"Anzahl Zimmer\"] < 11), 10, df[\"Anzahl Zimmer\"]\n",
    ")"
   ]
  },
  {
   "cell_type": "code",
   "execution_count": 38,
   "metadata": {},
   "outputs": [
    {
     "data": {
      "text/plain": [
       "3.0     32.305777\n",
       "4.0     22.806715\n",
       "2.0     19.661690\n",
       "1.0      9.331557\n",
       "5.0      6.714993\n",
       "NaN      6.028401\n",
       "6.0      1.958772\n",
       "7.0      0.727076\n",
       "8.0      0.267084\n",
       "9.0      0.118462\n",
       "10.0     0.079473\n",
       "Name: Anzahl Zimmer, dtype: float64"
      ]
     },
     "execution_count": 38,
     "metadata": {},
     "output_type": "execute_result"
    }
   ],
   "source": [
    "# show the percentage of values per category\n",
    "AZ_count = (\n",
    "    df[\"Anzahl Zimmer\"].value_counts(ascending=False, normalize=True, dropna=False)\n",
    "    * 100\n",
    ")\n",
    "AZ_count.head(15)"
   ]
  },
  {
   "cell_type": "markdown",
   "metadata": {},
   "source": [
    "__rent per m2 and year__"
   ]
  },
  {
   "cell_type": "markdown",
   "metadata": {},
   "source": [
    "I will try to calculate the missing net rents by using the gross rents."
   ]
  },
  {
   "cell_type": "code",
   "execution_count": 39,
   "metadata": {},
   "outputs": [
    {
     "data": {
      "text/plain": [
       "(41077, 23)"
      ]
     },
     "execution_count": 39,
     "metadata": {},
     "output_type": "execute_result"
    }
   ],
   "source": [
    "# show the amount of data with missing net rent but present values for gross rent and number of rooms\n",
    "df[\n",
    "    (df[\"Nettomiete pro m2 und Jahr\"].isna())\n",
    "    & (~df[\"Bruttomiete pro m2 und Jahr\"].isna())\n",
    "    & (~df[\"Anzahl Zimmer\"].isna())\n",
    "].shape"
   ]
  },
  {
   "cell_type": "code",
   "execution_count": 40,
   "metadata": {},
   "outputs": [
    {
     "data": {
      "text/plain": [
       "Anzahl Zimmer\n",
       "1.0     38.4\n",
       "2.0     31.6\n",
       "3.0     29.5\n",
       "4.0     26.4\n",
       "5.0     21.6\n",
       "6.0     13.0\n",
       "7.0     11.0\n",
       "8.0      9.6\n",
       "9.0      8.1\n",
       "10.0     2.3\n",
       "dtype: float64"
      ]
     },
     "execution_count": 40,
     "metadata": {},
     "output_type": "execute_result"
    }
   ],
   "source": [
    "# show the median of rent difference between gross and net rent per number of rooms\n",
    "df_diff = df.groupby([\"Anzahl Zimmer\"])[\"Bruttomiete pro m2 und Jahr\"].median().round(\n",
    "    1\n",
    ") - df.groupby([\"Anzahl Zimmer\"])[\"Nettomiete pro m2 und Jahr\"].median().round(1)\n",
    "df_diff"
   ]
  },
  {
   "cell_type": "code",
   "execution_count": 41,
   "metadata": {},
   "outputs": [],
   "source": [
    "# define the subsets based on the different number of rooms\n",
    "a1 = (\n",
    "    (df[\"Nettomiete pro m2 und Jahr\"].isna())\n",
    "    & (~df[\"Bruttomiete pro m2 und Jahr\"].isna())\n",
    "    & (df[\"Anzahl Zimmer\"] == 1)\n",
    ")\n",
    "\n",
    "a2 = (\n",
    "    (df[\"Nettomiete pro m2 und Jahr\"].isna())\n",
    "    & (~df[\"Bruttomiete pro m2 und Jahr\"].isna())\n",
    "    & (df[\"Anzahl Zimmer\"] == 2)\n",
    ")\n",
    "\n",
    "a3 = (\n",
    "    (df[\"Nettomiete pro m2 und Jahr\"].isna())\n",
    "    & (~df[\"Bruttomiete pro m2 und Jahr\"].isna())\n",
    "    & (df[\"Anzahl Zimmer\"] == 3)\n",
    ")\n",
    "\n",
    "a4 = (\n",
    "    (df[\"Nettomiete pro m2 und Jahr\"].isna())\n",
    "    & (~df[\"Bruttomiete pro m2 und Jahr\"].isna())\n",
    "    & (df[\"Anzahl Zimmer\"] == 4)\n",
    ")\n",
    "\n",
    "a5 = (\n",
    "    (df[\"Nettomiete pro m2 und Jahr\"].isna())\n",
    "    & (~df[\"Bruttomiete pro m2 und Jahr\"].isna())\n",
    "    & (df[\"Anzahl Zimmer\"] == 5)\n",
    ")\n",
    "\n",
    "a6 = (\n",
    "    (df[\"Nettomiete pro m2 und Jahr\"].isna())\n",
    "    & (~df[\"Bruttomiete pro m2 und Jahr\"].isna())\n",
    "    & (df[\"Anzahl Zimmer\"] == 6)\n",
    ")\n",
    "\n",
    "a7 = (\n",
    "    (df[\"Nettomiete pro m2 und Jahr\"].isna())\n",
    "    & (~df[\"Bruttomiete pro m2 und Jahr\"].isna())\n",
    "    & (df[\"Anzahl Zimmer\"] == 7)\n",
    ")\n",
    "\n",
    "a8 = (\n",
    "    (df[\"Nettomiete pro m2 und Jahr\"].isna())\n",
    "    & (~df[\"Bruttomiete pro m2 und Jahr\"].isna())\n",
    "    & (df[\"Anzahl Zimmer\"] == 8)\n",
    ")\n",
    "\n",
    "a9 = (\n",
    "    (df[\"Nettomiete pro m2 und Jahr\"].isna())\n",
    "    & (~df[\"Bruttomiete pro m2 und Jahr\"].isna())\n",
    "    & (df[\"Anzahl Zimmer\"] == 9)\n",
    ")\n",
    "\n",
    "a10 = (\n",
    "    (df[\"Nettomiete pro m2 und Jahr\"].isna())\n",
    "    & (~df[\"Bruttomiete pro m2 und Jahr\"].isna())\n",
    "    & (df[\"Anzahl Zimmer\"] == 10)\n",
    ")"
   ]
  },
  {
   "cell_type": "code",
   "execution_count": 42,
   "metadata": {},
   "outputs": [],
   "source": [
    "# fill the missing net rent values with the gross rent\n",
    "# minus the average of the additional costs of an apartment\n",
    "df.loc[a1, \"Nettomiete pro m2 und Jahr\"] = df.loc[\n",
    "    a1, \"Nettomiete pro m2 und Jahr\"\n",
    "].fillna(df.loc[a1, \"Bruttomiete pro m2 und Jahr\"] - df_diff[1])\n",
    "\n",
    "df.loc[a2, \"Nettomiete pro m2 und Jahr\"] = df.loc[\n",
    "    a2, \"Nettomiete pro m2 und Jahr\"\n",
    "].fillna(df.loc[a2, \"Bruttomiete pro m2 und Jahr\"] - df_diff[2])\n",
    "\n",
    "df.loc[a3, \"Nettomiete pro m2 und Jahr\"] = df.loc[\n",
    "    a3, \"Nettomiete pro m2 und Jahr\"\n",
    "].fillna(df.loc[a3, \"Bruttomiete pro m2 und Jahr\"] - df_diff[3])\n",
    "\n",
    "df.loc[a4, \"Nettomiete pro m2 und Jahr\"] = df.loc[\n",
    "    a4, \"Nettomiete pro m2 und Jahr\"\n",
    "].fillna(df.loc[a4, \"Bruttomiete pro m2 und Jahr\"] - df_diff[4])\n",
    "\n",
    "df.loc[a5, \"Nettomiete pro m2 und Jahr\"] = df.loc[\n",
    "    a5, \"Nettomiete pro m2 und Jahr\"\n",
    "].fillna(df.loc[a5, \"Bruttomiete pro m2 und Jahr\"] - df_diff[5])\n",
    "\n",
    "df.loc[a6, \"Nettomiete pro m2 und Jahr\"] = df.loc[\n",
    "    a6, \"Nettomiete pro m2 und Jahr\"\n",
    "].fillna(df.loc[a6, \"Bruttomiete pro m2 und Jahr\"] - df_diff[6])\n",
    "\n",
    "df.loc[a7, \"Nettomiete pro m2 und Jahr\"] = df.loc[\n",
    "    a7, \"Nettomiete pro m2 und Jahr\"\n",
    "].fillna(df.loc[a7, \"Bruttomiete pro m2 und Jahr\"] - df_diff[7])\n",
    "\n",
    "df.loc[a8, \"Nettomiete pro m2 und Jahr\"] = df.loc[\n",
    "    a8, \"Nettomiete pro m2 und Jahr\"\n",
    "].fillna(df.loc[a8, \"Bruttomiete pro m2 und Jahr\"] - df_diff[8])\n",
    "\n",
    "df.loc[a9, \"Nettomiete pro m2 und Jahr\"] = df.loc[\n",
    "    a9, \"Nettomiete pro m2 und Jahr\"\n",
    "].fillna(df.loc[a9, \"Bruttomiete pro m2 und Jahr\"] - df_diff[9])\n",
    "\n",
    "df.loc[a10, \"Nettomiete pro m2 und Jahr\"] = df.loc[\n",
    "    a10, \"Nettomiete pro m2 und Jahr\"\n",
    "].fillna(df.loc[a10, \"Bruttomiete pro m2 und Jahr\"] - df_diff[10])"
   ]
  },
  {
   "cell_type": "code",
   "execution_count": 43,
   "metadata": {},
   "outputs": [],
   "source": [
    "# fill rows with missing values with a calculated rent\n",
    "df[\"Nettomiete pro Monat\"] = df[\"Nettomiete pro Monat\"].fillna(\n",
    "    df[\"Nettomiete pro m2 und Jahr\"] / 12 * df[\"Wohnfläche\"]\n",
    ")\n",
    "\n",
    "df[\"Wohnfläche\"] = df[\"Wohnfläche\"].fillna(\n",
    "    df[\"Nettomiete pro Monat\"] / (df[\"Nettomiete pro m2 und Jahr\"] / 12)\n",
    ")"
   ]
  },
  {
   "cell_type": "code",
   "execution_count": 44,
   "metadata": {},
   "outputs": [
    {
     "data": {
      "text/plain": [
       "Bruttomiete pro m2 und Jahr    559188\n",
       "Nettomiete pro m2 und Jahr     523391\n",
       "Etage                          474831\n",
       "Nettomiete pro Monat           335250\n",
       "Wohnfläche                     295413\n",
       "Bruttomiete pro Monat          124664\n",
       "Anzahl Zimmer                   88750\n",
       "Breitengrad                         0\n",
       "Insertionsdauer                     0\n",
       "Längengrad                          0\n",
       "dtype: int64"
      ]
     },
     "execution_count": 44,
     "metadata": {},
     "output_type": "execute_result"
    }
   ],
   "source": [
    "# show missing values of type number\n",
    "df.select_dtypes(include=\"number\").isnull().sum().sort_values(ascending=False).head(10)"
   ]
  },
  {
   "cell_type": "markdown",
   "metadata": {},
   "source": [
    "__rent per month__"
   ]
  },
  {
   "cell_type": "markdown",
   "metadata": {},
   "source": [
    "Now I will do the same with the net rent per month."
   ]
  },
  {
   "cell_type": "code",
   "execution_count": 45,
   "metadata": {},
   "outputs": [
    {
     "data": {
      "text/plain": [
       "(221553, 23)"
      ]
     },
     "execution_count": 45,
     "metadata": {},
     "output_type": "execute_result"
    }
   ],
   "source": [
    "# show the amount of data with missing net rent but present values for gross rent and number of rooms\n",
    "df[\n",
    "    (df[\"Nettomiete pro Monat\"].isna())\n",
    "    & (~df[\"Bruttomiete pro Monat\"].isna())\n",
    "    & (~df[\"Anzahl Zimmer\"].isna())\n",
    "].shape"
   ]
  },
  {
   "cell_type": "code",
   "execution_count": 46,
   "metadata": {},
   "outputs": [
    {
     "data": {
      "text/plain": [
       "Anzahl Zimmer\n",
       "1.0      80.0\n",
       "2.0     120.0\n",
       "3.0     153.0\n",
       "4.0     211.0\n",
       "5.0     180.0\n",
       "6.0      80.0\n",
       "7.0     -10.0\n",
       "8.0    -200.0\n",
       "9.0    -490.0\n",
       "10.0   -226.0\n",
       "dtype: float64"
      ]
     },
     "execution_count": 46,
     "metadata": {},
     "output_type": "execute_result"
    }
   ],
   "source": [
    "# show the median of rent difference between gross and net rent per number of rooms\n",
    "df_diff_2 = df.groupby([\"Anzahl Zimmer\"])[\"Bruttomiete pro Monat\"].median().round(\n",
    "    1\n",
    ") - df.groupby([\"Anzahl Zimmer\"])[\"Nettomiete pro Monat\"].median().round(1)\n",
    "df_diff_2"
   ]
  },
  {
   "cell_type": "markdown",
   "metadata": {},
   "source": [
    "The average additional costs per month can not be negative. Therefore I will only calculate the rents for apartments with up to 6 rooms."
   ]
  },
  {
   "cell_type": "code",
   "execution_count": 47,
   "metadata": {},
   "outputs": [],
   "source": [
    "# define the subsets based on the different number of rooms\n",
    "b1 = (\n",
    "    (df[\"Nettomiete pro Monat\"].isna())\n",
    "    & (~df[\"Bruttomiete pro Monat\"].isna())\n",
    "    & (df[\"Anzahl Zimmer\"] == 1)\n",
    ")\n",
    "\n",
    "b2 = (\n",
    "    (df[\"Nettomiete pro Monat\"].isna())\n",
    "    & (~df[\"Bruttomiete pro Monat\"].isna())\n",
    "    & (df[\"Anzahl Zimmer\"] == 2)\n",
    ")\n",
    "\n",
    "b3 = (\n",
    "    (df[\"Nettomiete pro Monat\"].isna())\n",
    "    & (~df[\"Bruttomiete pro Monat\"].isna())\n",
    "    & (df[\"Anzahl Zimmer\"] == 3)\n",
    ")\n",
    "\n",
    "b4 = (\n",
    "    (df[\"Nettomiete pro Monat\"].isna())\n",
    "    & (~df[\"Bruttomiete pro Monat\"].isna())\n",
    "    & (df[\"Anzahl Zimmer\"] == 4)\n",
    ")\n",
    "\n",
    "b5 = (\n",
    "    (df[\"Nettomiete pro Monat\"].isna())\n",
    "    & (~df[\"Bruttomiete pro Monat\"].isna())\n",
    "    & (df[\"Anzahl Zimmer\"] == 5)\n",
    ")\n",
    "\n",
    "b6 = (\n",
    "    (df[\"Nettomiete pro Monat\"].isna())\n",
    "    & (~df[\"Bruttomiete pro Monat\"].isna())\n",
    "    & (df[\"Anzahl Zimmer\"] == 6)\n",
    ")"
   ]
  },
  {
   "cell_type": "code",
   "execution_count": 48,
   "metadata": {},
   "outputs": [],
   "source": [
    "# fill the missing net rent values with the gross rent minus the average of the additional costs of an apartment\n",
    "df.loc[b1, \"Nettomiete pro Monat\"] = df.loc[b1, \"Nettomiete pro Monat\"].fillna(\n",
    "    df.loc[b1, \"Bruttomiete pro Monat\"] - df_diff_2[1]\n",
    ")\n",
    "\n",
    "df.loc[b2, \"Nettomiete pro Monat\"] = df.loc[b2, \"Nettomiete pro Monat\"].fillna(\n",
    "    df.loc[b2, \"Bruttomiete pro Monat\"] - df_diff_2[2]\n",
    ")\n",
    "\n",
    "df.loc[b3, \"Nettomiete pro Monat\"] = df.loc[b3, \"Nettomiete pro Monat\"].fillna(\n",
    "    df.loc[b3, \"Bruttomiete pro Monat\"] - df_diff_2[3]\n",
    ")\n",
    "\n",
    "df.loc[b4, \"Nettomiete pro Monat\"] = df.loc[b4, \"Nettomiete pro Monat\"].fillna(\n",
    "    df.loc[b4, \"Bruttomiete pro Monat\"] - df_diff_2[4]\n",
    ")\n",
    "\n",
    "df.loc[b5, \"Nettomiete pro Monat\"] = df.loc[b5, \"Nettomiete pro Monat\"].fillna(\n",
    "    df.loc[b5, \"Bruttomiete pro Monat\"] - df_diff_2[5]\n",
    ")\n",
    "\n",
    "df.loc[b6, \"Nettomiete pro Monat\"] = df.loc[b6, \"Nettomiete pro Monat\"].fillna(\n",
    "    df.loc[b6, \"Bruttomiete pro Monat\"] - df_diff_2[6]\n",
    ")"
   ]
  },
  {
   "cell_type": "code",
   "execution_count": 49,
   "metadata": {},
   "outputs": [],
   "source": [
    "# fill rows with missing values with a calculated rent\n",
    "df[\"Nettomiete pro m2 und Jahr\"] = df[\"Nettomiete pro m2 und Jahr\"].fillna(\n",
    "    df[\"Nettomiete pro Monat\"] * 12 / df[\"Wohnfläche\"]\n",
    ")\n",
    "\n",
    "df[\"Wohnfläche\"] = df[\"Wohnfläche\"].fillna(\n",
    "    df[\"Nettomiete pro Monat\"] / (df[\"Nettomiete pro m2 und Jahr\"] / 12)\n",
    ")"
   ]
  },
  {
   "cell_type": "code",
   "execution_count": 50,
   "metadata": {},
   "outputs": [
    {
     "data": {
      "text/plain": [
       "Bruttomiete pro m2 und Jahr    559188\n",
       "Etage                          474831\n",
       "Nettomiete pro m2 und Jahr     371268\n",
       "Wohnfläche                     295385\n",
       "Bruttomiete pro Monat          124664\n",
       "Nettomiete pro Monat           116252\n",
       "Anzahl Zimmer                   88750\n",
       "Minergie                            0\n",
       "Verfügbarkeitskategorie             0\n",
       "Rollstuhlgängig                     0\n",
       "dtype: int64"
      ]
     },
     "execution_count": 50,
     "metadata": {},
     "output_type": "execute_result"
    }
   ],
   "source": [
    "# show missing values per column\n",
    "df.isnull().sum().sort_values(ascending=False).head(10)"
   ]
  },
  {
   "cell_type": "markdown",
   "metadata": {},
   "source": [
    "The columns gross rent per month and gross rent per m2 and year are of no further use. The contain a very similar information to the net rents, but have a lot of missing values. Therefore I will drop them. I believe the column \"floor\" will also not add any value to the analysis of the duration of inseration. Therefore I will delete it aswell. For the rest of the missing data, I will drop the missing rows which will lead into a decrease of the size of my dataframe. "
   ]
  },
  {
   "cell_type": "code",
   "execution_count": 51,
   "metadata": {},
   "outputs": [],
   "source": [
    "# drop column\n",
    "df = df.drop([\"Bruttomiete pro m2 und Jahr\", \"Bruttomiete pro Monat\", \"Etage\"], axis=1)"
   ]
  },
  {
   "cell_type": "code",
   "execution_count": 52,
   "metadata": {},
   "outputs": [
    {
     "name": "stdout",
     "output_type": "stream",
     "text": [
      "Shape before cleaning: (1472198, 20)\n",
      "Shape after cleaning: (1078483, 20)\n"
     ]
    }
   ],
   "source": [
    "# Shape of feature matrix before cleaning\n",
    "print(\"Shape before cleaning:\", df.shape)\n",
    "\n",
    "# drop the completly empty rows\n",
    "df.dropna(axis=0, inplace=True)\n",
    "\n",
    "# Shape of feature matrix before cleaning\n",
    "print(\"Shape after cleaning:\", df.shape)"
   ]
  },
  {
   "cell_type": "code",
   "execution_count": 53,
   "metadata": {},
   "outputs": [
    {
     "data": {
      "text/plain": [
       "0"
      ]
     },
     "execution_count": 53,
     "metadata": {},
     "output_type": "execute_result"
    }
   ],
   "source": [
    "df.isna().sum().sum()"
   ]
  },
  {
   "cell_type": "markdown",
   "metadata": {},
   "source": [
    "### Rare values"
   ]
  },
  {
   "cell_type": "markdown",
   "metadata": {},
   "source": [
    "I will define rare values for nominal data as category that appear less 2% of the time. I will map these rare values to “Other”. I want to do this with all my categorical data of type nominal.\n",
    "\n",
    "The idea behind it is to have one category for all the rare values instead of a multitude. When I later will apply one-hot encoding, this will prevent having too many categories."
   ]
  },
  {
   "cell_type": "code",
   "execution_count": 54,
   "metadata": {},
   "outputs": [
    {
     "name": "stdout",
     "output_type": "stream",
     "text": [
      "Type object: Index(['Gemeinde', 'Nutzung', 'Zustand', 'Aussicht', 'Balkon', 'Bauperiode',\n",
      "       'Minergie', 'Nutzung detailliert', 'Parkplatz aussen',\n",
      "       'Parkplatz innen', 'Rollstuhlgängig', 'Verfügbarkeitskategorie'],\n",
      "      dtype='object')\n"
     ]
    }
   ],
   "source": [
    "print(f\"Type object: {df.select_dtypes(include='object').columns}\")"
   ]
  },
  {
   "cell_type": "code",
   "execution_count": 55,
   "metadata": {},
   "outputs": [],
   "source": [
    "df_nominal = df[\n",
    "    [\n",
    "        \"Nutzung\",\n",
    "        \"Zustand\",\n",
    "        \"Aussicht\",\n",
    "        \"Balkon\",\n",
    "        \"Bauperiode\",\n",
    "        \"Minergie\",\n",
    "        \"Nutzung detailliert\",\n",
    "        \"Parkplatz aussen\",\n",
    "        \"Parkplatz innen\",\n",
    "        \"Rollstuhlgängig\",\n",
    "        \"Verfügbarkeitskategorie\",\n",
    "    ]\n",
    "]"
   ]
  },
  {
   "cell_type": "code",
   "execution_count": 56,
   "metadata": {},
   "outputs": [
    {
     "data": {
      "text/plain": [
       "41.0         0.0%\n",
       "50.0         0.0%\n",
       "30.0         0.0%\n",
       "71.0         0.0%\n",
       "20.0         0.0%\n",
       "49.0         0.0%\n",
       "28.0         0.0%\n",
       "70.0         0.0%\n",
       "43.0         0.0%\n",
       "26.0         0.0%\n",
       "69.0         0.0%\n",
       "21.0        0.01%\n",
       "13.0        0.02%\n",
       "65.0        0.02%\n",
       "22.0        0.03%\n",
       "85.0        0.03%\n",
       "17.0        0.06%\n",
       "52.0        0.06%\n",
       "1.0          0.1%\n",
       "unknown     0.12%\n",
       "19.0        0.13%\n",
       "10.0        0.25%\n",
       "16.0        0.63%\n",
       "11.0        0.72%\n",
       "15.0         0.8%\n",
       "9.0         0.81%\n",
       "7.0         0.85%\n",
       "6.0         2.06%\n",
       "14.0        2.99%\n",
       "8.0         3.04%\n",
       "4.0          3.2%\n",
       "5.0         4.04%\n",
       "3.0         4.32%\n",
       "2.0        75.68%\n",
       "Name: Nutzung detailliert, dtype: object"
      ]
     },
     "execution_count": 56,
     "metadata": {},
     "output_type": "execute_result"
    }
   ],
   "source": [
    "# show frequency of a selected feature (in %)\n",
    "df[\"Nutzung detailliert\"].value_counts(ascending=True, normalize=True).mul(100).round(\n",
    "    2\n",
    ").astype(str) + \"%\""
   ]
  },
  {
   "cell_type": "code",
   "execution_count": 57,
   "metadata": {},
   "outputs": [],
   "source": [
    "# set category to \"other\" if frequency is lower than 2%\n",
    "cat_vars_new = df_nominal.apply(\n",
    "    lambda x: x.mask(x.map(x.value_counts(normalize=True)) < 0.02, \"other\"), axis=0\n",
    ")"
   ]
  },
  {
   "cell_type": "code",
   "execution_count": 58,
   "metadata": {},
   "outputs": [
    {
     "data": {
      "text/plain": [
       "6.0       2.06%\n",
       "14.0      2.99%\n",
       "8.0       3.04%\n",
       "4.0        3.2%\n",
       "5.0       4.04%\n",
       "3.0       4.32%\n",
       "other     4.67%\n",
       "2.0      75.68%\n",
       "Name: Nutzung detailliert, dtype: object"
      ]
     },
     "execution_count": 58,
     "metadata": {},
     "output_type": "execute_result"
    }
   ],
   "source": [
    "# show frequency of a selected feature (in %)\n",
    "cat_vars_new[\"Nutzung detailliert\"].value_counts(ascending=True, normalize=True).mul(\n",
    "    100\n",
    ").round(2).astype(str) + \"%\""
   ]
  },
  {
   "cell_type": "code",
   "execution_count": 59,
   "metadata": {},
   "outputs": [
    {
     "name": "stdout",
     "output_type": "stream",
     "text": [
      "Example: number of unique values before the change: 34\n",
      "Example: number of unique values after the change: 8\n"
     ]
    }
   ],
   "source": [
    "# reflect the changes in the original data frame\n",
    "\n",
    "# example: show number of unique values before the chance\n",
    "print(\n",
    "    \"Example: number of unique values before the change:\",\n",
    "    df_nominal[\"Nutzung detailliert\"].nunique(),\n",
    ")\n",
    "\n",
    "# drop old nominal columns\n",
    "df.drop(df_nominal, axis=1, inplace=True)\n",
    "\n",
    "# add new categorical columns to old dataframe\n",
    "df = df.join(cat_vars_new)\n",
    "\n",
    "# example: show number of unique values after the chance\n",
    "print(\n",
    "    \"Example: number of unique values after the change:\",\n",
    "    df[\"Nutzung detailliert\"].nunique(),\n",
    ")"
   ]
  },
  {
   "cell_type": "markdown",
   "metadata": {},
   "source": [
    "### Outliers"
   ]
  },
  {
   "cell_type": "code",
   "execution_count": 60,
   "metadata": {},
   "outputs": [],
   "source": [
    "# define selected features\n",
    "df_selected = [\n",
    "    \"Nettomiete pro m2 und Jahr\",\n",
    "    \"Nettomiete pro Monat\",\n",
    "    \"Insertionsdauer\",\n",
    "    \"Wohnfläche\",\n",
    "]"
   ]
  },
  {
   "cell_type": "code",
   "execution_count": 61,
   "metadata": {},
   "outputs": [
    {
     "data": {
      "text/html": [
       "<div>\n",
       "<style scoped>\n",
       "    .dataframe tbody tr th:only-of-type {\n",
       "        vertical-align: middle;\n",
       "    }\n",
       "\n",
       "    .dataframe tbody tr th {\n",
       "        vertical-align: top;\n",
       "    }\n",
       "\n",
       "    .dataframe thead th {\n",
       "        text-align: right;\n",
       "    }\n",
       "</style>\n",
       "<table border=\"1\" class=\"dataframe\">\n",
       "  <thead>\n",
       "    <tr style=\"text-align: right;\">\n",
       "      <th></th>\n",
       "      <th>min</th>\n",
       "      <th>max</th>\n",
       "      <th>mean</th>\n",
       "      <th>25%</th>\n",
       "      <th>50%</th>\n",
       "      <th>75%</th>\n",
       "    </tr>\n",
       "  </thead>\n",
       "  <tbody>\n",
       "    <tr>\n",
       "      <th>Nettomiete pro m2 und Jahr</th>\n",
       "      <td>-1428.0</td>\n",
       "      <td>11999040.0</td>\n",
       "      <td>285.5</td>\n",
       "      <td>186.2</td>\n",
       "      <td>224.7</td>\n",
       "      <td>278.8</td>\n",
       "    </tr>\n",
       "    <tr>\n",
       "      <th>Nettomiete pro Monat</th>\n",
       "      <td>-210.0</td>\n",
       "      <td>11699820.0</td>\n",
       "      <td>1755.6</td>\n",
       "      <td>1160.0</td>\n",
       "      <td>1490.0</td>\n",
       "      <td>1950.0</td>\n",
       "    </tr>\n",
       "    <tr>\n",
       "      <th>Insertionsdauer</th>\n",
       "      <td>1.0</td>\n",
       "      <td>2194.0</td>\n",
       "      <td>81.4</td>\n",
       "      <td>13.0</td>\n",
       "      <td>29.0</td>\n",
       "      <td>79.0</td>\n",
       "    </tr>\n",
       "    <tr>\n",
       "      <th>Wohnfläche</th>\n",
       "      <td>1.0</td>\n",
       "      <td>100000.0</td>\n",
       "      <td>87.5</td>\n",
       "      <td>61.0</td>\n",
       "      <td>82.0</td>\n",
       "      <td>107.0</td>\n",
       "    </tr>\n",
       "  </tbody>\n",
       "</table>\n",
       "</div>"
      ],
      "text/plain": [
       "                                min         max    mean     25%     50%  \\\n",
       "Nettomiete pro m2 und Jahr  -1428.0  11999040.0   285.5   186.2   224.7   \n",
       "Nettomiete pro Monat         -210.0  11699820.0  1755.6  1160.0  1490.0   \n",
       "Insertionsdauer                 1.0      2194.0    81.4    13.0    29.0   \n",
       "Wohnfläche                      1.0    100000.0    87.5    61.0    82.0   \n",
       "\n",
       "                               75%  \n",
       "Nettomiete pro m2 und Jahr   278.8  \n",
       "Nettomiete pro Monat        1950.0  \n",
       "Insertionsdauer               79.0  \n",
       "Wohnfläche                   107.0  "
      ]
     },
     "execution_count": 61,
     "metadata": {},
     "output_type": "execute_result"
    }
   ],
   "source": [
    "# show statistics of the selected features\n",
    "df[df_selected].describe().T[[\"min\", \"max\", \"mean\", \"25%\", \"50%\", \"75%\"]].apply(\n",
    "    lambda s: s.apply(\"{0:.1f}\".format)\n",
    ")"
   ]
  },
  {
   "cell_type": "markdown",
   "metadata": {},
   "source": [
    "There are clearly some outliers I have to deal with, like the surface area being only 1 square meter. These are inplausible values, which I will exclude. "
   ]
  },
  {
   "cell_type": "markdown",
   "metadata": {},
   "source": [
    "These are the values I consider as inpausible:\n",
    "* I will drop all the rows where the surface area is below 15 m2 and above 450 m2.\n",
    "* I will drop all the rows where the rent per square meter and year is over CHF 900.- and under 50.-.\n",
    "* I will drop all the rows where the rents per month is over CHF 10'000.- and under 300.-\n",
    "* Based on my experience in the field of real estate advertisements, I will define all advertisements with a duration of insertion greater than one years and less than 3 days as outliers. These are extreme values and are outside the expected range."
   ]
  },
  {
   "cell_type": "code",
   "execution_count": 62,
   "metadata": {},
   "outputs": [
    {
     "name": "stdout",
     "output_type": "stream",
     "text": [
      "Shape of df before outlier correction: (1078483, 20)\n",
      "Shape of df after outlier correction: (963101, 20)\n"
     ]
    }
   ],
   "source": [
    "# Current shape\n",
    "print(\"Shape of df before outlier correction:\", df.shape)\n",
    "\n",
    "# dropping certain rows\n",
    "df = df.drop(df[df[\"Wohnfläche\"] >= 450].index)\n",
    "df = df.drop(df[df[\"Wohnfläche\"] <= 15].index)\n",
    "df = df.drop(df[df[\"Nettomiete pro m2 und Jahr\"] >= 900].index)\n",
    "df = df.drop(df[df[\"Nettomiete pro m2 und Jahr\"] < 50].index)\n",
    "df = df.drop(df[df[\"Nettomiete pro Monat\"] >= 10000].index)\n",
    "df = df.drop(df[df[\"Nettomiete pro Monat\"] < 300].index)\n",
    "df = df.drop(df[df[\"Insertionsdauer\"] >= 365].index)\n",
    "df = df.drop(df[df[\"Insertionsdauer\"] < 3].index)\n",
    "\n",
    "# Current shape\n",
    "print(\"Shape of df after outlier correction:\", df.shape)"
   ]
  },
  {
   "cell_type": "code",
   "execution_count": 63,
   "metadata": {},
   "outputs": [
    {
     "data": {
      "text/html": [
       "<div>\n",
       "<style scoped>\n",
       "    .dataframe tbody tr th:only-of-type {\n",
       "        vertical-align: middle;\n",
       "    }\n",
       "\n",
       "    .dataframe tbody tr th {\n",
       "        vertical-align: top;\n",
       "    }\n",
       "\n",
       "    .dataframe thead th {\n",
       "        text-align: right;\n",
       "    }\n",
       "</style>\n",
       "<table border=\"1\" class=\"dataframe\">\n",
       "  <thead>\n",
       "    <tr style=\"text-align: right;\">\n",
       "      <th></th>\n",
       "      <th>min</th>\n",
       "      <th>max</th>\n",
       "      <th>mean</th>\n",
       "      <th>25%</th>\n",
       "      <th>50%</th>\n",
       "      <th>75%</th>\n",
       "    </tr>\n",
       "  </thead>\n",
       "  <tbody>\n",
       "    <tr>\n",
       "      <th>Nettomiete pro m2 und Jahr</th>\n",
       "      <td>50.07</td>\n",
       "      <td>897.33</td>\n",
       "      <td>243.19</td>\n",
       "      <td>186.67</td>\n",
       "      <td>224.79</td>\n",
       "      <td>277.65</td>\n",
       "    </tr>\n",
       "    <tr>\n",
       "      <th>Nettomiete pro Monat</th>\n",
       "      <td>300.00</td>\n",
       "      <td>9975.00</td>\n",
       "      <td>1697.04</td>\n",
       "      <td>1180.00</td>\n",
       "      <td>1500.00</td>\n",
       "      <td>1950.00</td>\n",
       "    </tr>\n",
       "    <tr>\n",
       "      <th>Insertionsdauer</th>\n",
       "      <td>3.00</td>\n",
       "      <td>364.00</td>\n",
       "      <td>56.88</td>\n",
       "      <td>14.00</td>\n",
       "      <td>29.00</td>\n",
       "      <td>72.00</td>\n",
       "    </tr>\n",
       "    <tr>\n",
       "      <th>Wohnfläche</th>\n",
       "      <td>15.00</td>\n",
       "      <td>446.00</td>\n",
       "      <td>88.02</td>\n",
       "      <td>62.00</td>\n",
       "      <td>83.00</td>\n",
       "      <td>108.00</td>\n",
       "    </tr>\n",
       "  </tbody>\n",
       "</table>\n",
       "</div>"
      ],
      "text/plain": [
       "                               min      max     mean      25%      50%  \\\n",
       "Nettomiete pro m2 und Jahr   50.07   897.33   243.19   186.67   224.79   \n",
       "Nettomiete pro Monat        300.00  9975.00  1697.04  1180.00  1500.00   \n",
       "Insertionsdauer               3.00   364.00    56.88    14.00    29.00   \n",
       "Wohnfläche                   15.00   446.00    88.02    62.00    83.00   \n",
       "\n",
       "                                75%  \n",
       "Nettomiete pro m2 und Jahr   277.65  \n",
       "Nettomiete pro Monat        1950.00  \n",
       "Insertionsdauer               72.00  \n",
       "Wohnfläche                   108.00  "
      ]
     },
     "execution_count": 63,
     "metadata": {},
     "output_type": "execute_result"
    }
   ],
   "source": [
    "# show statistics of the features\n",
    "df[df_selected].describe().T[[\"min\", \"max\", \"mean\", \"25%\", \"50%\", \"75%\"]].apply(\n",
    "    lambda s: s.apply(\"{0:.2f}\".format)\n",
    ")"
   ]
  },
  {
   "cell_type": "markdown",
   "metadata": {},
   "source": [
    "#### Z-scores"
   ]
  },
  {
   "cell_type": "markdown",
   "metadata": {},
   "source": [
    "In a next step, I will use z-scores for some features to detect outliers and deleting them. If a z-score returned is larger than 3 that the value is quite unusual. I will apply the z-scores grouped by number of rooms, because both the surface area and the rent is highly depending on the number of rooms."
   ]
  },
  {
   "cell_type": "markdown",
   "metadata": {},
   "source": [
    "__z-scores on surface area__"
   ]
  },
  {
   "cell_type": "code",
   "execution_count": 64,
   "metadata": {},
   "outputs": [
    {
     "data": {
      "text/plain": [
       "True     950332\n",
       "False     12769\n",
       "Name: Wohnfläche, dtype: int64"
      ]
     },
     "execution_count": 64,
     "metadata": {},
     "output_type": "execute_result"
    }
   ],
   "source": [
    "from scipy.stats import zscore\n",
    "\n",
    "df.groupby([\"Anzahl Zimmer\"]).Wohnfläche.transform(zscore)\n",
    "\n",
    "# filter with z_scores larger than 3 to remove outliers\n",
    "W_zscores = df.groupby([\"Anzahl Zimmer\"]).Wohnfläche.transform(zscore)\n",
    "\n",
    "# convert each element to its absolute value\n",
    "W_abs_z_scores = np.abs(W_zscores)\n",
    "\n",
    "# create a boolean array with TRUE for values less than\n",
    "# 3 standard deviations from the mean\n",
    "W_filtered_entries = W_abs_z_scores < 3\n",
    "W_filtered_entries.value_counts()"
   ]
  },
  {
   "cell_type": "code",
   "execution_count": 65,
   "metadata": {},
   "outputs": [],
   "source": [
    "# Filter the original DataFrame with this result\n",
    "df = df[W_filtered_entries]"
   ]
  },
  {
   "cell_type": "code",
   "execution_count": 66,
   "metadata": {},
   "outputs": [
    {
     "name": "stdout",
     "output_type": "stream",
     "text": [
      "Anzahl Zimmer\n",
      "1.0      15.0\n",
      "2.0      16.0\n",
      "3.0      29.0\n",
      "4.0      42.0\n",
      "5.0      48.0\n",
      "6.0      50.0\n",
      "7.0      57.0\n",
      "8.0     100.0\n",
      "9.0     110.0\n",
      "10.0    110.0\n",
      "Name: Wohnfläche, dtype: float64\n"
     ]
    }
   ],
   "source": [
    "# show minimum of the surface area per room\n",
    "min = df.groupby([\"Anzahl Zimmer\"])[\"Wohnfläche\"].min()\n",
    "print(min.round(1))"
   ]
  },
  {
   "cell_type": "code",
   "execution_count": 67,
   "metadata": {},
   "outputs": [
    {
     "name": "stdout",
     "output_type": "stream",
     "text": [
      "Anzahl Zimmer\n",
      "1.0      85.0\n",
      "2.0     104.0\n",
      "3.0     136.0\n",
      "4.0     177.0\n",
      "5.0     235.0\n",
      "6.0     299.0\n",
      "7.0     354.0\n",
      "8.0     400.0\n",
      "9.0     420.0\n",
      "10.0    440.0\n",
      "Name: Wohnfläche, dtype: float64\n"
     ]
    }
   ],
   "source": [
    "# show maximum of the surface area per room\n",
    "max = df.groupby([\"Anzahl Zimmer\"])[\"Wohnfläche\"].max()\n",
    "print(max.round(1))"
   ]
  },
  {
   "cell_type": "markdown",
   "metadata": {},
   "source": [
    "The z-scores on the grouped data did eleminate the outliers, I believe the values are plausible. "
   ]
  },
  {
   "cell_type": "code",
   "execution_count": 68,
   "metadata": {},
   "outputs": [
    {
     "data": {
      "image/png": "[encoded data removed]",
      "text/plain": [
       "<Figure size 600x400 with 1 Axes>"
      ]
     },
     "metadata": {},
     "output_type": "display_data"
    }
   ],
   "source": [
    "# boxplot of surface area per room\n",
    "sns.set(rc={\"figure.figsize\": (6, 4)})\n",
    "\n",
    "# set a grey background\n",
    "sns.set(style=\"darkgrid\")\n",
    "\n",
    "chart = sns.boxplot(x=df[\"Anzahl Zimmer\"], y=df.Wohnfläche)\n",
    "chart.set_xticklabels(chart.get_xticklabels(), rotation=45)\n",
    "chart.set_title(\"Surface area per number of rooms\", fontsize=15)\n",
    "chart.set_xlabel(\"number of rooms\", fontsize=13)\n",
    "chart.set_ylabel(\"Surface area\", fontsize=13)\n",
    "chart.tick_params(labelsize=12)\n",
    "\n",
    "\n",
    "plt.show()"
   ]
  },
  {
   "cell_type": "markdown",
   "metadata": {},
   "source": [
    "__z-scores on net rent per m2 and year__"
   ]
  },
  {
   "cell_type": "code",
   "execution_count": 69,
   "metadata": {},
   "outputs": [
    {
     "data": {
      "text/plain": [
       "True     935467\n",
       "False     14865\n",
       "Name: Nettomiete pro m2 und Jahr, dtype: int64"
      ]
     },
     "execution_count": 69,
     "metadata": {},
     "output_type": "execute_result"
    }
   ],
   "source": [
    "df.groupby([\"Anzahl Zimmer\"])[\"Nettomiete pro m2 und Jahr\"].transform(zscore)\n",
    "\n",
    "# filter with z_scores larger than 3 to remove outliers\n",
    "R_zscores = df.groupby([\"Anzahl Zimmer\"])[\"Nettomiete pro m2 und Jahr\"].transform(\n",
    "    zscore\n",
    ")\n",
    "\n",
    "# convert each element to its absolute value\n",
    "R_abs_z_scores = np.abs(R_zscores)\n",
    "# create a boolean array with TRUE for values less than 3 standard deviations from the mean\n",
    "R_filtered_entries = R_abs_z_scores < 3\n",
    "R_filtered_entries.value_counts()"
   ]
  },
  {
   "cell_type": "code",
   "execution_count": 70,
   "metadata": {},
   "outputs": [],
   "source": [
    "# Filter the original DataFrame with this result\n",
    "df = df[R_filtered_entries]"
   ]
  },
  {
   "cell_type": "code",
   "execution_count": 71,
   "metadata": {},
   "outputs": [
    {
     "name": "stdout",
     "output_type": "stream",
     "text": [
      "Anzahl Zimmer\n",
      "1.0     54.9\n",
      "2.0     50.2\n",
      "3.0     50.2\n",
      "4.0     50.1\n",
      "5.0     50.2\n",
      "6.0     50.7\n",
      "7.0     59.0\n",
      "8.0     62.4\n",
      "9.0     78.3\n",
      "10.0    55.3\n",
      "Name: Nettomiete pro m2 und Jahr, dtype: float64\n"
     ]
    }
   ],
   "source": [
    "# show min and max of the rent per room\n",
    "min = df.groupby([\"Anzahl Zimmer\"])[\"Nettomiete pro m2 und Jahr\"].min()\n",
    "print(min.round(1))"
   ]
  },
  {
   "cell_type": "code",
   "execution_count": 72,
   "metadata": {},
   "outputs": [
    {
     "name": "stdout",
     "output_type": "stream",
     "text": [
      "Anzahl Zimmer\n",
      "1.0     720.0\n",
      "2.0     523.3\n",
      "3.0     439.5\n",
      "4.0     412.4\n",
      "5.0     464.5\n",
      "6.0     536.0\n",
      "7.0     568.0\n",
      "8.0     576.6\n",
      "9.0     540.0\n",
      "10.0    523.4\n",
      "Name: Nettomiete pro m2 und Jahr, dtype: float64\n"
     ]
    }
   ],
   "source": [
    "max = df.groupby([\"Anzahl Zimmer\"])[\"Nettomiete pro m2 und Jahr\"].max()\n",
    "print(max.round(1))"
   ]
  },
  {
   "cell_type": "code",
   "execution_count": 73,
   "metadata": {},
   "outputs": [
    {
     "data": {
      "image/png": "[encoded data removed]",
      "text/plain": [
       "<Figure size 600x400 with 1 Axes>"
      ]
     },
     "metadata": {},
     "output_type": "display_data"
    }
   ],
   "source": [
    "# boxplot of net rent per room\n",
    "sns.set(rc={\"figure.figsize\": (6, 4)})\n",
    "\n",
    "# set a grey background\n",
    "sns.set(style=\"darkgrid\")\n",
    "\n",
    "chart = sns.boxplot(x=df[\"Anzahl Zimmer\"], y=df[\"Nettomiete pro m2 und Jahr\"])\n",
    "chart.set_xticklabels(chart.get_xticklabels(), rotation=45)\n",
    "chart.set_title(\"Net rent per number of rooms\", fontsize=15)\n",
    "chart.set_xlabel(\"number of rooms\", fontsize=13)\n",
    "chart.set_ylabel(\"net rent/m2/a\", fontsize=13)\n",
    "chart.tick_params(labelsize=12)\n",
    "\n",
    "\n",
    "plt.show()"
   ]
  },
  {
   "cell_type": "markdown",
   "metadata": {},
   "source": [
    "__z-scores on net rent per month__"
   ]
  },
  {
   "cell_type": "code",
   "execution_count": 74,
   "metadata": {},
   "outputs": [
    {
     "data": {
      "text/plain": [
       "True     921886\n",
       "False     13581\n",
       "Name: Nettomiete pro Monat, dtype: int64"
      ]
     },
     "execution_count": 74,
     "metadata": {},
     "output_type": "execute_result"
    }
   ],
   "source": [
    "df.groupby([\"Anzahl Zimmer\"])[\"Nettomiete pro Monat\"].transform(zscore)\n",
    "\n",
    "# filter with z_scores larger than 3 to remove outliers\n",
    "M_zscores = df.groupby([\"Anzahl Zimmer\"])[\"Nettomiete pro Monat\"].transform(zscore)\n",
    "\n",
    "# convert each element to its absolute value\n",
    "M_abs_z_scores = np.abs(M_zscores)\n",
    "# create a boolean array with TRUE for values less than 3 standard deviations from the mean\n",
    "M_filtered_entries = M_abs_z_scores < 3\n",
    "M_filtered_entries.value_counts()"
   ]
  },
  {
   "cell_type": "code",
   "execution_count": 75,
   "metadata": {},
   "outputs": [],
   "source": [
    "# Filter the original DataFrame with this result\n",
    "df = df[M_filtered_entries]"
   ]
  },
  {
   "cell_type": "code",
   "execution_count": 76,
   "metadata": {},
   "outputs": [
    {
     "name": "stdout",
     "output_type": "stream",
     "text": [
      "Anzahl Zimmer\n",
      "1.0      300.0\n",
      "2.0      300.0\n",
      "3.0      300.0\n",
      "4.0      329.0\n",
      "5.0      350.0\n",
      "6.0      420.0\n",
      "7.0      670.0\n",
      "8.0     1040.0\n",
      "9.0     1450.0\n",
      "10.0     691.2\n",
      "Name: Nettomiete pro Monat, dtype: float64\n"
     ]
    }
   ],
   "source": [
    "# show min and max of the rent per room\n",
    "min = df.groupby([\"Anzahl Zimmer\"])[\"Nettomiete pro Monat\"].min()\n",
    "print(min.round(1))"
   ]
  },
  {
   "cell_type": "code",
   "execution_count": 77,
   "metadata": {},
   "outputs": [
    {
     "name": "stdout",
     "output_type": "stream",
     "text": [
      "Anzahl Zimmer\n",
      "1.0     1815.0\n",
      "2.0     2406.0\n",
      "3.0     2943.0\n",
      "4.0     3703.0\n",
      "5.0     5370.0\n",
      "6.0     7600.0\n",
      "7.0     9600.0\n",
      "8.0     9950.0\n",
      "9.0     9950.0\n",
      "10.0    9975.0\n",
      "Name: Nettomiete pro Monat, dtype: float64\n"
     ]
    }
   ],
   "source": [
    "max = df.groupby([\"Anzahl Zimmer\"])[\"Nettomiete pro Monat\"].max()\n",
    "print(max.round(1))"
   ]
  },
  {
   "cell_type": "code",
   "execution_count": 78,
   "metadata": {},
   "outputs": [
    {
     "data": {
      "image/png": "[encoded data removed]",
      "text/plain": [
       "<Figure size 600x400 with 1 Axes>"
      ]
     },
     "metadata": {},
     "output_type": "display_data"
    }
   ],
   "source": [
    "# boxplot of net rent per room\n",
    "sns.set(rc={\"figure.figsize\": (6, 4)})\n",
    "\n",
    "# set a grey background\n",
    "sns.set(style=\"darkgrid\")\n",
    "\n",
    "chart = sns.boxplot(x=df[\"Anzahl Zimmer\"], y=df[\"Nettomiete pro Monat\"])\n",
    "chart.set_xticklabels(chart.get_xticklabels(), rotation=45)\n",
    "# plt.ylim([0, 1000]) # limit y-axis to have a better view on the boxplots\n",
    "chart.set_title(\"Net rent per number of rooms\", fontsize=15)\n",
    "chart.set_xlabel(\"number of rooms\", fontsize=13)\n",
    "chart.set_ylabel(\"net rent / month\", fontsize=13)\n",
    "chart.tick_params(labelsize=12)\n",
    "\n",
    "\n",
    "plt.show()"
   ]
  },
  {
   "cell_type": "markdown",
   "metadata": {},
   "source": [
    "I have detected and deleted all the outliers."
   ]
  },
  {
   "cell_type": "markdown",
   "metadata": {},
   "source": [
    "### Feature engineering"
   ]
  },
  {
   "cell_type": "code",
   "execution_count": 79,
   "metadata": {},
   "outputs": [],
   "source": [
    "# Add two columns for the years and month to the dataset\n",
    "df[\"Jahr_Erste_Publikation\"] = df[\"Erste Publikation\"].apply(lambda x: \"%d\" % (x.year))\n",
    "df[\"Monat_Erste_Publikation\"] = pd.DatetimeIndex(df[\"Erste Publikation\"]).month"
   ]
  },
  {
   "cell_type": "code",
   "execution_count": 80,
   "metadata": {},
   "outputs": [],
   "source": [
    "df[[\"Jahr_Erste_Publikation\"]] = df[[\"Jahr_Erste_Publikation\"]].astype(int)\n",
    "df[[\"Monat_Erste_Publikation\"]] = df[[\"Monat_Erste_Publikation\"]].astype(int)"
   ]
  },
  {
   "cell_type": "markdown",
   "metadata": {},
   "source": [
    "I will drop the input feature ``Erste Publikation`` used for the new combinations of features, as they don’t add modeling power and can lead to ill-conditioning and numerical issues."
   ]
  },
  {
   "cell_type": "code",
   "execution_count": 81,
   "metadata": {},
   "outputs": [],
   "source": [
    "# drop column\n",
    "df = df.drop([\"Erste Publikation\"], axis=1)"
   ]
  },
  {
   "cell_type": "code",
   "execution_count": 82,
   "metadata": {},
   "outputs": [
    {
     "data": {
      "text/plain": [
       "(921886, 21)"
      ]
     },
     "execution_count": 82,
     "metadata": {},
     "output_type": "execute_result"
    }
   ],
   "source": [
    "df.shape"
   ]
  },
  {
   "cell_type": "markdown",
   "metadata": {},
   "source": [
    "### Log transformation"
   ]
  },
  {
   "cell_type": "code",
   "execution_count": 83,
   "metadata": {},
   "outputs": [
    {
     "data": {
      "image/png": "[encoded data removed]",
      "text/plain": [
       "<Figure size 1500x800 with 12 Axes>"
      ]
     },
     "metadata": {},
     "output_type": "display_data"
    }
   ],
   "source": [
    "# Plots the histogram for each numerical feature in a separate subplot\n",
    "df.select_dtypes(include=\"number\").hist(\n",
    "    bins=25, figsize=(15, 8), layout=(-1, 4), edgecolor=\"black\"\n",
    ")\n",
    "plt.tight_layout()\n",
    "plt.show()"
   ]
  },
  {
   "cell_type": "markdown",
   "metadata": {},
   "source": [
    "The plots above show that some features are not normally distributed but skewed."
   ]
  },
  {
   "cell_type": "code",
   "execution_count": 84,
   "metadata": {},
   "outputs": [
    {
     "data": {
      "text/plain": [
       "Anzahl Zimmer                 0.529103\n",
       "Breitengrad                  -0.713083\n",
       "Insertionsdauer               2.125900\n",
       "Längengrad                   -0.149165\n",
       "Nettomiete pro m2 und Jahr    1.394851\n",
       "Nettomiete pro Monat          2.663375\n",
       "Wohnfläche                    1.247673\n",
       "Jahr_Erste_Publikation       -0.025573\n",
       "Monat_Erste_Publikation       0.000011\n",
       "dtype: float64"
      ]
     },
     "execution_count": 84,
     "metadata": {},
     "output_type": "execute_result"
    }
   ],
   "source": [
    "# Checking the distribution with Skewness\n",
    "df.select_dtypes(include=\"number\").skew()"
   ]
  },
  {
   "cell_type": "code",
   "execution_count": 85,
   "metadata": {},
   "outputs": [],
   "source": [
    "# define the features with are positively skewed\n",
    "df_skewed = [\n",
    "    \"Nettomiete pro m2 und Jahr\",\n",
    "    \"Nettomiete pro Monat\",\n",
    "    \"Insertionsdauer\",\n",
    "    \"Wohnfläche\",\n",
    "]"
   ]
  },
  {
   "cell_type": "code",
   "execution_count": 86,
   "metadata": {},
   "outputs": [
    {
     "data": {
      "image/png": "[encoded data removed]",
      "text/plain": [
       "<Figure size 1500x400 with 4 Axes>"
      ]
     },
     "metadata": {},
     "output_type": "display_data"
    }
   ],
   "source": [
    "# Plots the histogram for each skewed feature in a separate subplot\n",
    "df[df_skewed].hist(bins=50, figsize=(15, 4), layout=(-1, 4), edgecolor=\"black\")\n",
    "plt.tight_layout()\n",
    "plt.show()"
   ]
  },
  {
   "cell_type": "markdown",
   "metadata": {},
   "source": [
    "The variables have a skewness above 1 and are thus highly positively skewed. In a next step, I will transform there right-skewed features by log-transforming them."
   ]
  },
  {
   "cell_type": "code",
   "execution_count": 87,
   "metadata": {},
   "outputs": [],
   "source": [
    "# performing logarithmic transformation by applying log(x) element-wise to a subset of columns\n",
    "df[df_skewed] = df[df_skewed].applymap(lambda x: np.log(x))"
   ]
  },
  {
   "cell_type": "code",
   "execution_count": 88,
   "metadata": {},
   "outputs": [
    {
     "data": {
      "image/png": "[encoded data removed]",
      "text/plain": [
       "<Figure size 1500x400 with 4 Axes>"
      ]
     },
     "metadata": {},
     "output_type": "display_data"
    }
   ],
   "source": [
    "# Plots the histogram for each skewed feature in a separate subplot\n",
    "df[df_skewed].hist(bins=50, figsize=(15, 4), layout=(-1, 4), edgecolor=\"black\")\n",
    "plt.tight_layout()\n",
    "plt.show()"
   ]
  },
  {
   "cell_type": "code",
   "execution_count": 89,
   "metadata": {},
   "outputs": [
    {
     "data": {
      "text/plain": [
       "(921886, 21)"
      ]
     },
     "execution_count": 89,
     "metadata": {},
     "output_type": "execute_result"
    }
   ],
   "source": [
    "df.shape"
   ]
  },
  {
   "cell_type": "code",
   "execution_count": 90,
   "metadata": {},
   "outputs": [
    {
     "data": {
      "text/plain": [
       "Anzahl Zimmer                 0.529103\n",
       "Breitengrad                  -0.713083\n",
       "Insertionsdauer               0.049645\n",
       "Längengrad                   -0.149165\n",
       "Nettomiete pro m2 und Jahr    0.157415\n",
       "Nettomiete pro Monat          0.176528\n",
       "Wohnfläche                   -0.553152\n",
       "Jahr_Erste_Publikation       -0.025573\n",
       "Monat_Erste_Publikation       0.000011\n",
       "dtype: float64"
      ]
     },
     "execution_count": 90,
     "metadata": {},
     "output_type": "execute_result"
    }
   ],
   "source": [
    "# Checking the distribution with Skewness\n",
    "df.select_dtypes(include=\"number\").skew()"
   ]
  },
  {
   "cell_type": "markdown",
   "metadata": {},
   "source": [
    "## Export"
   ]
  },
  {
   "cell_type": "code",
   "execution_count": 91,
   "metadata": {},
   "outputs": [],
   "source": [
    "# export to csv\n",
    "from pathlib import Path\n",
    "\n",
    "filepath = Path(\"Data/ads_after_eda.csv\")\n",
    "filepath.parent.mkdir(parents=True, exist_ok=True)\n",
    "df.to_csv(filepath, index=False)"
   ]
  }
 ],
 "metadata": {
  "kernelspec": {
   "display_name": "Python 3 (ipykernel)",
   "language": "python",
   "name": "python3"
  },
  "language_info": {
   "codemirror_mode": {
    "name": "ipython",
    "version": 3
   },
   "file_extension": ".py",
   "mimetype": "text/x-python",
   "name": "python",
   "nbconvert_exporter": "python",
   "pygments_lexer": "ipython3",
   "version": "3.9.7"
  }
 },
 "nbformat": 4,
 "nbformat_minor": 4
}
